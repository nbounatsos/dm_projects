{
 "cells": [
  {
   "cell_type": "code",
   "execution_count": 1,
   "outputs": [],
   "source": [
    "%reset -f"
   ],
   "metadata": {
    "collapsed": false,
    "pycharm": {
     "name": "#%%\n"
    }
   }
  },
  {
   "cell_type": "code",
   "execution_count": 48,
   "outputs": [],
   "source": [
    "import pandas as pd\n",
    "import matplotlib.pyplot as plt\n",
    "import numpy as np\n",
    "%matplotlib inline"
   ],
   "metadata": {
    "collapsed": false,
    "pycharm": {
     "name": "#%%\n"
    }
   }
  },
  {
   "cell_type": "code",
   "execution_count": 2,
   "outputs": [],
   "source": [
    "advanced_df = pd.read_csv(\"dataset_mood_smartphone (1).csv\", index_col=0)"
   ],
   "metadata": {
    "collapsed": false,
    "pycharm": {
     "name": "#%%\n"
    }
   }
  },
  {
   "cell_type": "code",
   "execution_count": 3,
   "outputs": [
    {
     "data": {
      "text/plain": "        id                     time variable  value\n1  AS14.01  2014-02-26 13:00:00.000     mood    6.0\n2  AS14.01  2014-02-26 15:00:00.000     mood    6.0\n3  AS14.01  2014-02-26 18:00:00.000     mood    6.0\n4  AS14.01  2014-02-26 21:00:00.000     mood    7.0\n5  AS14.01  2014-02-27 09:00:00.000     mood    6.0",
      "text/html": "<div>\n<style scoped>\n    .dataframe tbody tr th:only-of-type {\n        vertical-align: middle;\n    }\n\n    .dataframe tbody tr th {\n        vertical-align: top;\n    }\n\n    .dataframe thead th {\n        text-align: right;\n    }\n</style>\n<table border=\"1\" class=\"dataframe\">\n  <thead>\n    <tr style=\"text-align: right;\">\n      <th></th>\n      <th>id</th>\n      <th>time</th>\n      <th>variable</th>\n      <th>value</th>\n    </tr>\n  </thead>\n  <tbody>\n    <tr>\n      <th>1</th>\n      <td>AS14.01</td>\n      <td>2014-02-26 13:00:00.000</td>\n      <td>mood</td>\n      <td>6.0</td>\n    </tr>\n    <tr>\n      <th>2</th>\n      <td>AS14.01</td>\n      <td>2014-02-26 15:00:00.000</td>\n      <td>mood</td>\n      <td>6.0</td>\n    </tr>\n    <tr>\n      <th>3</th>\n      <td>AS14.01</td>\n      <td>2014-02-26 18:00:00.000</td>\n      <td>mood</td>\n      <td>6.0</td>\n    </tr>\n    <tr>\n      <th>4</th>\n      <td>AS14.01</td>\n      <td>2014-02-26 21:00:00.000</td>\n      <td>mood</td>\n      <td>7.0</td>\n    </tr>\n    <tr>\n      <th>5</th>\n      <td>AS14.01</td>\n      <td>2014-02-27 09:00:00.000</td>\n      <td>mood</td>\n      <td>6.0</td>\n    </tr>\n  </tbody>\n</table>\n</div>"
     },
     "execution_count": 3,
     "metadata": {},
     "output_type": "execute_result"
    }
   ],
   "source": [
    "advanced_df.head()"
   ],
   "metadata": {
    "collapsed": false,
    "pycharm": {
     "name": "#%%\n"
    }
   }
  },
  {
   "cell_type": "markdown",
   "source": [
    "## Define functions"
   ],
   "metadata": {
    "collapsed": false,
    "pycharm": {
     "name": "#%% md\n"
    }
   }
  },
  {
   "cell_type": "code",
   "execution_count": 9,
   "outputs": [],
   "source": [
    "# Check the shape of a dataframe, along with NaN values\n",
    "def check_df(df):\n",
    "    print(df.shape)\n",
    "    for item in df.columns:\n",
    "        print(item, ': ', type(df[item]), ', contains NaN:',df[item].isnull().values.any())\n",
    "\n",
    "# Plot all the variables vs time\n",
    "def plot_feature(df, variable_name, participant=None):\n",
    "    ylabel_text = f\"{variable_name} value\"\n",
    "    title_text = f\"{variable_name} vs time\"\n",
    "\n",
    "    if participant:\n",
    "        plot = df[(df['variable'] == variable_name) & (df['id'] == participant)]\n",
    "    else:\n",
    "        plot = df[(df['variable'] == variable_name)]\n",
    "\n",
    "    plt.plot(plot['time'], plot['value'], label = variable_name)\n",
    "    plt.xlabel('time')\n",
    "    plt.ylabel(ylabel_text)\n",
    "    plt.title(title_text)\n",
    "    plt.legend(loc='lower right')\n",
    "    plt.show()\n",
    "\n",
    "# Plot histograms of all the variables\n",
    "def plot_histograms(df, variable_name, participant=None):\n",
    "\n",
    "    if participant:\n",
    "        df[(df['variable'] == variable_name) & (df['id'] == participant)].plot(kind='hist', edgecolor='black', legend = variable_name)\n",
    "    else:\n",
    "        df[(df['variable'] == variable_name)].plot(kind='hist', edgecolor='black', legend = variable_name)\n",
    "    plt.xlabel(variable_name)\n",
    "    plt.legend(loc='lower right')\n",
    "\n",
    "# Remove outliers >0.75 and <0.25 of all values, excepting mood, call, sms etc\n",
    "def remove_outliers(df, column_name, multiplier=1.5):\n",
    "    q1 = df[column_name].quantile(0.05)\n",
    "    q2 = df[column_name].quantile(0.95)\n",
    "    iqr = q2 - q1\n",
    "    lower_bound = q1 - multiplier * iqr\n",
    "    upper_bound = q2 + multiplier * iqr\n",
    "    return df[(df[column_name] >= lower_bound) & (df[column_name] <= upper_bound)]\n",
    "\n",
    "# Check a dataframe for class balance\n",
    "def check_class_balance(df, target_column):\n",
    "    print(df[target_column].value_counts())"
   ],
   "metadata": {
    "collapsed": false,
    "pycharm": {
     "name": "#%%\n"
    }
   }
  },
  {
   "cell_type": "markdown",
   "source": [
    "## Check for dataframe shape and NaN values"
   ],
   "metadata": {
    "collapsed": false,
    "pycharm": {
     "name": "#%% md\n"
    }
   }
  },
  {
   "cell_type": "code",
   "execution_count": 5,
   "outputs": [
    {
     "name": "stdout",
     "output_type": "stream",
     "text": [
      "(376912, 4)\n",
      "id :  <class 'pandas.core.series.Series'> , contains NaN: False\n",
      "time :  <class 'pandas.core.series.Series'> , contains NaN: False\n",
      "variable :  <class 'pandas.core.series.Series'> , contains NaN: False\n",
      "value :  <class 'pandas.core.series.Series'> , contains NaN: True\n"
     ]
    }
   ],
   "source": [
    "check_df(advanced_df)"
   ],
   "metadata": {
    "collapsed": false,
    "pycharm": {
     "name": "#%%\n"
    }
   }
  },
  {
   "cell_type": "markdown",
   "source": [
    "## Checking which variables have NaN values"
   ],
   "metadata": {
    "collapsed": false,
    "pycharm": {
     "name": "#%% md\n"
    }
   }
  },
  {
   "cell_type": "code",
   "execution_count": 6,
   "outputs": [
    {
     "data": {
      "text/plain": "            id                     time            variable  value\n5709   AS14.01  2014-04-02 18:00:00.000  circumplex.arousal    NaN\n5731   AS14.01  2014-04-07 15:00:00.000  circumplex.arousal    NaN\n5773   AS14.01  2014-04-16 12:00:00.000  circumplex.arousal    NaN\n5797   AS14.01  2014-04-21 13:00:00.000  circumplex.arousal    NaN\n5836   AS14.01  2014-04-29 09:00:00.000  circumplex.arousal    NaN\n...        ...                      ...                 ...    ...\n16859  AS14.33  2014-05-16 20:00:00.000  circumplex.valence    NaN\n16862  AS14.33  2014-05-17 12:00:00.000  circumplex.valence    NaN\n16882  AS14.33  2014-05-21 16:00:00.000  circumplex.valence    NaN\n16899  AS14.33  2014-05-24 23:00:00.000  circumplex.valence    NaN\n16903  AS14.33  2014-05-25 21:00:00.000  circumplex.valence    NaN\n\n[202 rows x 4 columns]",
      "text/html": "<div>\n<style scoped>\n    .dataframe tbody tr th:only-of-type {\n        vertical-align: middle;\n    }\n\n    .dataframe tbody tr th {\n        vertical-align: top;\n    }\n\n    .dataframe thead th {\n        text-align: right;\n    }\n</style>\n<table border=\"1\" class=\"dataframe\">\n  <thead>\n    <tr style=\"text-align: right;\">\n      <th></th>\n      <th>id</th>\n      <th>time</th>\n      <th>variable</th>\n      <th>value</th>\n    </tr>\n  </thead>\n  <tbody>\n    <tr>\n      <th>5709</th>\n      <td>AS14.01</td>\n      <td>2014-04-02 18:00:00.000</td>\n      <td>circumplex.arousal</td>\n      <td>NaN</td>\n    </tr>\n    <tr>\n      <th>5731</th>\n      <td>AS14.01</td>\n      <td>2014-04-07 15:00:00.000</td>\n      <td>circumplex.arousal</td>\n      <td>NaN</td>\n    </tr>\n    <tr>\n      <th>5773</th>\n      <td>AS14.01</td>\n      <td>2014-04-16 12:00:00.000</td>\n      <td>circumplex.arousal</td>\n      <td>NaN</td>\n    </tr>\n    <tr>\n      <th>5797</th>\n      <td>AS14.01</td>\n      <td>2014-04-21 13:00:00.000</td>\n      <td>circumplex.arousal</td>\n      <td>NaN</td>\n    </tr>\n    <tr>\n      <th>5836</th>\n      <td>AS14.01</td>\n      <td>2014-04-29 09:00:00.000</td>\n      <td>circumplex.arousal</td>\n      <td>NaN</td>\n    </tr>\n    <tr>\n      <th>...</th>\n      <td>...</td>\n      <td>...</td>\n      <td>...</td>\n      <td>...</td>\n    </tr>\n    <tr>\n      <th>16859</th>\n      <td>AS14.33</td>\n      <td>2014-05-16 20:00:00.000</td>\n      <td>circumplex.valence</td>\n      <td>NaN</td>\n    </tr>\n    <tr>\n      <th>16862</th>\n      <td>AS14.33</td>\n      <td>2014-05-17 12:00:00.000</td>\n      <td>circumplex.valence</td>\n      <td>NaN</td>\n    </tr>\n    <tr>\n      <th>16882</th>\n      <td>AS14.33</td>\n      <td>2014-05-21 16:00:00.000</td>\n      <td>circumplex.valence</td>\n      <td>NaN</td>\n    </tr>\n    <tr>\n      <th>16899</th>\n      <td>AS14.33</td>\n      <td>2014-05-24 23:00:00.000</td>\n      <td>circumplex.valence</td>\n      <td>NaN</td>\n    </tr>\n    <tr>\n      <th>16903</th>\n      <td>AS14.33</td>\n      <td>2014-05-25 21:00:00.000</td>\n      <td>circumplex.valence</td>\n      <td>NaN</td>\n    </tr>\n  </tbody>\n</table>\n<p>202 rows × 4 columns</p>\n</div>"
     },
     "execution_count": 6,
     "metadata": {},
     "output_type": "execute_result"
    }
   ],
   "source": [
    "advanced_df.query('value.isnull()')"
   ],
   "metadata": {
    "collapsed": false,
    "pycharm": {
     "name": "#%%\n"
    }
   }
  },
  {
   "cell_type": "markdown",
   "source": [
    "### The only variables that contain NaN values are circumplex.arousal and circumplex.valence. Discussion needs to be made if these values should be removed or be converted to 0s"
   ],
   "metadata": {
    "collapsed": false,
    "pycharm": {
     "name": "#%% md\n"
    }
   }
  },
  {
   "cell_type": "markdown",
   "source": [
    "## Drop rows with NaN values"
   ],
   "metadata": {
    "collapsed": false,
    "pycharm": {
     "name": "#%% md\n"
    }
   }
  },
  {
   "cell_type": "code",
   "execution_count": 7,
   "outputs": [
    {
     "name": "stdout",
     "output_type": "stream",
     "text": [
      "(376710, 4)\n",
      "id :  <class 'pandas.core.series.Series'> , contains NaN: False\n",
      "time :  <class 'pandas.core.series.Series'> , contains NaN: False\n",
      "variable :  <class 'pandas.core.series.Series'> , contains NaN: False\n",
      "value :  <class 'pandas.core.series.Series'> , contains NaN: False\n"
     ]
    }
   ],
   "source": [
    "advanced_df.dropna(inplace=True)\n",
    "check_df(advanced_df)"
   ],
   "metadata": {
    "collapsed": false,
    "pycharm": {
     "name": "#%%\n"
    }
   }
  },
  {
   "cell_type": "markdown",
   "source": [
    "## Sort dataframe by id and time"
   ],
   "metadata": {
    "collapsed": false,
    "pycharm": {
     "name": "#%% md\n"
    }
   }
  },
  {
   "cell_type": "code",
   "execution_count": 8,
   "outputs": [],
   "source": [
    "advanced_df.sort_values(['id', 'time'], inplace=True)"
   ],
   "metadata": {
    "collapsed": false,
    "pycharm": {
     "name": "#%%\n"
    }
   }
  },
  {
   "cell_type": "markdown",
   "source": [
    "## Plot all features vs time for participant AS14.01"
   ],
   "metadata": {
    "collapsed": false,
    "pycharm": {
     "name": "#%% md\n"
    }
   }
  },
  {
   "cell_type": "code",
   "execution_count": null,
   "outputs": [],
   "source": [
    "for name in advanced_df['variable'].unique():\n",
    "    plot_feature(advanced_df, name, 'AS14.01')"
   ],
   "metadata": {
    "collapsed": false,
    "pycharm": {
     "name": "#%%\n"
    }
   }
  },
  {
   "cell_type": "markdown",
   "source": [
    "## Plot variable values to check for distribution for participant AS14.01"
   ],
   "metadata": {
    "collapsed": false,
    "pycharm": {
     "name": "#%% md\n"
    }
   }
  },
  {
   "cell_type": "code",
   "execution_count": null,
   "outputs": [],
   "source": [
    "for name in advanced_df['variable'].unique():\n",
    "    plot_histograms(advanced_df, name, 'AS14.01')"
   ],
   "metadata": {
    "collapsed": false,
    "pycharm": {
     "name": "#%%\n"
    }
   }
  },
  {
   "cell_type": "markdown",
   "source": [
    "## Calculate mean and sd for each variable"
   ],
   "metadata": {
    "collapsed": false,
    "pycharm": {
     "name": "#%% md\n"
    }
   }
  },
  {
   "cell_type": "code",
   "execution_count": null,
   "outputs": [],
   "source": [
    "result = advanced_df.groupby('variable')['value'].agg(['mean', 'std'])"
   ],
   "metadata": {
    "collapsed": false,
    "pycharm": {
     "name": "#%%\n"
    }
   }
  },
  {
   "cell_type": "markdown",
   "source": [
    "## Remove outliers for all participants"
   ],
   "metadata": {
    "collapsed": false,
    "pycharm": {
     "name": "#%% md\n"
    }
   }
  },
  {
   "cell_type": "code",
   "execution_count": 10,
   "outputs": [],
   "source": [
    "filtered_data = []\n",
    "exception_list = ['mood', 'sms', 'call', 'circumplex.arousal', 'circumplex.valence', 'activity']\n",
    "\n",
    "for name in advanced_df['variable'].unique():\n",
    "    if name in exception_list:\n",
    "        filtered_data.append(advanced_df[advanced_df['variable'] == name])\n",
    "        continue\n",
    "    else:\n",
    "        group = advanced_df[advanced_df['variable'] == name]\n",
    "        filtered_group = remove_outliers(group, 'value')\n",
    "        filtered_data.append(filtered_group)\n",
    "\n",
    "clean_df = pd.concat(filtered_data)"
   ],
   "metadata": {
    "collapsed": false,
    "pycharm": {
     "name": "#%%\n"
    }
   }
  },
  {
   "cell_type": "markdown",
   "source": [
    "## Check variable vs time after outliers removed"
   ],
   "metadata": {
    "collapsed": false,
    "pycharm": {
     "name": "#%% md\n"
    }
   }
  },
  {
   "cell_type": "code",
   "execution_count": null,
   "outputs": [],
   "source": [
    "for name in clean_df['variable'].unique():\n",
    "    plot_feature(clean_df, name, 'AS14.01')"
   ],
   "metadata": {
    "collapsed": false,
    "pycharm": {
     "name": "#%%\n"
    }
   }
  },
  {
   "cell_type": "markdown",
   "source": [
    "## Check variable distribution for participant AS14.01 with the new data"
   ],
   "metadata": {
    "collapsed": false,
    "pycharm": {
     "name": "#%% md\n"
    }
   }
  },
  {
   "cell_type": "code",
   "execution_count": null,
   "outputs": [],
   "source": [
    "for name in advanced_df['variable'].unique():\n",
    "    plot_histograms(advanced_df, name, 'AS14.01')"
   ],
   "metadata": {
    "collapsed": false,
    "pycharm": {
     "name": "#%%\n"
    }
   }
  },
  {
   "cell_type": "markdown",
   "source": [],
   "metadata": {
    "collapsed": false,
    "pycharm": {
     "name": "#%% md\n"
    }
   }
  },
  {
   "cell_type": "markdown",
   "source": [
    "# Data engineering"
   ],
   "metadata": {
    "collapsed": false,
    "pycharm": {
     "name": "#%% md\n"
    }
   }
  },
  {
   "cell_type": "markdown",
   "source": [
    "## For each variable, calculate the average value if the variable is continuous and the count if the value is categorical, for each day, and distinguish the variable column to different features."
   ],
   "metadata": {
    "collapsed": false,
    "pycharm": {
     "name": "#%% md\n"
    }
   }
  },
  {
   "cell_type": "code",
   "execution_count": 11,
   "outputs": [],
   "source": [
    "# Convert timestamp to datetime object and extract date\n",
    "clean_df['time'] = pd.to_datetime(clean_df['time']).dt.date\n",
    "\n",
    "# List of continuous and categorical variables\n",
    "continuous_vars = ['mood', 'screen', 'appCat.builtin', 'appCat.communication', 'appCat.entertainment', 'appCat.finance', 'appCat.game', 'appCat.office', 'appCat.other', 'appCat.social', 'appCat.travel', 'appCat.unknown', 'appCat.utilities', 'appCat.weather', 'circumplex.arousal', 'circumplex.valence', 'activity']\n",
    "categorical_vars = ['call', 'sms']\n",
    "\n",
    "# Define aggregation functions for continuous and categorical variables\n",
    "aggregations = {}\n",
    "for var in continuous_vars:\n",
    "    aggregations[var] = 'mean'\n",
    "for var in categorical_vars:\n",
    "    aggregations[var] = 'count'"
   ],
   "metadata": {
    "collapsed": false,
    "pycharm": {
     "name": "#%%\n"
    }
   }
  },
  {
   "cell_type": "code",
   "execution_count": 12,
   "outputs": [],
   "source": [
    "# Filter the dataframe for continuous and categorical variables\n",
    "cont_df = clean_df[clean_df['variable'].isin(continuous_vars)].pivot_table(index=['id', 'time'], columns='variable', values='value').reset_index()\n",
    "cat_df = clean_df[clean_df['variable'].isin(categorical_vars)].pivot_table(index=['id', 'time'], columns='variable', values='value', aggfunc='count').reset_index()\n",
    "\n",
    "# Merge the dataframes\n",
    "result = pd.merge(cont_df, cat_df, on=['id', 'time'], how='outer')"
   ],
   "metadata": {
    "collapsed": false,
    "pycharm": {
     "name": "#%%\n"
    }
   }
  },
  {
   "cell_type": "markdown",
   "source": [
    "## Impute missing values"
   ],
   "metadata": {
    "collapsed": false,
    "pycharm": {
     "name": "#%% md\n"
    }
   }
  },
  {
   "cell_type": "code",
   "execution_count": 49,
   "outputs": [
    {
     "name": "stderr",
     "output_type": "stream",
     "text": [
      "C:\\Users\\nikos\\AppData\\Local\\Temp\\ipykernel_9172\\910407681.py:9: FutureWarning: Dropping of nuisance columns in DataFrame reductions (with 'numeric_only=None') is deprecated; in a future version this will raise TypeError.  Select only valid columns before calling the reduction.\n",
      "  participant_mean = participant_data.drop(columns=['id']).mean()\n",
      "C:\\Users\\nikos\\AppData\\Local\\Temp\\ipykernel_9172\\910407681.py:17: FutureWarning: The frame.append method is deprecated and will be removed from pandas in a future version. Use pandas.concat instead.\n",
      "  imputed_data = imputed_data.append(participant_imputed, ignore_index=True)\n",
      "C:\\Users\\nikos\\AppData\\Local\\Temp\\ipykernel_9172\\910407681.py:9: FutureWarning: Dropping of nuisance columns in DataFrame reductions (with 'numeric_only=None') is deprecated; in a future version this will raise TypeError.  Select only valid columns before calling the reduction.\n",
      "  participant_mean = participant_data.drop(columns=['id']).mean()\n",
      "C:\\Users\\nikos\\AppData\\Local\\Temp\\ipykernel_9172\\910407681.py:17: FutureWarning: The frame.append method is deprecated and will be removed from pandas in a future version. Use pandas.concat instead.\n",
      "  imputed_data = imputed_data.append(participant_imputed, ignore_index=True)\n",
      "C:\\Users\\nikos\\AppData\\Local\\Temp\\ipykernel_9172\\910407681.py:9: FutureWarning: Dropping of nuisance columns in DataFrame reductions (with 'numeric_only=None') is deprecated; in a future version this will raise TypeError.  Select only valid columns before calling the reduction.\n",
      "  participant_mean = participant_data.drop(columns=['id']).mean()\n",
      "C:\\Users\\nikos\\AppData\\Local\\Temp\\ipykernel_9172\\910407681.py:17: FutureWarning: The frame.append method is deprecated and will be removed from pandas in a future version. Use pandas.concat instead.\n",
      "  imputed_data = imputed_data.append(participant_imputed, ignore_index=True)\n",
      "C:\\Users\\nikos\\AppData\\Local\\Temp\\ipykernel_9172\\910407681.py:9: FutureWarning: Dropping of nuisance columns in DataFrame reductions (with 'numeric_only=None') is deprecated; in a future version this will raise TypeError.  Select only valid columns before calling the reduction.\n",
      "  participant_mean = participant_data.drop(columns=['id']).mean()\n",
      "C:\\Users\\nikos\\AppData\\Local\\Temp\\ipykernel_9172\\910407681.py:17: FutureWarning: The frame.append method is deprecated and will be removed from pandas in a future version. Use pandas.concat instead.\n",
      "  imputed_data = imputed_data.append(participant_imputed, ignore_index=True)\n",
      "C:\\Users\\nikos\\AppData\\Local\\Temp\\ipykernel_9172\\910407681.py:9: FutureWarning: Dropping of nuisance columns in DataFrame reductions (with 'numeric_only=None') is deprecated; in a future version this will raise TypeError.  Select only valid columns before calling the reduction.\n",
      "  participant_mean = participant_data.drop(columns=['id']).mean()\n",
      "C:\\Users\\nikos\\AppData\\Local\\Temp\\ipykernel_9172\\910407681.py:17: FutureWarning: The frame.append method is deprecated and will be removed from pandas in a future version. Use pandas.concat instead.\n",
      "  imputed_data = imputed_data.append(participant_imputed, ignore_index=True)\n",
      "C:\\Users\\nikos\\AppData\\Local\\Temp\\ipykernel_9172\\910407681.py:9: FutureWarning: Dropping of nuisance columns in DataFrame reductions (with 'numeric_only=None') is deprecated; in a future version this will raise TypeError.  Select only valid columns before calling the reduction.\n",
      "  participant_mean = participant_data.drop(columns=['id']).mean()\n",
      "C:\\Users\\nikos\\AppData\\Local\\Temp\\ipykernel_9172\\910407681.py:17: FutureWarning: The frame.append method is deprecated and will be removed from pandas in a future version. Use pandas.concat instead.\n",
      "  imputed_data = imputed_data.append(participant_imputed, ignore_index=True)\n",
      "C:\\Users\\nikos\\AppData\\Local\\Temp\\ipykernel_9172\\910407681.py:9: FutureWarning: Dropping of nuisance columns in DataFrame reductions (with 'numeric_only=None') is deprecated; in a future version this will raise TypeError.  Select only valid columns before calling the reduction.\n",
      "  participant_mean = participant_data.drop(columns=['id']).mean()\n",
      "C:\\Users\\nikos\\AppData\\Local\\Temp\\ipykernel_9172\\910407681.py:17: FutureWarning: The frame.append method is deprecated and will be removed from pandas in a future version. Use pandas.concat instead.\n",
      "  imputed_data = imputed_data.append(participant_imputed, ignore_index=True)\n",
      "C:\\Users\\nikos\\AppData\\Local\\Temp\\ipykernel_9172\\910407681.py:9: FutureWarning: Dropping of nuisance columns in DataFrame reductions (with 'numeric_only=None') is deprecated; in a future version this will raise TypeError.  Select only valid columns before calling the reduction.\n",
      "  participant_mean = participant_data.drop(columns=['id']).mean()\n",
      "C:\\Users\\nikos\\AppData\\Local\\Temp\\ipykernel_9172\\910407681.py:17: FutureWarning: The frame.append method is deprecated and will be removed from pandas in a future version. Use pandas.concat instead.\n",
      "  imputed_data = imputed_data.append(participant_imputed, ignore_index=True)\n",
      "C:\\Users\\nikos\\AppData\\Local\\Temp\\ipykernel_9172\\910407681.py:9: FutureWarning: Dropping of nuisance columns in DataFrame reductions (with 'numeric_only=None') is deprecated; in a future version this will raise TypeError.  Select only valid columns before calling the reduction.\n",
      "  participant_mean = participant_data.drop(columns=['id']).mean()\n",
      "C:\\Users\\nikos\\AppData\\Local\\Temp\\ipykernel_9172\\910407681.py:17: FutureWarning: The frame.append method is deprecated and will be removed from pandas in a future version. Use pandas.concat instead.\n",
      "  imputed_data = imputed_data.append(participant_imputed, ignore_index=True)\n",
      "C:\\Users\\nikos\\AppData\\Local\\Temp\\ipykernel_9172\\910407681.py:9: FutureWarning: Dropping of nuisance columns in DataFrame reductions (with 'numeric_only=None') is deprecated; in a future version this will raise TypeError.  Select only valid columns before calling the reduction.\n",
      "  participant_mean = participant_data.drop(columns=['id']).mean()\n",
      "C:\\Users\\nikos\\AppData\\Local\\Temp\\ipykernel_9172\\910407681.py:17: FutureWarning: The frame.append method is deprecated and will be removed from pandas in a future version. Use pandas.concat instead.\n",
      "  imputed_data = imputed_data.append(participant_imputed, ignore_index=True)\n",
      "C:\\Users\\nikos\\AppData\\Local\\Temp\\ipykernel_9172\\910407681.py:9: FutureWarning: Dropping of nuisance columns in DataFrame reductions (with 'numeric_only=None') is deprecated; in a future version this will raise TypeError.  Select only valid columns before calling the reduction.\n",
      "  participant_mean = participant_data.drop(columns=['id']).mean()\n",
      "C:\\Users\\nikos\\AppData\\Local\\Temp\\ipykernel_9172\\910407681.py:17: FutureWarning: The frame.append method is deprecated and will be removed from pandas in a future version. Use pandas.concat instead.\n",
      "  imputed_data = imputed_data.append(participant_imputed, ignore_index=True)\n",
      "C:\\Users\\nikos\\AppData\\Local\\Temp\\ipykernel_9172\\910407681.py:9: FutureWarning: Dropping of nuisance columns in DataFrame reductions (with 'numeric_only=None') is deprecated; in a future version this will raise TypeError.  Select only valid columns before calling the reduction.\n",
      "  participant_mean = participant_data.drop(columns=['id']).mean()\n",
      "C:\\Users\\nikos\\AppData\\Local\\Temp\\ipykernel_9172\\910407681.py:17: FutureWarning: The frame.append method is deprecated and will be removed from pandas in a future version. Use pandas.concat instead.\n",
      "  imputed_data = imputed_data.append(participant_imputed, ignore_index=True)\n",
      "C:\\Users\\nikos\\AppData\\Local\\Temp\\ipykernel_9172\\910407681.py:9: FutureWarning: Dropping of nuisance columns in DataFrame reductions (with 'numeric_only=None') is deprecated; in a future version this will raise TypeError.  Select only valid columns before calling the reduction.\n",
      "  participant_mean = participant_data.drop(columns=['id']).mean()\n",
      "C:\\Users\\nikos\\AppData\\Local\\Temp\\ipykernel_9172\\910407681.py:17: FutureWarning: The frame.append method is deprecated and will be removed from pandas in a future version. Use pandas.concat instead.\n",
      "  imputed_data = imputed_data.append(participant_imputed, ignore_index=True)\n",
      "C:\\Users\\nikos\\AppData\\Local\\Temp\\ipykernel_9172\\910407681.py:9: FutureWarning: Dropping of nuisance columns in DataFrame reductions (with 'numeric_only=None') is deprecated; in a future version this will raise TypeError.  Select only valid columns before calling the reduction.\n",
      "  participant_mean = participant_data.drop(columns=['id']).mean()\n",
      "C:\\Users\\nikos\\AppData\\Local\\Temp\\ipykernel_9172\\910407681.py:17: FutureWarning: The frame.append method is deprecated and will be removed from pandas in a future version. Use pandas.concat instead.\n",
      "  imputed_data = imputed_data.append(participant_imputed, ignore_index=True)\n",
      "C:\\Users\\nikos\\AppData\\Local\\Temp\\ipykernel_9172\\910407681.py:9: FutureWarning: Dropping of nuisance columns in DataFrame reductions (with 'numeric_only=None') is deprecated; in a future version this will raise TypeError.  Select only valid columns before calling the reduction.\n",
      "  participant_mean = participant_data.drop(columns=['id']).mean()\n",
      "C:\\Users\\nikos\\AppData\\Local\\Temp\\ipykernel_9172\\910407681.py:17: FutureWarning: The frame.append method is deprecated and will be removed from pandas in a future version. Use pandas.concat instead.\n",
      "  imputed_data = imputed_data.append(participant_imputed, ignore_index=True)\n",
      "C:\\Users\\nikos\\AppData\\Local\\Temp\\ipykernel_9172\\910407681.py:9: FutureWarning: Dropping of nuisance columns in DataFrame reductions (with 'numeric_only=None') is deprecated; in a future version this will raise TypeError.  Select only valid columns before calling the reduction.\n",
      "  participant_mean = participant_data.drop(columns=['id']).mean()\n",
      "C:\\Users\\nikos\\AppData\\Local\\Temp\\ipykernel_9172\\910407681.py:17: FutureWarning: The frame.append method is deprecated and will be removed from pandas in a future version. Use pandas.concat instead.\n",
      "  imputed_data = imputed_data.append(participant_imputed, ignore_index=True)\n",
      "C:\\Users\\nikos\\AppData\\Local\\Temp\\ipykernel_9172\\910407681.py:9: FutureWarning: Dropping of nuisance columns in DataFrame reductions (with 'numeric_only=None') is deprecated; in a future version this will raise TypeError.  Select only valid columns before calling the reduction.\n",
      "  participant_mean = participant_data.drop(columns=['id']).mean()\n",
      "C:\\Users\\nikos\\AppData\\Local\\Temp\\ipykernel_9172\\910407681.py:17: FutureWarning: The frame.append method is deprecated and will be removed from pandas in a future version. Use pandas.concat instead.\n",
      "  imputed_data = imputed_data.append(participant_imputed, ignore_index=True)\n",
      "C:\\Users\\nikos\\AppData\\Local\\Temp\\ipykernel_9172\\910407681.py:9: FutureWarning: Dropping of nuisance columns in DataFrame reductions (with 'numeric_only=None') is deprecated; in a future version this will raise TypeError.  Select only valid columns before calling the reduction.\n",
      "  participant_mean = participant_data.drop(columns=['id']).mean()\n",
      "C:\\Users\\nikos\\AppData\\Local\\Temp\\ipykernel_9172\\910407681.py:17: FutureWarning: The frame.append method is deprecated and will be removed from pandas in a future version. Use pandas.concat instead.\n",
      "  imputed_data = imputed_data.append(participant_imputed, ignore_index=True)\n",
      "C:\\Users\\nikos\\AppData\\Local\\Temp\\ipykernel_9172\\910407681.py:9: FutureWarning: Dropping of nuisance columns in DataFrame reductions (with 'numeric_only=None') is deprecated; in a future version this will raise TypeError.  Select only valid columns before calling the reduction.\n",
      "  participant_mean = participant_data.drop(columns=['id']).mean()\n",
      "C:\\Users\\nikos\\AppData\\Local\\Temp\\ipykernel_9172\\910407681.py:17: FutureWarning: The frame.append method is deprecated and will be removed from pandas in a future version. Use pandas.concat instead.\n",
      "  imputed_data = imputed_data.append(participant_imputed, ignore_index=True)\n",
      "C:\\Users\\nikos\\AppData\\Local\\Temp\\ipykernel_9172\\910407681.py:9: FutureWarning: Dropping of nuisance columns in DataFrame reductions (with 'numeric_only=None') is deprecated; in a future version this will raise TypeError.  Select only valid columns before calling the reduction.\n",
      "  participant_mean = participant_data.drop(columns=['id']).mean()\n",
      "C:\\Users\\nikos\\AppData\\Local\\Temp\\ipykernel_9172\\910407681.py:17: FutureWarning: The frame.append method is deprecated and will be removed from pandas in a future version. Use pandas.concat instead.\n",
      "  imputed_data = imputed_data.append(participant_imputed, ignore_index=True)\n",
      "C:\\Users\\nikos\\AppData\\Local\\Temp\\ipykernel_9172\\910407681.py:9: FutureWarning: Dropping of nuisance columns in DataFrame reductions (with 'numeric_only=None') is deprecated; in a future version this will raise TypeError.  Select only valid columns before calling the reduction.\n",
      "  participant_mean = participant_data.drop(columns=['id']).mean()\n",
      "C:\\Users\\nikos\\AppData\\Local\\Temp\\ipykernel_9172\\910407681.py:17: FutureWarning: The frame.append method is deprecated and will be removed from pandas in a future version. Use pandas.concat instead.\n",
      "  imputed_data = imputed_data.append(participant_imputed, ignore_index=True)\n",
      "C:\\Users\\nikos\\AppData\\Local\\Temp\\ipykernel_9172\\910407681.py:9: FutureWarning: Dropping of nuisance columns in DataFrame reductions (with 'numeric_only=None') is deprecated; in a future version this will raise TypeError.  Select only valid columns before calling the reduction.\n",
      "  participant_mean = participant_data.drop(columns=['id']).mean()\n",
      "C:\\Users\\nikos\\AppData\\Local\\Temp\\ipykernel_9172\\910407681.py:17: FutureWarning: The frame.append method is deprecated and will be removed from pandas in a future version. Use pandas.concat instead.\n",
      "  imputed_data = imputed_data.append(participant_imputed, ignore_index=True)\n",
      "C:\\Users\\nikos\\AppData\\Local\\Temp\\ipykernel_9172\\910407681.py:9: FutureWarning: Dropping of nuisance columns in DataFrame reductions (with 'numeric_only=None') is deprecated; in a future version this will raise TypeError.  Select only valid columns before calling the reduction.\n",
      "  participant_mean = participant_data.drop(columns=['id']).mean()\n",
      "C:\\Users\\nikos\\AppData\\Local\\Temp\\ipykernel_9172\\910407681.py:17: FutureWarning: The frame.append method is deprecated and will be removed from pandas in a future version. Use pandas.concat instead.\n",
      "  imputed_data = imputed_data.append(participant_imputed, ignore_index=True)\n",
      "C:\\Users\\nikos\\AppData\\Local\\Temp\\ipykernel_9172\\910407681.py:9: FutureWarning: Dropping of nuisance columns in DataFrame reductions (with 'numeric_only=None') is deprecated; in a future version this will raise TypeError.  Select only valid columns before calling the reduction.\n",
      "  participant_mean = participant_data.drop(columns=['id']).mean()\n",
      "C:\\Users\\nikos\\AppData\\Local\\Temp\\ipykernel_9172\\910407681.py:17: FutureWarning: The frame.append method is deprecated and will be removed from pandas in a future version. Use pandas.concat instead.\n",
      "  imputed_data = imputed_data.append(participant_imputed, ignore_index=True)\n",
      "C:\\Users\\nikos\\AppData\\Local\\Temp\\ipykernel_9172\\910407681.py:9: FutureWarning: Dropping of nuisance columns in DataFrame reductions (with 'numeric_only=None') is deprecated; in a future version this will raise TypeError.  Select only valid columns before calling the reduction.\n",
      "  participant_mean = participant_data.drop(columns=['id']).mean()\n",
      "C:\\Users\\nikos\\AppData\\Local\\Temp\\ipykernel_9172\\910407681.py:17: FutureWarning: The frame.append method is deprecated and will be removed from pandas in a future version. Use pandas.concat instead.\n",
      "  imputed_data = imputed_data.append(participant_imputed, ignore_index=True)\n",
      "C:\\Users\\nikos\\AppData\\Local\\Temp\\ipykernel_9172\\910407681.py:9: FutureWarning: Dropping of nuisance columns in DataFrame reductions (with 'numeric_only=None') is deprecated; in a future version this will raise TypeError.  Select only valid columns before calling the reduction.\n",
      "  participant_mean = participant_data.drop(columns=['id']).mean()\n",
      "C:\\Users\\nikos\\AppData\\Local\\Temp\\ipykernel_9172\\910407681.py:17: FutureWarning: The frame.append method is deprecated and will be removed from pandas in a future version. Use pandas.concat instead.\n",
      "  imputed_data = imputed_data.append(participant_imputed, ignore_index=True)\n",
      "C:\\Users\\nikos\\AppData\\Local\\Temp\\ipykernel_9172\\910407681.py:9: FutureWarning: Dropping of nuisance columns in DataFrame reductions (with 'numeric_only=None') is deprecated; in a future version this will raise TypeError.  Select only valid columns before calling the reduction.\n",
      "  participant_mean = participant_data.drop(columns=['id']).mean()\n",
      "C:\\Users\\nikos\\AppData\\Local\\Temp\\ipykernel_9172\\910407681.py:17: FutureWarning: The frame.append method is deprecated and will be removed from pandas in a future version. Use pandas.concat instead.\n",
      "  imputed_data = imputed_data.append(participant_imputed, ignore_index=True)\n"
     ]
    }
   ],
   "source": [
    "# Create an empty DataFrame with the same columns as the original\n",
    "imputed_data = pd.DataFrame(columns=result.columns)\n",
    "\n",
    "# Iterate through unique participant ids\n",
    "for participant in result['id'].unique():\n",
    "    participant_data = result[result['id'] == participant]\n",
    "\n",
    "    # Calculate the mean of each column for the participant, excluding the 'id' column\n",
    "    participant_mean = participant_data.drop(columns=['id']).mean()\n",
    "\n",
    "    # Fill missing values with the participant-specific mean for each column\n",
    "    participant_imputed = participant_data.copy()\n",
    "    for column in participant_mean.index:\n",
    "        participant_imputed[column] = participant_data[column].fillna(participant_mean[column])\n",
    "\n",
    "    # Append the imputed participant data to the imputed_data DataFrame\n",
    "    imputed_data = imputed_data.append(participant_imputed, ignore_index=True)\n"
   ],
   "metadata": {
    "collapsed": false,
    "pycharm": {
     "name": "#%%\n"
    }
   }
  },
  {
   "cell_type": "code",
   "execution_count": 50,
   "outputs": [],
   "source": [
    "imputed_data.replace(np.nan,0, inplace=True)"
   ],
   "metadata": {
    "collapsed": false,
    "pycharm": {
     "name": "#%%\n"
    }
   }
  },
  {
   "cell_type": "code",
   "execution_count": 51,
   "outputs": [],
   "source": [
    "imputed_data.set_index('time', inplace=True)"
   ],
   "metadata": {
    "collapsed": false,
    "pycharm": {
     "name": "#%%\n"
    }
   }
  },
  {
   "cell_type": "markdown",
   "source": [
    "# ML classifier"
   ],
   "metadata": {
    "collapsed": false,
    "pycharm": {
     "name": "#%% md\n"
    }
   }
  },
  {
   "cell_type": "code",
   "execution_count": 22,
   "outputs": [],
   "source": [
    "from sklearn.model_selection import train_test_split\n",
    "from sklearn.ensemble import RandomForestRegressor\n",
    "from sklearn.model_selection import cross_val_score, KFold\n",
    "from sklearn.metrics import mean_absolute_error, mean_squared_error"
   ],
   "metadata": {
    "collapsed": false,
    "pycharm": {
     "name": "#%%\n"
    }
   }
  },
  {
   "cell_type": "markdown",
   "source": [
    "## Section for classic ML models"
   ],
   "metadata": {
    "collapsed": false,
    "pycharm": {
     "name": "#%% md\n"
    }
   }
  },
  {
   "cell_type": "code",
   "execution_count": 52,
   "outputs": [],
   "source": [
    "X = imputed_data.drop(columns=['mood'])\n",
    "y = imputed_data['mood']\n",
    "X.drop(['id'], axis = 1, inplace = True)"
   ],
   "metadata": {
    "collapsed": false,
    "pycharm": {
     "name": "#%%\n"
    }
   }
  },
  {
   "cell_type": "code",
   "execution_count": 53,
   "outputs": [],
   "source": [
    "y = y.round().astype(int)"
   ],
   "metadata": {
    "collapsed": false,
    "pycharm": {
     "name": "#%%\n"
    }
   }
  },
  {
   "cell_type": "code",
   "execution_count": 54,
   "outputs": [],
   "source": [
    "X_train, X_test, y_train, y_test = train_test_split(X, y, test_size=0.2, random_state=42)"
   ],
   "metadata": {
    "collapsed": false,
    "pycharm": {
     "name": "#%%\n"
    }
   }
  },
  {
   "cell_type": "markdown",
   "source": [
    "## Random Forest"
   ],
   "metadata": {
    "collapsed": false,
    "pycharm": {
     "name": "#%% md\n"
    }
   }
  },
  {
   "cell_type": "code",
   "execution_count": 55,
   "outputs": [],
   "source": [
    "rf_regressor = RandomForestRegressor(random_state=42)\n",
    "kf = KFold(n_splits=5, shuffle=True, random_state=42)"
   ],
   "metadata": {
    "collapsed": false,
    "pycharm": {
     "name": "#%%\n"
    }
   }
  },
  {
   "cell_type": "code",
   "execution_count": 56,
   "outputs": [],
   "source": [
    "mae_scores = []\n",
    "mse_scores = []"
   ],
   "metadata": {
    "collapsed": false,
    "pycharm": {
     "name": "#%%\n"
    }
   }
  },
  {
   "cell_type": "code",
   "execution_count": 57,
   "outputs": [],
   "source": [
    "for train_index, test_index in kf.split(X):\n",
    "    X_train, X_test = X.iloc[train_index], X.iloc[test_index]\n",
    "    y_train, y_test = y.iloc[train_index], y.iloc[test_index]\n",
    "\n",
    "    rf_regressor.fit(X_train, y_train)\n",
    "    y_pred = rf_regressor.predict(X_test)\n",
    "\n",
    "    mae = mean_absolute_error(y_test, y_pred)\n",
    "    mse = mean_squared_error(y_test, y_pred)\n",
    "\n",
    "    mae_scores.append(mae)\n",
    "    mse_scores.append(mse)"
   ],
   "metadata": {
    "collapsed": false,
    "pycharm": {
     "name": "#%%\n"
    }
   }
  },
  {
   "cell_type": "code",
   "execution_count": 59,
   "outputs": [
    {
     "name": "stdout",
     "output_type": "stream",
     "text": [
      "Mean Absolute Error (MAE) across 5 folds: 0.2672120147908807\n",
      "Mean Squared Error (MSE) across 5 folds: 0.18721925991759994\n"
     ]
    }
   ],
   "source": [
    "mean_mae = np.mean(mae_scores)\n",
    "mean_mse = np.mean(mse_scores)\n",
    "print(f'Mean Absolute Error (MAE) across 5 folds: {mean_mae}')\n",
    "print(f'Mean Squared Error (MSE) across 5 folds: {mean_mse}')"
   ],
   "metadata": {
    "collapsed": false,
    "pycharm": {
     "name": "#%%\n"
    }
   }
  },
  {
   "cell_type": "code",
   "execution_count": null,
   "outputs": [],
   "source": [],
   "metadata": {
    "collapsed": false,
    "pycharm": {
     "name": "#%%\n"
    }
   }
  }
 ],
 "metadata": {
  "kernelspec": {
   "display_name": "Python 3",
   "language": "python",
   "name": "python3"
  },
  "language_info": {
   "codemirror_mode": {
    "name": "ipython",
    "version": 2
   },
   "file_extension": ".py",
   "mimetype": "text/x-python",
   "name": "python",
   "nbconvert_exporter": "python",
   "pygments_lexer": "ipython2",
   "version": "2.7.6"
  }
 },
 "nbformat": 4,
 "nbformat_minor": 0
}