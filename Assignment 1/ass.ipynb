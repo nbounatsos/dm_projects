{
 "cells": [
  {
   "cell_type": "code",
   "execution_count": 156,
   "outputs": [],
   "source": [
    "%reset -f"
   ],
   "metadata": {
    "collapsed": false,
    "pycharm": {
     "name": "#%%\n"
    }
   }
  },
  {
   "cell_type": "code",
   "execution_count": 1,
   "outputs": [],
   "source": [
    "import pandas as pd\n",
    "import matplotlib.pyplot as plt\n",
    "import numpy as np\n",
    "%matplotlib inline"
   ],
   "metadata": {
    "collapsed": false,
    "pycharm": {
     "name": "#%%\n"
    }
   }
  },
  {
   "cell_type": "code",
   "execution_count": 2,
   "outputs": [],
   "source": [
    "advanced_df = pd.read_csv(\"dataset_mood_smartphone (1).csv\", index_col=0)"
   ],
   "metadata": {
    "collapsed": false,
    "pycharm": {
     "name": "#%%\n"
    }
   }
  },
  {
   "cell_type": "code",
   "execution_count": 3,
   "outputs": [
    {
     "data": {
      "text/plain": "        id                     time variable  value\n1  AS14.01  2014-02-26 13:00:00.000     mood    6.0\n2  AS14.01  2014-02-26 15:00:00.000     mood    6.0\n3  AS14.01  2014-02-26 18:00:00.000     mood    6.0\n4  AS14.01  2014-02-26 21:00:00.000     mood    7.0\n5  AS14.01  2014-02-27 09:00:00.000     mood    6.0",
      "text/html": "<div>\n<style scoped>\n    .dataframe tbody tr th:only-of-type {\n        vertical-align: middle;\n    }\n\n    .dataframe tbody tr th {\n        vertical-align: top;\n    }\n\n    .dataframe thead th {\n        text-align: right;\n    }\n</style>\n<table border=\"1\" class=\"dataframe\">\n  <thead>\n    <tr style=\"text-align: right;\">\n      <th></th>\n      <th>id</th>\n      <th>time</th>\n      <th>variable</th>\n      <th>value</th>\n    </tr>\n  </thead>\n  <tbody>\n    <tr>\n      <th>1</th>\n      <td>AS14.01</td>\n      <td>2014-02-26 13:00:00.000</td>\n      <td>mood</td>\n      <td>6.0</td>\n    </tr>\n    <tr>\n      <th>2</th>\n      <td>AS14.01</td>\n      <td>2014-02-26 15:00:00.000</td>\n      <td>mood</td>\n      <td>6.0</td>\n    </tr>\n    <tr>\n      <th>3</th>\n      <td>AS14.01</td>\n      <td>2014-02-26 18:00:00.000</td>\n      <td>mood</td>\n      <td>6.0</td>\n    </tr>\n    <tr>\n      <th>4</th>\n      <td>AS14.01</td>\n      <td>2014-02-26 21:00:00.000</td>\n      <td>mood</td>\n      <td>7.0</td>\n    </tr>\n    <tr>\n      <th>5</th>\n      <td>AS14.01</td>\n      <td>2014-02-27 09:00:00.000</td>\n      <td>mood</td>\n      <td>6.0</td>\n    </tr>\n  </tbody>\n</table>\n</div>"
     },
     "execution_count": 3,
     "metadata": {},
     "output_type": "execute_result"
    }
   ],
   "source": [
    "advanced_df.head()"
   ],
   "metadata": {
    "collapsed": false,
    "pycharm": {
     "name": "#%%\n"
    }
   }
  },
  {
   "cell_type": "code",
   "execution_count": 4,
   "outputs": [
    {
     "name": "stdout",
     "output_type": "stream",
     "text": [
      "27\n"
     ]
    }
   ],
   "source": [
    "print(advanced_df['id'].nunique())"
   ],
   "metadata": {
    "collapsed": false,
    "pycharm": {
     "name": "#%%\n"
    }
   }
  },
  {
   "cell_type": "markdown",
   "source": [
    "## Define functions"
   ],
   "metadata": {
    "collapsed": false,
    "pycharm": {
     "name": "#%% md\n"
    }
   }
  },
  {
   "cell_type": "code",
   "execution_count": 5,
   "outputs": [],
   "source": [
    "# Check the shape of a dataframe, along with NaN values\n",
    "def check_df(df):\n",
    "    print(df.shape)\n",
    "    for item in df.columns:\n",
    "        print(item, ': ', type(df[item]), ', contains NaN:',df[item].isnull().values.any())\n",
    "\n",
    "# Plot all the variables vs time\n",
    "def plot_feature(df, variable_name, participant=None):\n",
    "    ylabel_text = f\"{variable_name} value\"\n",
    "    title_text = f\"{variable_name} vs time\"\n",
    "\n",
    "    if participant:\n",
    "        plot = df[(df['variable'] == variable_name) & (df['id'] == participant)]\n",
    "    else:\n",
    "        plot = df[(df['variable'] == variable_name)]\n",
    "\n",
    "    plt.plot(plot['time'], plot['value'], label = variable_name)\n",
    "    plt.xlabel('time')\n",
    "    plt.ylabel(ylabel_text)\n",
    "    plt.title(title_text)\n",
    "    plt.legend(loc='lower right')\n",
    "    plt.show()\n",
    "\n",
    "# Plot histograms of all the variables\n",
    "def plot_histograms(df, variable_name, participant=None):\n",
    "\n",
    "    if participant:\n",
    "        df[(df['variable'] == variable_name) & (df['id'] == participant)].plot(kind='hist', bins=10, edgecolor='black', legend = variable_name)\n",
    "    else:\n",
    "        df[(df['variable'] == variable_name)].plot(kind='hist', bins=10, edgecolor='black', legend = variable_name)\n",
    "    plt.xlabel(variable_name)\n",
    "    plt.legend(loc='lower right')\n",
    "\n",
    "# Remove outliers >0.75 and <0.25 of all values, excepting mood, call, sms etc\n",
    "def remove_outliers(df, column_name, multiplier=1.5):\n",
    "    q1 = df[column_name].quantile(0.05)\n",
    "    q2 = df[column_name].quantile(0.95)\n",
    "    iqr = q2 - q1\n",
    "    lower_bound = q1 - multiplier * iqr\n",
    "    upper_bound = q2 + multiplier * iqr\n",
    "    return df[(df[column_name] >= lower_bound) & (df[column_name] <= upper_bound)]\n",
    "\n",
    "# Check a dataframe for class balance\n",
    "def check_class_balance(df, target_column):\n",
    "    print(df[target_column].value_counts())\n",
    "\n",
    "# Remove negative values\n",
    "def filter_negative_values(row):\n",
    "    variable = row['variable']\n",
    "    value = row['value']\n",
    "\n",
    "    if variable not in ['circumplex.arousal', 'circumplex.valence'] and value < 0:\n",
    "        return False\n",
    "    return True"
   ],
   "metadata": {
    "collapsed": false,
    "pycharm": {
     "name": "#%%\n"
    }
   }
  },
  {
   "cell_type": "markdown",
   "source": [
    "## Check for dataframe shape and NaN values"
   ],
   "metadata": {
    "collapsed": false,
    "pycharm": {
     "name": "#%% md\n"
    }
   }
  },
  {
   "cell_type": "code",
   "execution_count": 6,
   "outputs": [
    {
     "name": "stdout",
     "output_type": "stream",
     "text": [
      "(376912, 4)\n",
      "id :  <class 'pandas.core.series.Series'> , contains NaN: False\n",
      "time :  <class 'pandas.core.series.Series'> , contains NaN: False\n",
      "variable :  <class 'pandas.core.series.Series'> , contains NaN: False\n",
      "value :  <class 'pandas.core.series.Series'> , contains NaN: True\n"
     ]
    }
   ],
   "source": [
    "check_df(advanced_df)"
   ],
   "metadata": {
    "collapsed": false,
    "pycharm": {
     "name": "#%%\n"
    }
   }
  },
  {
   "cell_type": "markdown",
   "source": [
    "## Checking which variables have NaN values"
   ],
   "metadata": {
    "collapsed": false,
    "pycharm": {
     "name": "#%% md\n"
    }
   }
  },
  {
   "cell_type": "code",
   "execution_count": 7,
   "outputs": [
    {
     "data": {
      "text/plain": "            id                     time            variable  value\n5709   AS14.01  2014-04-02 18:00:00.000  circumplex.arousal    NaN\n5731   AS14.01  2014-04-07 15:00:00.000  circumplex.arousal    NaN\n5773   AS14.01  2014-04-16 12:00:00.000  circumplex.arousal    NaN\n5797   AS14.01  2014-04-21 13:00:00.000  circumplex.arousal    NaN\n5836   AS14.01  2014-04-29 09:00:00.000  circumplex.arousal    NaN\n...        ...                      ...                 ...    ...\n16859  AS14.33  2014-05-16 20:00:00.000  circumplex.valence    NaN\n16862  AS14.33  2014-05-17 12:00:00.000  circumplex.valence    NaN\n16882  AS14.33  2014-05-21 16:00:00.000  circumplex.valence    NaN\n16899  AS14.33  2014-05-24 23:00:00.000  circumplex.valence    NaN\n16903  AS14.33  2014-05-25 21:00:00.000  circumplex.valence    NaN\n\n[202 rows x 4 columns]",
      "text/html": "<div>\n<style scoped>\n    .dataframe tbody tr th:only-of-type {\n        vertical-align: middle;\n    }\n\n    .dataframe tbody tr th {\n        vertical-align: top;\n    }\n\n    .dataframe thead th {\n        text-align: right;\n    }\n</style>\n<table border=\"1\" class=\"dataframe\">\n  <thead>\n    <tr style=\"text-align: right;\">\n      <th></th>\n      <th>id</th>\n      <th>time</th>\n      <th>variable</th>\n      <th>value</th>\n    </tr>\n  </thead>\n  <tbody>\n    <tr>\n      <th>5709</th>\n      <td>AS14.01</td>\n      <td>2014-04-02 18:00:00.000</td>\n      <td>circumplex.arousal</td>\n      <td>NaN</td>\n    </tr>\n    <tr>\n      <th>5731</th>\n      <td>AS14.01</td>\n      <td>2014-04-07 15:00:00.000</td>\n      <td>circumplex.arousal</td>\n      <td>NaN</td>\n    </tr>\n    <tr>\n      <th>5773</th>\n      <td>AS14.01</td>\n      <td>2014-04-16 12:00:00.000</td>\n      <td>circumplex.arousal</td>\n      <td>NaN</td>\n    </tr>\n    <tr>\n      <th>5797</th>\n      <td>AS14.01</td>\n      <td>2014-04-21 13:00:00.000</td>\n      <td>circumplex.arousal</td>\n      <td>NaN</td>\n    </tr>\n    <tr>\n      <th>5836</th>\n      <td>AS14.01</td>\n      <td>2014-04-29 09:00:00.000</td>\n      <td>circumplex.arousal</td>\n      <td>NaN</td>\n    </tr>\n    <tr>\n      <th>...</th>\n      <td>...</td>\n      <td>...</td>\n      <td>...</td>\n      <td>...</td>\n    </tr>\n    <tr>\n      <th>16859</th>\n      <td>AS14.33</td>\n      <td>2014-05-16 20:00:00.000</td>\n      <td>circumplex.valence</td>\n      <td>NaN</td>\n    </tr>\n    <tr>\n      <th>16862</th>\n      <td>AS14.33</td>\n      <td>2014-05-17 12:00:00.000</td>\n      <td>circumplex.valence</td>\n      <td>NaN</td>\n    </tr>\n    <tr>\n      <th>16882</th>\n      <td>AS14.33</td>\n      <td>2014-05-21 16:00:00.000</td>\n      <td>circumplex.valence</td>\n      <td>NaN</td>\n    </tr>\n    <tr>\n      <th>16899</th>\n      <td>AS14.33</td>\n      <td>2014-05-24 23:00:00.000</td>\n      <td>circumplex.valence</td>\n      <td>NaN</td>\n    </tr>\n    <tr>\n      <th>16903</th>\n      <td>AS14.33</td>\n      <td>2014-05-25 21:00:00.000</td>\n      <td>circumplex.valence</td>\n      <td>NaN</td>\n    </tr>\n  </tbody>\n</table>\n<p>202 rows × 4 columns</p>\n</div>"
     },
     "execution_count": 7,
     "metadata": {},
     "output_type": "execute_result"
    }
   ],
   "source": [
    "advanced_df.query('value.isnull()')"
   ],
   "metadata": {
    "collapsed": false,
    "pycharm": {
     "name": "#%%\n"
    }
   }
  },
  {
   "cell_type": "code",
   "execution_count": 8,
   "outputs": [
    {
     "name": "stdout",
     "output_type": "stream",
     "text": [
      "circumplex.arousal NaNs count:  id           0\n",
      "time         0\n",
      "variable     0\n",
      "value       46\n",
      "dtype: int64\n",
      "circumplex.valence NaNs count:  id            0\n",
      "time          0\n",
      "variable      0\n",
      "value       156\n",
      "dtype: int64\n"
     ]
    }
   ],
   "source": [
    "print('circumplex.arousal NaNs count: ', advanced_df[advanced_df['variable']=='circumplex.arousal'].isna().sum())\n",
    "print('circumplex.valence NaNs count: ', advanced_df[advanced_df['variable']=='circumplex.valence'].isna().sum())"
   ],
   "metadata": {
    "collapsed": false,
    "pycharm": {
     "name": "#%%\n"
    }
   }
  },
  {
   "cell_type": "code",
   "execution_count": 9,
   "outputs": [
    {
     "name": "stdout",
     "output_type": "stream",
     "text": [
      "screen                  96578\n",
      "appCat.builtin          91288\n",
      "appCat.communication    74276\n",
      "appCat.entertainment    27125\n",
      "activity                22965\n",
      "appCat.social           19145\n",
      "appCat.other             7650\n",
      "circumplex.valence       5643\n",
      "circumplex.arousal       5643\n",
      "appCat.office            5642\n",
      "mood                     5641\n",
      "call                     5239\n",
      "appCat.travel            2846\n",
      "appCat.utilities         2487\n",
      "sms                      1798\n",
      "appCat.finance            939\n",
      "appCat.unknown            939\n",
      "appCat.game               813\n",
      "appCat.weather            255\n",
      "Name: variable, dtype: int64\n"
     ]
    }
   ],
   "source": [
    "print(advanced_df['variable'].value_counts())"
   ],
   "metadata": {
    "collapsed": false,
    "pycharm": {
     "name": "#%%\n"
    }
   }
  },
  {
   "cell_type": "code",
   "execution_count": 10,
   "outputs": [
    {
     "name": "stdout",
     "output_type": "stream",
     "text": [
      "Range of values for each unique feature in the 'variable' column:\n",
      "                      min_value  max_value       range\n",
      "variable                                              \n",
      "activity                  0.000      1.000       1.000\n",
      "appCat.builtin       -82798.871  33960.246  116759.117\n",
      "appCat.communication      0.006   9830.777    9830.771\n",
      "appCat.entertainment     -0.011  32148.677   32148.688\n",
      "appCat.finance            0.131    355.513     355.382\n",
      "appCat.game               1.003   5491.793    5490.790\n",
      "appCat.office             0.003  32708.818   32708.815\n",
      "appCat.other              0.014   3892.038    3892.024\n",
      "appCat.social             0.094  30000.906   30000.812\n",
      "appCat.travel             0.080  10452.615   10452.535\n",
      "appCat.unknown            0.111   2239.937    2239.826\n",
      "appCat.utilities          0.246   1802.649    1802.403\n",
      "appCat.weather            1.003    344.863     343.860\n",
      "call                      1.000      1.000       0.000\n",
      "circumplex.arousal       -2.000      2.000       4.000\n",
      "circumplex.valence       -2.000      2.000       4.000\n",
      "mood                      1.000     10.000       9.000\n",
      "screen                    0.035   9867.007    9866.972\n",
      "sms                       1.000      1.000       0.000\n"
     ]
    }
   ],
   "source": [
    "grouped_data = advanced_df.groupby('variable')\n",
    "\n",
    "# Calculate the min and max for each group\n",
    "min_values = grouped_data['value'].min()\n",
    "max_values = grouped_data['value'].max()\n",
    "\n",
    "# Calculate the range for each group\n",
    "range_values = max_values - min_values\n",
    "\n",
    "# Combine the min, max, and range values into a single DataFrame\n",
    "ranges = pd.concat([min_values, max_values, range_values], axis=1)\n",
    "ranges.columns = ['min_value', 'max_value', 'range']\n",
    "\n",
    "# Print the range for each unique feature in the 'variable' column\n",
    "print(\"Range of values for each unique feature in the 'variable' column:\")\n",
    "print(ranges)"
   ],
   "metadata": {
    "collapsed": false,
    "pycharm": {
     "name": "#%%\n"
    }
   }
  },
  {
   "cell_type": "markdown",
   "source": [
    "### The only variables that contain NaN values are circumplex.arousal and circumplex.valence. Discussion needs to be made if these values should be removed or be converted to 0s"
   ],
   "metadata": {
    "collapsed": false,
    "pycharm": {
     "name": "#%% md\n"
    }
   }
  },
  {
   "cell_type": "markdown",
   "source": [
    "## Drop rows with NaN values"
   ],
   "metadata": {
    "collapsed": false,
    "pycharm": {
     "name": "#%% md\n"
    }
   }
  },
  {
   "cell_type": "code",
   "execution_count": 11,
   "outputs": [
    {
     "name": "stdout",
     "output_type": "stream",
     "text": [
      "(376710, 4)\n",
      "id :  <class 'pandas.core.series.Series'> , contains NaN: False\n",
      "time :  <class 'pandas.core.series.Series'> , contains NaN: False\n",
      "variable :  <class 'pandas.core.series.Series'> , contains NaN: False\n",
      "value :  <class 'pandas.core.series.Series'> , contains NaN: False\n"
     ]
    }
   ],
   "source": [
    "advanced_df.dropna(inplace=True)\n",
    "check_df(advanced_df)"
   ],
   "metadata": {
    "collapsed": false,
    "pycharm": {
     "name": "#%%\n"
    }
   }
  },
  {
   "cell_type": "code",
   "execution_count": 12,
   "outputs": [],
   "source": [
    "advanced_df = advanced_df[advanced_df.apply(filter_negative_values, axis=1)]"
   ],
   "metadata": {
    "collapsed": false,
    "pycharm": {
     "name": "#%%\n"
    }
   }
  },
  {
   "cell_type": "markdown",
   "source": [
    "## Sort dataframe by id and time"
   ],
   "metadata": {
    "collapsed": false,
    "pycharm": {
     "name": "#%% md\n"
    }
   }
  },
  {
   "cell_type": "code",
   "execution_count": 13,
   "outputs": [
    {
     "name": "stderr",
     "output_type": "stream",
     "text": [
      "C:\\Users\\nikos\\AppData\\Local\\Temp\\ipykernel_25416\\1955268030.py:1: SettingWithCopyWarning: \n",
      "A value is trying to be set on a copy of a slice from a DataFrame\n",
      "\n",
      "See the caveats in the documentation: https://pandas.pydata.org/pandas-docs/stable/user_guide/indexing.html#returning-a-view-versus-a-copy\n",
      "  advanced_df.sort_values(['id', 'time'], inplace=True)\n"
     ]
    }
   ],
   "source": [
    "advanced_df.sort_values(['id', 'time'], inplace=True)"
   ],
   "metadata": {
    "collapsed": false,
    "pycharm": {
     "name": "#%%\n"
    }
   }
  },
  {
   "cell_type": "markdown",
   "source": [
    "## Plot all features vs time for participant AS14.01"
   ],
   "metadata": {
    "collapsed": false,
    "pycharm": {
     "name": "#%% md\n"
    }
   }
  },
  {
   "cell_type": "code",
   "execution_count": null,
   "outputs": [],
   "source": [
    "for name in advanced_df['variable'].unique():\n",
    "    plot_feature(advanced_df, name, 'AS14.01')"
   ],
   "metadata": {
    "collapsed": false,
    "pycharm": {
     "name": "#%%\n",
     "is_executing": true
    }
   }
  },
  {
   "cell_type": "markdown",
   "source": [
    "## Plot variable values to check for distribution for participant AS14.01"
   ],
   "metadata": {
    "collapsed": false,
    "pycharm": {
     "name": "#%% md\n"
    }
   }
  },
  {
   "cell_type": "code",
   "execution_count": null,
   "outputs": [],
   "source": [
    "for name in advanced_df['variable'].unique():\n",
    "    plot_histograms(advanced_df, name)"
   ],
   "metadata": {
    "collapsed": false,
    "pycharm": {
     "name": "#%%\n",
     "is_executing": true
    }
   }
  },
  {
   "cell_type": "markdown",
   "source": [
    "## Calculate mean and sd for each variable"
   ],
   "metadata": {
    "collapsed": false,
    "pycharm": {
     "name": "#%% md\n"
    }
   }
  },
  {
   "cell_type": "code",
   "execution_count": 14,
   "outputs": [],
   "source": [
    "result = advanced_df.groupby('variable')['value'].agg(['mean', 'std'])"
   ],
   "metadata": {
    "collapsed": false,
    "pycharm": {
     "name": "#%%\n"
    }
   }
  },
  {
   "cell_type": "markdown",
   "source": [
    "## Remove outliers for all participants"
   ],
   "metadata": {
    "collapsed": false,
    "pycharm": {
     "name": "#%% md\n"
    }
   }
  },
  {
   "cell_type": "code",
   "execution_count": 15,
   "outputs": [],
   "source": [
    "filtered_data = []\n",
    "exception_list = ['mood', 'sms', 'call', 'circumplex.arousal', 'circumplex.valence', 'activity']\n",
    "\n",
    "for name in advanced_df['variable'].unique():\n",
    "    if name in exception_list:\n",
    "        filtered_data.append(advanced_df[advanced_df['variable'] == name])\n",
    "        continue\n",
    "    else:\n",
    "        group = advanced_df[advanced_df['variable'] == name]\n",
    "        filtered_group = remove_outliers(group, 'value')\n",
    "        filtered_data.append(filtered_group)\n",
    "\n",
    "clean_df = pd.concat(filtered_data)"
   ],
   "metadata": {
    "collapsed": false,
    "pycharm": {
     "name": "#%%\n"
    }
   }
  },
  {
   "cell_type": "markdown",
   "source": [
    "## Check variable vs time after outliers removed"
   ],
   "metadata": {
    "collapsed": false,
    "pycharm": {
     "name": "#%% md\n"
    }
   }
  },
  {
   "cell_type": "code",
   "execution_count": null,
   "outputs": [],
   "source": [
    "for name in clean_df['variable'].unique():\n",
    "    plot_feature(clean_df, name, 'AS14.01')"
   ],
   "metadata": {
    "collapsed": false,
    "pycharm": {
     "name": "#%%\n",
     "is_executing": true
    }
   }
  },
  {
   "cell_type": "markdown",
   "source": [
    "## Check variable distribution for participant AS14.01 with the new data"
   ],
   "metadata": {
    "collapsed": false,
    "pycharm": {
     "name": "#%% md\n"
    }
   }
  },
  {
   "cell_type": "code",
   "execution_count": null,
   "outputs": [],
   "source": [
    "for name in advanced_df['variable'].unique():\n",
    "    plot_histograms(advanced_df, name)"
   ],
   "metadata": {
    "collapsed": false,
    "pycharm": {
     "name": "#%%\n",
     "is_executing": true
    }
   }
  },
  {
   "cell_type": "markdown",
   "source": [],
   "metadata": {
    "collapsed": false,
    "pycharm": {
     "name": "#%% md\n"
    }
   }
  },
  {
   "cell_type": "markdown",
   "source": [
    "# Data engineering"
   ],
   "metadata": {
    "collapsed": false,
    "pycharm": {
     "name": "#%% md\n"
    }
   }
  },
  {
   "cell_type": "markdown",
   "source": [
    "## For each variable, calculate the average value if the variable is continuous and the count if the value is categorical, for each day, and distinguish the variable column to different features."
   ],
   "metadata": {
    "collapsed": false,
    "pycharm": {
     "name": "#%% md\n"
    }
   }
  },
  {
   "cell_type": "code",
   "execution_count": 16,
   "outputs": [],
   "source": [
    "# Convert timestamp to datetime object and extract date\n",
    "clean_df['time'] = pd.to_datetime(clean_df['time']).dt.date\n",
    "\n",
    "# List of continuous and categorical variables\n",
    "continuous_vars = ['mood', 'screen', 'appCat.builtin', 'appCat.communication', 'appCat.entertainment', 'appCat.finance', 'appCat.game', 'appCat.office', 'appCat.other', 'appCat.social', 'appCat.travel', 'appCat.unknown', 'appCat.utilities', 'appCat.weather', 'circumplex.arousal', 'circumplex.valence', 'activity']\n",
    "categorical_vars = ['call', 'sms']\n",
    "\n",
    "# Define aggregation functions for continuous and categorical variables\n",
    "aggregations = {}\n",
    "for var in continuous_vars:\n",
    "    aggregations[var] = 'mean'\n",
    "for var in categorical_vars:\n",
    "    aggregations[var] = 'count'"
   ],
   "metadata": {
    "collapsed": false,
    "pycharm": {
     "name": "#%%\n"
    }
   }
  },
  {
   "cell_type": "code",
   "execution_count": 17,
   "outputs": [],
   "source": [
    "# Filter the dataframe for continuous and categorical variables\n",
    "cont_df = clean_df[clean_df['variable'].isin(continuous_vars)].pivot_table(index=['id', 'time'], columns='variable', values='value').reset_index()\n",
    "cat_df = clean_df[clean_df['variable'].isin(categorical_vars)].pivot_table(index=['id', 'time'], columns='variable', values='value', aggfunc='count').reset_index()\n",
    "\n",
    "# Merge the dataframes\n",
    "result = pd.merge(cont_df, cat_df, on=['id', 'time'], how='outer')"
   ],
   "metadata": {
    "collapsed": false,
    "pycharm": {
     "name": "#%%\n"
    }
   }
  },
  {
   "cell_type": "code",
   "execution_count": 34,
   "outputs": [
    {
     "data": {
      "text/plain": "variable       id        time  activity  appCat.builtin  appCat.communication  \\\n0         AS14.01  2014-02-26       NaN             NaN                   NaN   \n1         AS14.01  2014-02-27       NaN             NaN                   NaN   \n2         AS14.01  2014-03-20  0.081548        5.928071             44.719306   \n3         AS14.01  2014-03-21  0.134050        7.180986             49.185839   \n4         AS14.01  2014-03-22  0.236880        5.126204             51.697062   \n\nvariable  appCat.entertainment  appCat.finance  appCat.game  appCat.office  \\\n0                          NaN             NaN          NaN            NaN   \n1                          NaN             NaN          NaN            NaN   \n2                       58.476             NaN          NaN            NaN   \n3                       53.024        6.193000          NaN         57.402   \n4                       46.662        7.025333          NaN            NaN   \n\nvariable  appCat.other  ...  appCat.travel  appCat.unknown  appCat.utilities  \\\n0                  NaN  ...            NaN             NaN               NaN   \n1                  NaN  ...            NaN             NaN               NaN   \n2             5.672500  ...            NaN          45.173          10.53700   \n3            29.968875  ...        40.5785             NaN          13.10324   \n4            14.020429  ...        37.3050             NaN          39.20700   \n\nvariable  appCat.weather  circumplex.arousal  circumplex.valence      mood  \\\n0                    NaN               -0.25            0.750000  6.250000   \n1                    NaN                0.00            0.333333  6.333333   \n2                    NaN                 NaN                 NaN       NaN   \n3                    NaN                0.20            0.200000  6.200000   \n4                    NaN                0.60            0.500000  6.400000   \n\nvariable      screen  call  sms  \n0                NaN   1.0  2.0  \n1                NaN   NaN  NaN  \n2         182.879625   1.0  NaN  \n3          89.972486   6.0  NaN  \n4          47.613651   3.0  1.0  \n\n[5 rows x 21 columns]",
      "text/html": "<div>\n<style scoped>\n    .dataframe tbody tr th:only-of-type {\n        vertical-align: middle;\n    }\n\n    .dataframe tbody tr th {\n        vertical-align: top;\n    }\n\n    .dataframe thead th {\n        text-align: right;\n    }\n</style>\n<table border=\"1\" class=\"dataframe\">\n  <thead>\n    <tr style=\"text-align: right;\">\n      <th>variable</th>\n      <th>id</th>\n      <th>time</th>\n      <th>activity</th>\n      <th>appCat.builtin</th>\n      <th>appCat.communication</th>\n      <th>appCat.entertainment</th>\n      <th>appCat.finance</th>\n      <th>appCat.game</th>\n      <th>appCat.office</th>\n      <th>appCat.other</th>\n      <th>...</th>\n      <th>appCat.travel</th>\n      <th>appCat.unknown</th>\n      <th>appCat.utilities</th>\n      <th>appCat.weather</th>\n      <th>circumplex.arousal</th>\n      <th>circumplex.valence</th>\n      <th>mood</th>\n      <th>screen</th>\n      <th>call</th>\n      <th>sms</th>\n    </tr>\n  </thead>\n  <tbody>\n    <tr>\n      <th>0</th>\n      <td>AS14.01</td>\n      <td>2014-02-26</td>\n      <td>NaN</td>\n      <td>NaN</td>\n      <td>NaN</td>\n      <td>NaN</td>\n      <td>NaN</td>\n      <td>NaN</td>\n      <td>NaN</td>\n      <td>NaN</td>\n      <td>...</td>\n      <td>NaN</td>\n      <td>NaN</td>\n      <td>NaN</td>\n      <td>NaN</td>\n      <td>-0.25</td>\n      <td>0.750000</td>\n      <td>6.250000</td>\n      <td>NaN</td>\n      <td>1.0</td>\n      <td>2.0</td>\n    </tr>\n    <tr>\n      <th>1</th>\n      <td>AS14.01</td>\n      <td>2014-02-27</td>\n      <td>NaN</td>\n      <td>NaN</td>\n      <td>NaN</td>\n      <td>NaN</td>\n      <td>NaN</td>\n      <td>NaN</td>\n      <td>NaN</td>\n      <td>NaN</td>\n      <td>...</td>\n      <td>NaN</td>\n      <td>NaN</td>\n      <td>NaN</td>\n      <td>NaN</td>\n      <td>0.00</td>\n      <td>0.333333</td>\n      <td>6.333333</td>\n      <td>NaN</td>\n      <td>NaN</td>\n      <td>NaN</td>\n    </tr>\n    <tr>\n      <th>2</th>\n      <td>AS14.01</td>\n      <td>2014-03-20</td>\n      <td>0.081548</td>\n      <td>5.928071</td>\n      <td>44.719306</td>\n      <td>58.476</td>\n      <td>NaN</td>\n      <td>NaN</td>\n      <td>NaN</td>\n      <td>5.672500</td>\n      <td>...</td>\n      <td>NaN</td>\n      <td>45.173</td>\n      <td>10.53700</td>\n      <td>NaN</td>\n      <td>NaN</td>\n      <td>NaN</td>\n      <td>NaN</td>\n      <td>182.879625</td>\n      <td>1.0</td>\n      <td>NaN</td>\n    </tr>\n    <tr>\n      <th>3</th>\n      <td>AS14.01</td>\n      <td>2014-03-21</td>\n      <td>0.134050</td>\n      <td>7.180986</td>\n      <td>49.185839</td>\n      <td>53.024</td>\n      <td>6.193000</td>\n      <td>NaN</td>\n      <td>57.402</td>\n      <td>29.968875</td>\n      <td>...</td>\n      <td>40.5785</td>\n      <td>NaN</td>\n      <td>13.10324</td>\n      <td>NaN</td>\n      <td>0.20</td>\n      <td>0.200000</td>\n      <td>6.200000</td>\n      <td>89.972486</td>\n      <td>6.0</td>\n      <td>NaN</td>\n    </tr>\n    <tr>\n      <th>4</th>\n      <td>AS14.01</td>\n      <td>2014-03-22</td>\n      <td>0.236880</td>\n      <td>5.126204</td>\n      <td>51.697062</td>\n      <td>46.662</td>\n      <td>7.025333</td>\n      <td>NaN</td>\n      <td>NaN</td>\n      <td>14.020429</td>\n      <td>...</td>\n      <td>37.3050</td>\n      <td>NaN</td>\n      <td>39.20700</td>\n      <td>NaN</td>\n      <td>0.60</td>\n      <td>0.500000</td>\n      <td>6.400000</td>\n      <td>47.613651</td>\n      <td>3.0</td>\n      <td>1.0</td>\n    </tr>\n  </tbody>\n</table>\n<p>5 rows × 21 columns</p>\n</div>"
     },
     "execution_count": 34,
     "metadata": {},
     "output_type": "execute_result"
    }
   ],
   "source": [
    "result.head()"
   ],
   "metadata": {
    "collapsed": false,
    "pycharm": {
     "name": "#%%\n"
    }
   }
  },
  {
   "cell_type": "markdown",
   "source": [
    "## Impute missing values"
   ],
   "metadata": {
    "collapsed": false,
    "pycharm": {
     "name": "#%% md\n"
    }
   }
  },
  {
   "cell_type": "code",
   "execution_count": 18,
   "outputs": [
    {
     "name": "stderr",
     "output_type": "stream",
     "text": [
      "C:\\Users\\nikos\\AppData\\Local\\Temp\\ipykernel_25416\\2974248145.py:9: FutureWarning: Dropping of nuisance columns in DataFrame reductions (with 'numeric_only=None') is deprecated; in a future version this will raise TypeError.  Select only valid columns before calling the reduction.\n",
      "  participant_mean = participant_data.drop(columns=['id']).mean()\n",
      "C:\\Users\\nikos\\AppData\\Local\\Temp\\ipykernel_25416\\2974248145.py:17: FutureWarning: The frame.append method is deprecated and will be removed from pandas in a future version. Use pandas.concat instead.\n",
      "  imputed_data = imputed_data.append(participant_imputed, ignore_index=True)\n",
      "C:\\Users\\nikos\\AppData\\Local\\Temp\\ipykernel_25416\\2974248145.py:9: FutureWarning: Dropping of nuisance columns in DataFrame reductions (with 'numeric_only=None') is deprecated; in a future version this will raise TypeError.  Select only valid columns before calling the reduction.\n",
      "  participant_mean = participant_data.drop(columns=['id']).mean()\n",
      "C:\\Users\\nikos\\AppData\\Local\\Temp\\ipykernel_25416\\2974248145.py:17: FutureWarning: The frame.append method is deprecated and will be removed from pandas in a future version. Use pandas.concat instead.\n",
      "  imputed_data = imputed_data.append(participant_imputed, ignore_index=True)\n",
      "C:\\Users\\nikos\\AppData\\Local\\Temp\\ipykernel_25416\\2974248145.py:9: FutureWarning: Dropping of nuisance columns in DataFrame reductions (with 'numeric_only=None') is deprecated; in a future version this will raise TypeError.  Select only valid columns before calling the reduction.\n",
      "  participant_mean = participant_data.drop(columns=['id']).mean()\n",
      "C:\\Users\\nikos\\AppData\\Local\\Temp\\ipykernel_25416\\2974248145.py:17: FutureWarning: The frame.append method is deprecated and will be removed from pandas in a future version. Use pandas.concat instead.\n",
      "  imputed_data = imputed_data.append(participant_imputed, ignore_index=True)\n",
      "C:\\Users\\nikos\\AppData\\Local\\Temp\\ipykernel_25416\\2974248145.py:9: FutureWarning: Dropping of nuisance columns in DataFrame reductions (with 'numeric_only=None') is deprecated; in a future version this will raise TypeError.  Select only valid columns before calling the reduction.\n",
      "  participant_mean = participant_data.drop(columns=['id']).mean()\n",
      "C:\\Users\\nikos\\AppData\\Local\\Temp\\ipykernel_25416\\2974248145.py:17: FutureWarning: The frame.append method is deprecated and will be removed from pandas in a future version. Use pandas.concat instead.\n",
      "  imputed_data = imputed_data.append(participant_imputed, ignore_index=True)\n",
      "C:\\Users\\nikos\\AppData\\Local\\Temp\\ipykernel_25416\\2974248145.py:9: FutureWarning: Dropping of nuisance columns in DataFrame reductions (with 'numeric_only=None') is deprecated; in a future version this will raise TypeError.  Select only valid columns before calling the reduction.\n",
      "  participant_mean = participant_data.drop(columns=['id']).mean()\n",
      "C:\\Users\\nikos\\AppData\\Local\\Temp\\ipykernel_25416\\2974248145.py:17: FutureWarning: The frame.append method is deprecated and will be removed from pandas in a future version. Use pandas.concat instead.\n",
      "  imputed_data = imputed_data.append(participant_imputed, ignore_index=True)\n",
      "C:\\Users\\nikos\\AppData\\Local\\Temp\\ipykernel_25416\\2974248145.py:9: FutureWarning: Dropping of nuisance columns in DataFrame reductions (with 'numeric_only=None') is deprecated; in a future version this will raise TypeError.  Select only valid columns before calling the reduction.\n",
      "  participant_mean = participant_data.drop(columns=['id']).mean()\n",
      "C:\\Users\\nikos\\AppData\\Local\\Temp\\ipykernel_25416\\2974248145.py:17: FutureWarning: The frame.append method is deprecated and will be removed from pandas in a future version. Use pandas.concat instead.\n",
      "  imputed_data = imputed_data.append(participant_imputed, ignore_index=True)\n",
      "C:\\Users\\nikos\\AppData\\Local\\Temp\\ipykernel_25416\\2974248145.py:9: FutureWarning: Dropping of nuisance columns in DataFrame reductions (with 'numeric_only=None') is deprecated; in a future version this will raise TypeError.  Select only valid columns before calling the reduction.\n",
      "  participant_mean = participant_data.drop(columns=['id']).mean()\n",
      "C:\\Users\\nikos\\AppData\\Local\\Temp\\ipykernel_25416\\2974248145.py:17: FutureWarning: The frame.append method is deprecated and will be removed from pandas in a future version. Use pandas.concat instead.\n",
      "  imputed_data = imputed_data.append(participant_imputed, ignore_index=True)\n",
      "C:\\Users\\nikos\\AppData\\Local\\Temp\\ipykernel_25416\\2974248145.py:9: FutureWarning: Dropping of nuisance columns in DataFrame reductions (with 'numeric_only=None') is deprecated; in a future version this will raise TypeError.  Select only valid columns before calling the reduction.\n",
      "  participant_mean = participant_data.drop(columns=['id']).mean()\n",
      "C:\\Users\\nikos\\AppData\\Local\\Temp\\ipykernel_25416\\2974248145.py:17: FutureWarning: The frame.append method is deprecated and will be removed from pandas in a future version. Use pandas.concat instead.\n",
      "  imputed_data = imputed_data.append(participant_imputed, ignore_index=True)\n",
      "C:\\Users\\nikos\\AppData\\Local\\Temp\\ipykernel_25416\\2974248145.py:9: FutureWarning: Dropping of nuisance columns in DataFrame reductions (with 'numeric_only=None') is deprecated; in a future version this will raise TypeError.  Select only valid columns before calling the reduction.\n",
      "  participant_mean = participant_data.drop(columns=['id']).mean()\n",
      "C:\\Users\\nikos\\AppData\\Local\\Temp\\ipykernel_25416\\2974248145.py:17: FutureWarning: The frame.append method is deprecated and will be removed from pandas in a future version. Use pandas.concat instead.\n",
      "  imputed_data = imputed_data.append(participant_imputed, ignore_index=True)\n",
      "C:\\Users\\nikos\\AppData\\Local\\Temp\\ipykernel_25416\\2974248145.py:9: FutureWarning: Dropping of nuisance columns in DataFrame reductions (with 'numeric_only=None') is deprecated; in a future version this will raise TypeError.  Select only valid columns before calling the reduction.\n",
      "  participant_mean = participant_data.drop(columns=['id']).mean()\n",
      "C:\\Users\\nikos\\AppData\\Local\\Temp\\ipykernel_25416\\2974248145.py:17: FutureWarning: The frame.append method is deprecated and will be removed from pandas in a future version. Use pandas.concat instead.\n",
      "  imputed_data = imputed_data.append(participant_imputed, ignore_index=True)\n",
      "C:\\Users\\nikos\\AppData\\Local\\Temp\\ipykernel_25416\\2974248145.py:9: FutureWarning: Dropping of nuisance columns in DataFrame reductions (with 'numeric_only=None') is deprecated; in a future version this will raise TypeError.  Select only valid columns before calling the reduction.\n",
      "  participant_mean = participant_data.drop(columns=['id']).mean()\n",
      "C:\\Users\\nikos\\AppData\\Local\\Temp\\ipykernel_25416\\2974248145.py:17: FutureWarning: The frame.append method is deprecated and will be removed from pandas in a future version. Use pandas.concat instead.\n",
      "  imputed_data = imputed_data.append(participant_imputed, ignore_index=True)\n",
      "C:\\Users\\nikos\\AppData\\Local\\Temp\\ipykernel_25416\\2974248145.py:9: FutureWarning: Dropping of nuisance columns in DataFrame reductions (with 'numeric_only=None') is deprecated; in a future version this will raise TypeError.  Select only valid columns before calling the reduction.\n",
      "  participant_mean = participant_data.drop(columns=['id']).mean()\n",
      "C:\\Users\\nikos\\AppData\\Local\\Temp\\ipykernel_25416\\2974248145.py:17: FutureWarning: The frame.append method is deprecated and will be removed from pandas in a future version. Use pandas.concat instead.\n",
      "  imputed_data = imputed_data.append(participant_imputed, ignore_index=True)\n",
      "C:\\Users\\nikos\\AppData\\Local\\Temp\\ipykernel_25416\\2974248145.py:9: FutureWarning: Dropping of nuisance columns in DataFrame reductions (with 'numeric_only=None') is deprecated; in a future version this will raise TypeError.  Select only valid columns before calling the reduction.\n",
      "  participant_mean = participant_data.drop(columns=['id']).mean()\n",
      "C:\\Users\\nikos\\AppData\\Local\\Temp\\ipykernel_25416\\2974248145.py:17: FutureWarning: The frame.append method is deprecated and will be removed from pandas in a future version. Use pandas.concat instead.\n",
      "  imputed_data = imputed_data.append(participant_imputed, ignore_index=True)\n",
      "C:\\Users\\nikos\\AppData\\Local\\Temp\\ipykernel_25416\\2974248145.py:9: FutureWarning: Dropping of nuisance columns in DataFrame reductions (with 'numeric_only=None') is deprecated; in a future version this will raise TypeError.  Select only valid columns before calling the reduction.\n",
      "  participant_mean = participant_data.drop(columns=['id']).mean()\n",
      "C:\\Users\\nikos\\AppData\\Local\\Temp\\ipykernel_25416\\2974248145.py:17: FutureWarning: The frame.append method is deprecated and will be removed from pandas in a future version. Use pandas.concat instead.\n",
      "  imputed_data = imputed_data.append(participant_imputed, ignore_index=True)\n",
      "C:\\Users\\nikos\\AppData\\Local\\Temp\\ipykernel_25416\\2974248145.py:9: FutureWarning: Dropping of nuisance columns in DataFrame reductions (with 'numeric_only=None') is deprecated; in a future version this will raise TypeError.  Select only valid columns before calling the reduction.\n",
      "  participant_mean = participant_data.drop(columns=['id']).mean()\n",
      "C:\\Users\\nikos\\AppData\\Local\\Temp\\ipykernel_25416\\2974248145.py:17: FutureWarning: The frame.append method is deprecated and will be removed from pandas in a future version. Use pandas.concat instead.\n",
      "  imputed_data = imputed_data.append(participant_imputed, ignore_index=True)\n",
      "C:\\Users\\nikos\\AppData\\Local\\Temp\\ipykernel_25416\\2974248145.py:9: FutureWarning: Dropping of nuisance columns in DataFrame reductions (with 'numeric_only=None') is deprecated; in a future version this will raise TypeError.  Select only valid columns before calling the reduction.\n",
      "  participant_mean = participant_data.drop(columns=['id']).mean()\n",
      "C:\\Users\\nikos\\AppData\\Local\\Temp\\ipykernel_25416\\2974248145.py:17: FutureWarning: The frame.append method is deprecated and will be removed from pandas in a future version. Use pandas.concat instead.\n",
      "  imputed_data = imputed_data.append(participant_imputed, ignore_index=True)\n",
      "C:\\Users\\nikos\\AppData\\Local\\Temp\\ipykernel_25416\\2974248145.py:9: FutureWarning: Dropping of nuisance columns in DataFrame reductions (with 'numeric_only=None') is deprecated; in a future version this will raise TypeError.  Select only valid columns before calling the reduction.\n",
      "  participant_mean = participant_data.drop(columns=['id']).mean()\n",
      "C:\\Users\\nikos\\AppData\\Local\\Temp\\ipykernel_25416\\2974248145.py:17: FutureWarning: The frame.append method is deprecated and will be removed from pandas in a future version. Use pandas.concat instead.\n",
      "  imputed_data = imputed_data.append(participant_imputed, ignore_index=True)\n",
      "C:\\Users\\nikos\\AppData\\Local\\Temp\\ipykernel_25416\\2974248145.py:9: FutureWarning: Dropping of nuisance columns in DataFrame reductions (with 'numeric_only=None') is deprecated; in a future version this will raise TypeError.  Select only valid columns before calling the reduction.\n",
      "  participant_mean = participant_data.drop(columns=['id']).mean()\n",
      "C:\\Users\\nikos\\AppData\\Local\\Temp\\ipykernel_25416\\2974248145.py:17: FutureWarning: The frame.append method is deprecated and will be removed from pandas in a future version. Use pandas.concat instead.\n",
      "  imputed_data = imputed_data.append(participant_imputed, ignore_index=True)\n",
      "C:\\Users\\nikos\\AppData\\Local\\Temp\\ipykernel_25416\\2974248145.py:9: FutureWarning: Dropping of nuisance columns in DataFrame reductions (with 'numeric_only=None') is deprecated; in a future version this will raise TypeError.  Select only valid columns before calling the reduction.\n",
      "  participant_mean = participant_data.drop(columns=['id']).mean()\n",
      "C:\\Users\\nikos\\AppData\\Local\\Temp\\ipykernel_25416\\2974248145.py:17: FutureWarning: The frame.append method is deprecated and will be removed from pandas in a future version. Use pandas.concat instead.\n",
      "  imputed_data = imputed_data.append(participant_imputed, ignore_index=True)\n",
      "C:\\Users\\nikos\\AppData\\Local\\Temp\\ipykernel_25416\\2974248145.py:9: FutureWarning: Dropping of nuisance columns in DataFrame reductions (with 'numeric_only=None') is deprecated; in a future version this will raise TypeError.  Select only valid columns before calling the reduction.\n",
      "  participant_mean = participant_data.drop(columns=['id']).mean()\n",
      "C:\\Users\\nikos\\AppData\\Local\\Temp\\ipykernel_25416\\2974248145.py:17: FutureWarning: The frame.append method is deprecated and will be removed from pandas in a future version. Use pandas.concat instead.\n",
      "  imputed_data = imputed_data.append(participant_imputed, ignore_index=True)\n",
      "C:\\Users\\nikos\\AppData\\Local\\Temp\\ipykernel_25416\\2974248145.py:9: FutureWarning: Dropping of nuisance columns in DataFrame reductions (with 'numeric_only=None') is deprecated; in a future version this will raise TypeError.  Select only valid columns before calling the reduction.\n",
      "  participant_mean = participant_data.drop(columns=['id']).mean()\n",
      "C:\\Users\\nikos\\AppData\\Local\\Temp\\ipykernel_25416\\2974248145.py:17: FutureWarning: The frame.append method is deprecated and will be removed from pandas in a future version. Use pandas.concat instead.\n",
      "  imputed_data = imputed_data.append(participant_imputed, ignore_index=True)\n",
      "C:\\Users\\nikos\\AppData\\Local\\Temp\\ipykernel_25416\\2974248145.py:9: FutureWarning: Dropping of nuisance columns in DataFrame reductions (with 'numeric_only=None') is deprecated; in a future version this will raise TypeError.  Select only valid columns before calling the reduction.\n",
      "  participant_mean = participant_data.drop(columns=['id']).mean()\n",
      "C:\\Users\\nikos\\AppData\\Local\\Temp\\ipykernel_25416\\2974248145.py:17: FutureWarning: The frame.append method is deprecated and will be removed from pandas in a future version. Use pandas.concat instead.\n",
      "  imputed_data = imputed_data.append(participant_imputed, ignore_index=True)\n",
      "C:\\Users\\nikos\\AppData\\Local\\Temp\\ipykernel_25416\\2974248145.py:9: FutureWarning: Dropping of nuisance columns in DataFrame reductions (with 'numeric_only=None') is deprecated; in a future version this will raise TypeError.  Select only valid columns before calling the reduction.\n",
      "  participant_mean = participant_data.drop(columns=['id']).mean()\n",
      "C:\\Users\\nikos\\AppData\\Local\\Temp\\ipykernel_25416\\2974248145.py:17: FutureWarning: The frame.append method is deprecated and will be removed from pandas in a future version. Use pandas.concat instead.\n",
      "  imputed_data = imputed_data.append(participant_imputed, ignore_index=True)\n",
      "C:\\Users\\nikos\\AppData\\Local\\Temp\\ipykernel_25416\\2974248145.py:9: FutureWarning: Dropping of nuisance columns in DataFrame reductions (with 'numeric_only=None') is deprecated; in a future version this will raise TypeError.  Select only valid columns before calling the reduction.\n",
      "  participant_mean = participant_data.drop(columns=['id']).mean()\n",
      "C:\\Users\\nikos\\AppData\\Local\\Temp\\ipykernel_25416\\2974248145.py:17: FutureWarning: The frame.append method is deprecated and will be removed from pandas in a future version. Use pandas.concat instead.\n",
      "  imputed_data = imputed_data.append(participant_imputed, ignore_index=True)\n",
      "C:\\Users\\nikos\\AppData\\Local\\Temp\\ipykernel_25416\\2974248145.py:9: FutureWarning: Dropping of nuisance columns in DataFrame reductions (with 'numeric_only=None') is deprecated; in a future version this will raise TypeError.  Select only valid columns before calling the reduction.\n",
      "  participant_mean = participant_data.drop(columns=['id']).mean()\n",
      "C:\\Users\\nikos\\AppData\\Local\\Temp\\ipykernel_25416\\2974248145.py:17: FutureWarning: The frame.append method is deprecated and will be removed from pandas in a future version. Use pandas.concat instead.\n",
      "  imputed_data = imputed_data.append(participant_imputed, ignore_index=True)\n",
      "C:\\Users\\nikos\\AppData\\Local\\Temp\\ipykernel_25416\\2974248145.py:9: FutureWarning: Dropping of nuisance columns in DataFrame reductions (with 'numeric_only=None') is deprecated; in a future version this will raise TypeError.  Select only valid columns before calling the reduction.\n",
      "  participant_mean = participant_data.drop(columns=['id']).mean()\n",
      "C:\\Users\\nikos\\AppData\\Local\\Temp\\ipykernel_25416\\2974248145.py:17: FutureWarning: The frame.append method is deprecated and will be removed from pandas in a future version. Use pandas.concat instead.\n",
      "  imputed_data = imputed_data.append(participant_imputed, ignore_index=True)\n",
      "C:\\Users\\nikos\\AppData\\Local\\Temp\\ipykernel_25416\\2974248145.py:9: FutureWarning: Dropping of nuisance columns in DataFrame reductions (with 'numeric_only=None') is deprecated; in a future version this will raise TypeError.  Select only valid columns before calling the reduction.\n",
      "  participant_mean = participant_data.drop(columns=['id']).mean()\n",
      "C:\\Users\\nikos\\AppData\\Local\\Temp\\ipykernel_25416\\2974248145.py:17: FutureWarning: The frame.append method is deprecated and will be removed from pandas in a future version. Use pandas.concat instead.\n",
      "  imputed_data = imputed_data.append(participant_imputed, ignore_index=True)\n"
     ]
    }
   ],
   "source": [
    "# Create an empty DataFrame with the same columns as the original\n",
    "imputed_data = pd.DataFrame(columns=result.columns)\n",
    "\n",
    "# Iterate through unique participant ids\n",
    "for participant in result['id'].unique():\n",
    "    participant_data = result[result['id'] == participant]\n",
    "\n",
    "    # Calculate the mean of each column for the participant, excluding the 'id' column\n",
    "    participant_mean = participant_data.drop(columns=['id']).mean()\n",
    "\n",
    "    # Fill missing values with the participant-specific mean for each column\n",
    "    participant_imputed = participant_data.copy()\n",
    "    for column in participant_mean.index:\n",
    "        participant_imputed[column] = participant_data[column].fillna(participant_mean[column])\n",
    "\n",
    "    # Append the imputed participant data to the imputed_data DataFrame\n",
    "    imputed_data = imputed_data.append(participant_imputed, ignore_index=True)"
   ],
   "metadata": {
    "collapsed": false,
    "pycharm": {
     "name": "#%%\n"
    }
   }
  },
  {
   "cell_type": "code",
   "execution_count": 19,
   "outputs": [],
   "source": [
    "imputed_data.replace(np.nan,0, inplace=True)"
   ],
   "metadata": {
    "collapsed": false,
    "pycharm": {
     "name": "#%%\n"
    }
   }
  },
  {
   "cell_type": "code",
   "execution_count": 20,
   "outputs": [],
   "source": [
    "imputed_data.set_index('time', inplace=True)"
   ],
   "metadata": {
    "collapsed": false,
    "pycharm": {
     "name": "#%%\n"
    }
   }
  },
  {
   "cell_type": "markdown",
   "source": [
    "# ML classifier"
   ],
   "metadata": {
    "collapsed": false,
    "pycharm": {
     "name": "#%% md\n"
    }
   }
  },
  {
   "cell_type": "code",
   "execution_count": 21,
   "outputs": [],
   "source": [
    "from sklearn.ensemble import RandomForestRegressor\n",
    "from sklearn.model_selection import KFold, GridSearchCV, train_test_split\n",
    "from sklearn.metrics import mean_absolute_error, mean_squared_error, make_scorer"
   ],
   "metadata": {
    "collapsed": false,
    "pycharm": {
     "name": "#%%\n"
    }
   }
  },
  {
   "cell_type": "markdown",
   "source": [
    "## Section for classic ML models"
   ],
   "metadata": {
    "collapsed": false,
    "pycharm": {
     "name": "#%% md\n"
    }
   }
  },
  {
   "cell_type": "code",
   "execution_count": 22,
   "outputs": [],
   "source": [
    "X = imputed_data.drop(columns=['mood'])\n",
    "y = imputed_data['mood']\n",
    "X.drop(['id'], axis = 1, inplace = True)"
   ],
   "metadata": {
    "collapsed": false,
    "pycharm": {
     "name": "#%%\n"
    }
   }
  },
  {
   "cell_type": "code",
   "execution_count": 23,
   "outputs": [],
   "source": [
    "X_train, X_test, y_train, y_test = train_test_split(X, y, test_size=0.2, random_state=42)"
   ],
   "metadata": {
    "collapsed": false,
    "pycharm": {
     "name": "#%%\n"
    }
   }
  },
  {
   "cell_type": "markdown",
   "source": [
    "## Random forest classifier"
   ],
   "metadata": {
    "collapsed": false,
    "pycharm": {
     "name": "#%% md\n"
    }
   }
  },
  {
   "cell_type": "code",
   "execution_count": 24,
   "outputs": [],
   "source": [
    "rf_regressor = RandomForestRegressor(random_state=42)\n",
    "kf = KFold(n_splits=5, shuffle=True, random_state=42)"
   ],
   "metadata": {
    "collapsed": false,
    "pycharm": {
     "name": "#%%\n"
    }
   }
  },
  {
   "cell_type": "code",
   "execution_count": 25,
   "outputs": [],
   "source": [
    "# Set up the hyperparameter grid for the random forest\n",
    "param_grid = {\n",
    "    'n_estimators': [50, 100, 200],\n",
    "    'max_depth': [None, 10, 20]\n",
    "}"
   ],
   "metadata": {
    "collapsed": false,
    "pycharm": {
     "name": "#%%\n"
    }
   }
  },
  {
   "cell_type": "code",
   "execution_count": 26,
   "outputs": [],
   "source": [
    "# Create custom scorers\n",
    "scorers = {\n",
    "    'mae': make_scorer(mean_absolute_error, greater_is_better=False),\n",
    "    'mse': make_scorer(mean_squared_error, greater_is_better=False)\n",
    "}"
   ],
   "metadata": {
    "collapsed": false,
    "pycharm": {
     "name": "#%%\n"
    }
   }
  },
  {
   "cell_type": "code",
   "execution_count": 27,
   "outputs": [],
   "source": [
    "# Create the GridSearchCV object\n",
    "grid_search = GridSearchCV(estimator=rf_regressor, param_grid=param_grid, cv=kf, scoring=scorers, refit='mae')"
   ],
   "metadata": {
    "collapsed": false,
    "pycharm": {
     "name": "#%%\n"
    }
   }
  },
  {
   "cell_type": "code",
   "execution_count": 28,
   "outputs": [
    {
     "data": {
      "text/plain": "GridSearchCV(cv=KFold(n_splits=5, random_state=42, shuffle=True),\n             estimator=RandomForestRegressor(random_state=42),\n             param_grid={'max_depth': [None, 10, 20],\n                         'n_estimators': [50, 100, 200]},\n             refit='mae',\n             scoring={'mae': make_scorer(mean_absolute_error, greater_is_better=False),\n                      'mse': make_scorer(mean_squared_error, greater_is_better=False)})"
     },
     "execution_count": 28,
     "metadata": {},
     "output_type": "execute_result"
    }
   ],
   "source": [
    "# Fit the GridSearchCV object to the data\n",
    "grid_search.fit(X_train, y_train)"
   ],
   "metadata": {
    "collapsed": false,
    "pycharm": {
     "name": "#%%\n"
    }
   }
  },
  {
   "cell_type": "code",
   "execution_count": 29,
   "outputs": [],
   "source": [
    "# Get the best hyperparameters and the corresponding scores\n",
    "best_params = grid_search.best_params_\n",
    "best_mae_score = -grid_search.cv_results_['mean_test_mae'][grid_search.best_index_]\n",
    "best_mse_score = -grid_search.cv_results_['mean_test_mse'][grid_search.best_index_]"
   ],
   "metadata": {
    "collapsed": false,
    "pycharm": {
     "name": "#%%\n"
    }
   }
  },
  {
   "cell_type": "code",
   "execution_count": 30,
   "outputs": [
    {
     "name": "stdout",
     "output_type": "stream",
     "text": [
      "Best hyperparameters: {'max_depth': None, 'n_estimators': 100}\n",
      "Best Mean Absolute Error (MAE): 0.2160761888338379\n",
      "Best Mean Squared Error (MSE): 0.12263683220746242\n"
     ]
    }
   ],
   "source": [
    "print(\"Best hyperparameters:\", best_params)\n",
    "print(f\"Best Mean Absolute Error (MAE): {best_mae_score}\")\n",
    "print(f\"Best Mean Squared Error (MSE): {best_mse_score}\")\n",
    "\n",
    "# Train the random forest with the best hyperparameters on the whole dataset\n",
    "best_rf_regressor = RandomForestRegressor(**best_params, random_state=42)"
   ],
   "metadata": {
    "collapsed": false,
    "pycharm": {
     "name": "#%%\n"
    }
   }
  },
  {
   "cell_type": "code",
   "execution_count": 31,
   "outputs": [
    {
     "data": {
      "text/plain": "RandomForestRegressor(random_state=42)"
     },
     "execution_count": 31,
     "metadata": {},
     "output_type": "execute_result"
    }
   ],
   "source": [
    "best_rf_regressor.fit(X_train, y_train)"
   ],
   "metadata": {
    "collapsed": false,
    "pycharm": {
     "name": "#%%\n"
    }
   }
  },
  {
   "cell_type": "code",
   "execution_count": 32,
   "outputs": [
    {
     "name": "stdout",
     "output_type": "stream",
     "text": [
      "Test Mean Absolute Error (MAE): 0.20474988371363362\n",
      "Test Mean Squared Error (MSE): 0.12084605616884014\n"
     ]
    }
   ],
   "source": [
    "y_pred = best_rf_regressor.predict(X_test)\n",
    "# Calculate the evaluation metrics on the test dataset\n",
    "test_mae = mean_absolute_error(y_test, y_pred)\n",
    "test_mse = mean_squared_error(y_test, y_pred)\n",
    "\n",
    "print(f\"Test Mean Absolute Error (MAE): {test_mae}\")\n",
    "print(f\"Test Mean Squared Error (MSE): {test_mse}\")"
   ],
   "metadata": {
    "collapsed": false,
    "pycharm": {
     "name": "#%%\n"
    }
   }
  },
  {
   "cell_type": "code",
   "execution_count": 33,
   "outputs": [
    {
     "name": "stdout",
     "output_type": "stream",
     "text": [
      "Train Mean Absolute Error (MAE): 0.0792783031713945\n",
      "Train Mean Squared Error (MSE): 0.016289351601723026\n",
      "Test Mean Absolute Error (MAE): 0.20474988371363362\n",
      "Test Mean Squared Error (MSE): 0.12084605616884014\n"
     ]
    }
   ],
   "source": [
    "# Make predictions on the training dataset\n",
    "y_train_pred = best_rf_regressor.predict(X_train)\n",
    "\n",
    "# Calculate the evaluation metrics on the training dataset\n",
    "train_mae = mean_absolute_error(y_train, y_train_pred)\n",
    "train_mse = mean_squared_error(y_train, y_train_pred)\n",
    "\n",
    "print(f\"Train Mean Absolute Error (MAE): {train_mae}\")\n",
    "print(f\"Train Mean Squared Error (MSE): {train_mse}\")\n",
    "\n",
    "print(f\"Test Mean Absolute Error (MAE): {test_mae}\")\n",
    "print(f\"Test Mean Squared Error (MSE): {test_mse}\")"
   ],
   "metadata": {
    "collapsed": false,
    "pycharm": {
     "name": "#%%\n"
    }
   }
  }
 ],
 "metadata": {
  "kernelspec": {
   "display_name": "Python 3",
   "language": "python",
   "name": "python3"
  },
  "language_info": {
   "codemirror_mode": {
    "name": "ipython",
    "version": 2
   },
   "file_extension": ".py",
   "mimetype": "text/x-python",
   "name": "python",
   "nbconvert_exporter": "python",
   "pygments_lexer": "ipython2",
   "version": "2.7.6"
  }
 },
 "nbformat": 4,
 "nbformat_minor": 0
}