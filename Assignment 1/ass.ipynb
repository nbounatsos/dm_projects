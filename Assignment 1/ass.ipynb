{
 "cells": [
  {
   "cell_type": "code",
   "execution_count": 56,
   "outputs": [],
   "source": [
    "%reset -f"
   ],
   "metadata": {
    "collapsed": false
   }
  },
  {
   "cell_type": "code",
   "execution_count": 57,
   "outputs": [],
   "source": [
    "import pandas as pd\n",
    "import matplotlib.pyplot as plt\n",
    "%matplotlib inline"
   ],
   "metadata": {
    "collapsed": false
   }
  },
  {
   "cell_type": "code",
   "execution_count": 58,
   "outputs": [],
   "source": [
    "advanced_df = pd.read_csv(\"dataset_mood_smartphone (1).csv\", index_col=0)"
   ],
   "metadata": {
    "collapsed": false
   }
  },
  {
   "cell_type": "code",
   "execution_count": 59,
   "outputs": [
    {
     "data": {
      "text/plain": "        id                     time variable  value\n1  AS14.01  2014-02-26 13:00:00.000     mood    6.0\n2  AS14.01  2014-02-26 15:00:00.000     mood    6.0\n3  AS14.01  2014-02-26 18:00:00.000     mood    6.0\n4  AS14.01  2014-02-26 21:00:00.000     mood    7.0\n5  AS14.01  2014-02-27 09:00:00.000     mood    6.0",
      "text/html": "<div>\n<style scoped>\n    .dataframe tbody tr th:only-of-type {\n        vertical-align: middle;\n    }\n\n    .dataframe tbody tr th {\n        vertical-align: top;\n    }\n\n    .dataframe thead th {\n        text-align: right;\n    }\n</style>\n<table border=\"1\" class=\"dataframe\">\n  <thead>\n    <tr style=\"text-align: right;\">\n      <th></th>\n      <th>id</th>\n      <th>time</th>\n      <th>variable</th>\n      <th>value</th>\n    </tr>\n  </thead>\n  <tbody>\n    <tr>\n      <th>1</th>\n      <td>AS14.01</td>\n      <td>2014-02-26 13:00:00.000</td>\n      <td>mood</td>\n      <td>6.0</td>\n    </tr>\n    <tr>\n      <th>2</th>\n      <td>AS14.01</td>\n      <td>2014-02-26 15:00:00.000</td>\n      <td>mood</td>\n      <td>6.0</td>\n    </tr>\n    <tr>\n      <th>3</th>\n      <td>AS14.01</td>\n      <td>2014-02-26 18:00:00.000</td>\n      <td>mood</td>\n      <td>6.0</td>\n    </tr>\n    <tr>\n      <th>4</th>\n      <td>AS14.01</td>\n      <td>2014-02-26 21:00:00.000</td>\n      <td>mood</td>\n      <td>7.0</td>\n    </tr>\n    <tr>\n      <th>5</th>\n      <td>AS14.01</td>\n      <td>2014-02-27 09:00:00.000</td>\n      <td>mood</td>\n      <td>6.0</td>\n    </tr>\n  </tbody>\n</table>\n</div>"
     },
     "execution_count": 59,
     "metadata": {},
     "output_type": "execute_result"
    }
   ],
   "source": [
    "advanced_df.head()"
   ],
   "metadata": {
    "collapsed": false
   }
  },
  {
   "cell_type": "markdown",
   "source": [
    "## Define functions"
   ],
   "metadata": {
    "collapsed": false
   }
  },
  {
   "cell_type": "code",
   "execution_count": 60,
   "outputs": [],
   "source": [
    "# Check the shape of a dataframe, along with NaN values\n",
    "def check_df(df):\n",
    "    print(df.shape)\n",
    "    for item in df.columns:\n",
    "        print(item, ': ', type(df[item]), ', contains NaN:',df[item].isnull().values.any())\n",
    "\n",
    "# Plot all the variables vs time\n",
    "def plot_feature(df, variable_name, participant=None):\n",
    "    ylabel_text = f\"{variable_name} value\"\n",
    "    title_text = f\"{variable_name} vs time\"\n",
    "\n",
    "    if participant:\n",
    "        plot = df[(df['variable'] == variable_name) & (df['id'] == participant)]\n",
    "    else:\n",
    "        plot = df[(df['variable'] == variable_name)]\n",
    "\n",
    "    plt.plot(plot['time'], plot['value'], label = variable_name)\n",
    "    plt.xlabel('time')\n",
    "    plt.ylabel(ylabel_text)\n",
    "    plt.title(title_text)\n",
    "    plt.legend(loc='lower right')\n",
    "    plt.show()\n",
    "\n",
    "# Plot histograms of all the variables\n",
    "def plot_histograms(df, variable_name, participant=None):\n",
    "\n",
    "    if participant:\n",
    "        df[(df['variable'] == variable_name) & (df['id'] == participant)].plot(kind='hist', edgecolor='black', legend = variable_name)\n",
    "    else:\n",
    "        df[(df['variable'] == variable_name)].plot(kind='hist', edgecolor='black', legend = variable_name)\n",
    "    plt.xlabel(variable_name)\n",
    "    plt.legend(loc='lower right')\n",
    "\n",
    "# Remove outliers >0.75 and <0.25 of all values, excepting mood, call, sms etc\n",
    "def remove_outliers(df, column_name, multiplier=1.5):\n",
    "    exception_list = ['mood', 'sms', 'call', 'circumplex.arousal', 'circumplex.valence', 'activity']\n",
    "    if column_name in exception_list:\n",
    "        return\n",
    "    print(column_name)\n",
    "    q1 = df[column_name].quantile(0.25)\n",
    "    q2 = df[column_name].quantile(0.75)\n",
    "    iqr = q2 - q1\n",
    "    lower_bound = q1 - multiplier * iqr\n",
    "    upper_bound = q2 + multiplier * iqr\n",
    "    return df[(df[column_name] >= lower_bound) & (df[column_name] <= upper_bound)]\n",
    "\n",
    "# Check a dataframe for class balance\n",
    "def check_class_balance(df, target_column):\n",
    "    print(df[target_column].value_counts())"
   ],
   "metadata": {
    "collapsed": false
   }
  },
  {
   "cell_type": "markdown",
   "source": [
    "## Check for dataframe shape and NaN values"
   ],
   "metadata": {
    "collapsed": false
   }
  },
  {
   "cell_type": "code",
   "execution_count": 61,
   "outputs": [
    {
     "name": "stdout",
     "output_type": "stream",
     "text": [
      "(376912, 4)\n",
      "id :  <class 'pandas.core.series.Series'> , contains NaN: False\n",
      "time :  <class 'pandas.core.series.Series'> , contains NaN: False\n",
      "variable :  <class 'pandas.core.series.Series'> , contains NaN: False\n",
      "value :  <class 'pandas.core.series.Series'> , contains NaN: True\n"
     ]
    }
   ],
   "source": [
    "check_df(advanced_df)"
   ],
   "metadata": {
    "collapsed": false
   }
  },
  {
   "cell_type": "markdown",
   "source": [
    "## Checking which variables have NaN values"
   ],
   "metadata": {
    "collapsed": false
   }
  },
  {
   "cell_type": "code",
   "execution_count": 62,
   "outputs": [
    {
     "data": {
      "text/plain": "            id                     time            variable  value\n5709   AS14.01  2014-04-02 18:00:00.000  circumplex.arousal    NaN\n5731   AS14.01  2014-04-07 15:00:00.000  circumplex.arousal    NaN\n5773   AS14.01  2014-04-16 12:00:00.000  circumplex.arousal    NaN\n5797   AS14.01  2014-04-21 13:00:00.000  circumplex.arousal    NaN\n5836   AS14.01  2014-04-29 09:00:00.000  circumplex.arousal    NaN\n...        ...                      ...                 ...    ...\n16859  AS14.33  2014-05-16 20:00:00.000  circumplex.valence    NaN\n16862  AS14.33  2014-05-17 12:00:00.000  circumplex.valence    NaN\n16882  AS14.33  2014-05-21 16:00:00.000  circumplex.valence    NaN\n16899  AS14.33  2014-05-24 23:00:00.000  circumplex.valence    NaN\n16903  AS14.33  2014-05-25 21:00:00.000  circumplex.valence    NaN\n\n[202 rows x 4 columns]",
      "text/html": "<div>\n<style scoped>\n    .dataframe tbody tr th:only-of-type {\n        vertical-align: middle;\n    }\n\n    .dataframe tbody tr th {\n        vertical-align: top;\n    }\n\n    .dataframe thead th {\n        text-align: right;\n    }\n</style>\n<table border=\"1\" class=\"dataframe\">\n  <thead>\n    <tr style=\"text-align: right;\">\n      <th></th>\n      <th>id</th>\n      <th>time</th>\n      <th>variable</th>\n      <th>value</th>\n    </tr>\n  </thead>\n  <tbody>\n    <tr>\n      <th>5709</th>\n      <td>AS14.01</td>\n      <td>2014-04-02 18:00:00.000</td>\n      <td>circumplex.arousal</td>\n      <td>NaN</td>\n    </tr>\n    <tr>\n      <th>5731</th>\n      <td>AS14.01</td>\n      <td>2014-04-07 15:00:00.000</td>\n      <td>circumplex.arousal</td>\n      <td>NaN</td>\n    </tr>\n    <tr>\n      <th>5773</th>\n      <td>AS14.01</td>\n      <td>2014-04-16 12:00:00.000</td>\n      <td>circumplex.arousal</td>\n      <td>NaN</td>\n    </tr>\n    <tr>\n      <th>5797</th>\n      <td>AS14.01</td>\n      <td>2014-04-21 13:00:00.000</td>\n      <td>circumplex.arousal</td>\n      <td>NaN</td>\n    </tr>\n    <tr>\n      <th>5836</th>\n      <td>AS14.01</td>\n      <td>2014-04-29 09:00:00.000</td>\n      <td>circumplex.arousal</td>\n      <td>NaN</td>\n    </tr>\n    <tr>\n      <th>...</th>\n      <td>...</td>\n      <td>...</td>\n      <td>...</td>\n      <td>...</td>\n    </tr>\n    <tr>\n      <th>16859</th>\n      <td>AS14.33</td>\n      <td>2014-05-16 20:00:00.000</td>\n      <td>circumplex.valence</td>\n      <td>NaN</td>\n    </tr>\n    <tr>\n      <th>16862</th>\n      <td>AS14.33</td>\n      <td>2014-05-17 12:00:00.000</td>\n      <td>circumplex.valence</td>\n      <td>NaN</td>\n    </tr>\n    <tr>\n      <th>16882</th>\n      <td>AS14.33</td>\n      <td>2014-05-21 16:00:00.000</td>\n      <td>circumplex.valence</td>\n      <td>NaN</td>\n    </tr>\n    <tr>\n      <th>16899</th>\n      <td>AS14.33</td>\n      <td>2014-05-24 23:00:00.000</td>\n      <td>circumplex.valence</td>\n      <td>NaN</td>\n    </tr>\n    <tr>\n      <th>16903</th>\n      <td>AS14.33</td>\n      <td>2014-05-25 21:00:00.000</td>\n      <td>circumplex.valence</td>\n      <td>NaN</td>\n    </tr>\n  </tbody>\n</table>\n<p>202 rows × 4 columns</p>\n</div>"
     },
     "execution_count": 62,
     "metadata": {},
     "output_type": "execute_result"
    }
   ],
   "source": [
    "advanced_df.query('value.isnull()')"
   ],
   "metadata": {
    "collapsed": false
   }
  },
  {
   "cell_type": "markdown",
   "source": [
    "### The only variables that contain NaN values are circumplex.arousal and circumplex.valence. Discussion needs to be made if these values should be removed or be converted to 0s"
   ],
   "metadata": {
    "collapsed": false
   }
  },
  {
   "cell_type": "markdown",
   "source": [
    "## Drop rows with NaN values"
   ],
   "metadata": {
    "collapsed": false
   }
  },
  {
   "cell_type": "code",
   "execution_count": 63,
   "outputs": [
    {
     "name": "stdout",
     "output_type": "stream",
     "text": [
      "(376710, 4)\n",
      "id :  <class 'pandas.core.series.Series'> , contains NaN: False\n",
      "time :  <class 'pandas.core.series.Series'> , contains NaN: False\n",
      "variable :  <class 'pandas.core.series.Series'> , contains NaN: False\n",
      "value :  <class 'pandas.core.series.Series'> , contains NaN: False\n"
     ]
    }
   ],
   "source": [
    "advanced_df.dropna(inplace=True)\n",
    "check_df(advanced_df)"
   ],
   "metadata": {
    "collapsed": false
   }
  },
  {
   "cell_type": "markdown",
   "source": [
    "## Sort dataframe by id and time"
   ],
   "metadata": {
    "collapsed": false
   }
  },
  {
   "cell_type": "code",
   "execution_count": 64,
   "outputs": [],
   "source": [
    "advanced_df.sort_values(['id', 'time'], inplace=True)"
   ],
   "metadata": {
    "collapsed": false
   }
  },
  {
   "cell_type": "markdown",
   "source": [
    "## Plot all features vs time for participant AS14.01"
   ],
   "metadata": {
    "collapsed": false
   }
  },
  {
   "cell_type": "code",
   "execution_count": 65,
   "outputs": [],
   "source": [
    "#for name in advanced_df['variable'].unique():\n",
    "#    plot_feature(advanced_df, name, 'AS14.01')"
   ],
   "metadata": {
    "collapsed": false
   }
  },
  {
   "cell_type": "markdown",
   "source": [
    "## Plot variable values to check for distribution for participant AS14.01"
   ],
   "metadata": {
    "collapsed": false
   }
  },
  {
   "cell_type": "code",
   "execution_count": 66,
   "outputs": [],
   "source": [
    "#for name in advanced_df['variable'].unique():\n",
    "#    plot_histograms(advanced_df, name, 'AS14.01')"
   ],
   "metadata": {
    "collapsed": false
   }
  },
  {
   "cell_type": "markdown",
   "source": [
    "## Calculate mean and sd for each variable"
   ],
   "metadata": {
    "collapsed": false
   }
  },
  {
   "cell_type": "code",
   "execution_count": 67,
   "outputs": [],
   "source": [
    "result = advanced_df.groupby('variable')['value'].agg(['mean', 'std'])"
   ],
   "metadata": {
    "collapsed": false
   }
  },
  {
   "cell_type": "markdown",
   "source": [
    "## Remove outliers for all participants"
   ],
   "metadata": {
    "collapsed": false
   }
  },
  {
   "cell_type": "code",
   "execution_count": 68,
   "outputs": [
    {
     "name": "stdout",
     "output_type": "stream",
     "text": [
      "value\n",
      "value\n",
      "value\n",
      "value\n",
      "value\n",
      "value\n",
      "value\n",
      "value\n",
      "value\n",
      "value\n",
      "value\n",
      "value\n",
      "value\n"
     ]
    }
   ],
   "source": [
    "filtered_data = []\n",
    "exception_list = ['mood', 'sms', 'call', 'circumplex.arousal', 'circumplex.valence', 'activity']\n",
    "\n",
    "for name in advanced_df['variable'].unique():\n",
    "    if name in exception_list:\n",
    "        filtered_data.append(advanced_df[advanced_df['variable'] == name])\n",
    "        continue\n",
    "    else:\n",
    "        group = advanced_df[advanced_df['variable'] == name]\n",
    "        filtered_group = remove_outliers(group, 'value')\n",
    "        filtered_data.append(filtered_group)\n",
    "\n",
    "clean_df = pd.concat(filtered_data)"
   ],
   "metadata": {
    "collapsed": false
   }
  },
  {
   "cell_type": "markdown",
   "source": [
    "## Check variable vs time after outliers removed"
   ],
   "metadata": {
    "collapsed": false
   }
  },
  {
   "cell_type": "code",
   "execution_count": 69,
   "outputs": [],
   "source": [
    "#for name in clean_df['variable'].unique():\n",
    "#    plot_feature(clean_df, name, 'AS14.01')"
   ],
   "metadata": {
    "collapsed": false
   }
  },
  {
   "cell_type": "markdown",
   "source": [
    "## Check variable distribution for participant AS14.01 with the new data"
   ],
   "metadata": {
    "collapsed": false
   }
  },
  {
   "cell_type": "code",
   "execution_count": 70,
   "outputs": [],
   "source": [
    "#for name in advanced_df['variable'].unique():\n",
    "#   plot_histograms(advanced_df, name, 'AS14.01')"
   ],
   "metadata": {
    "collapsed": false
   }
  },
  {
   "cell_type": "markdown",
   "source": [],
   "metadata": {
    "collapsed": false
   }
  },
  {
   "cell_type": "markdown",
   "source": [
    "# Data engineering"
   ],
   "metadata": {
    "collapsed": false
   }
  },
  {
   "cell_type": "markdown",
   "source": [
    "## For each variable, calculate the average value if the variable is continuous and the count if the value is categorical, for each day, and distinguish the variable column to different features."
   ],
   "metadata": {
    "collapsed": false
   }
  },
  {
   "cell_type": "code",
   "execution_count": 71,
   "outputs": [],
   "source": [
    "# Convert timestamp to datetime object and extract date\n",
    "clean_df['time'] = pd.to_datetime(clean_df['time']).dt.date\n",
    "\n",
    "# List of continuous and categorical variables\n",
    "continuous_vars = ['mood', 'screen', 'appCat.builtin', 'appCat.communication', 'appCat.entertainment', 'appCat.finance', 'appCat.game', 'appCat.office', 'appCat.other', 'appCat.social', 'appCat.travel', 'appCat.unknown', 'appCat.utilities', 'appCat.weather', 'circumplex.arousal', 'circumplex.valence', 'activity']\n",
    "categorical_vars = ['call', 'sms']\n",
    "\n",
    "# Define aggregation functions for continuous and categorical variables\n",
    "aggregations = {}\n",
    "for var in continuous_vars:\n",
    "    aggregations[var] = 'mean'\n",
    "for var in categorical_vars:\n",
    "    aggregations[var] = 'count'\n"
   ],
   "metadata": {
    "collapsed": false
   }
  },
  {
   "cell_type": "code",
   "execution_count": 72,
   "outputs": [
    {
     "name": "stdout",
     "output_type": "stream",
     "text": [
      "variable       id        time  activity  appCat.builtin  appCat.communication   \n",
      "0         AS14.01  2014-02-26       NaN             NaN                   NaN  \\\n",
      "1         AS14.01  2014-02-27       NaN             NaN                   NaN   \n",
      "2         AS14.01  2014-03-20  0.081548        3.036650             29.724576   \n",
      "3         AS14.01  2014-03-21  0.134050        5.320083             29.082061   \n",
      "4         AS14.01  2014-03-22  0.236880        5.126204             24.033123   \n",
      "...           ...         ...       ...             ...                   ...   \n",
      "1968      AS14.33  2014-04-11       NaN             NaN                   NaN   \n",
      "1969      AS14.33  2014-04-12       NaN             NaN                   NaN   \n",
      "1970      AS14.33  2014-04-13       NaN             NaN                   NaN   \n",
      "1971      AS14.33  2014-04-14       NaN             NaN                   NaN   \n",
      "1972      AS14.33  2014-04-15       NaN             NaN                   NaN   \n",
      "\n",
      "variable  appCat.entertainment  appCat.finance  appCat.game  appCat.office   \n",
      "0                          NaN             NaN          NaN            NaN  \\\n",
      "1                          NaN             NaN          NaN            NaN   \n",
      "2                    14.197667             NaN          NaN            NaN   \n",
      "3                     8.408167        6.193000          NaN          5.479   \n",
      "4                     4.010000        7.025333          NaN            NaN   \n",
      "...                        ...             ...          ...            ...   \n",
      "1968                       NaN             NaN          NaN            NaN   \n",
      "1969                       NaN             NaN          NaN            NaN   \n",
      "1970                       NaN             NaN          NaN            NaN   \n",
      "1971                       NaN             NaN          NaN            NaN   \n",
      "1972                       NaN             NaN          NaN            NaN   \n",
      "\n",
      "variable  appCat.other  ...  appCat.travel  appCat.unknown  appCat.utilities   \n",
      "0                  NaN  ...            NaN             NaN               NaN  \\\n",
      "1                  NaN  ...            NaN             NaN               NaN   \n",
      "2             5.672500  ...            NaN          45.173         10.537000   \n",
      "3            10.093000  ...        16.7373             NaN          9.962522   \n",
      "4            10.094167  ...        37.3050             NaN         26.594000   \n",
      "...                ...  ...            ...             ...               ...   \n",
      "1968               NaN  ...            NaN             NaN               NaN   \n",
      "1969               NaN  ...            NaN             NaN               NaN   \n",
      "1970               NaN  ...            NaN             NaN               NaN   \n",
      "1971               NaN  ...            NaN             NaN               NaN   \n",
      "1972               NaN  ...            NaN             NaN               NaN   \n",
      "\n",
      "variable  appCat.weather  circumplex.arousal  circumplex.valence      mood   \n",
      "0                    NaN               -0.25            0.750000  6.250000  \\\n",
      "1                    NaN                0.00            0.333333  6.333333   \n",
      "2                    NaN                 NaN                 NaN       NaN   \n",
      "3                    NaN                0.20            0.200000  6.200000   \n",
      "4                    NaN                0.60            0.500000  6.400000   \n",
      "...                  ...                 ...                 ...       ...   \n",
      "1968                 NaN                 NaN                 NaN       NaN   \n",
      "1969                 NaN                 NaN                 NaN       NaN   \n",
      "1970                 NaN                 NaN                 NaN       NaN   \n",
      "1971                 NaN                 NaN                 NaN       NaN   \n",
      "1972                 NaN                 NaN                 NaN       NaN   \n",
      "\n",
      "variable     screen  call  sms  \n",
      "0               NaN   1.0  2.0  \n",
      "1               NaN   NaN  NaN  \n",
      "2         25.768600   1.0  NaN  \n",
      "3         33.348407   6.0  NaN  \n",
      "4         26.421426   3.0  1.0  \n",
      "...             ...   ...  ...  \n",
      "1968            NaN   2.0  1.0  \n",
      "1969            NaN   1.0  NaN  \n",
      "1970            NaN   1.0  NaN  \n",
      "1971            NaN   2.0  NaN  \n",
      "1972            NaN   4.0  1.0  \n",
      "\n",
      "[1973 rows x 21 columns]\n"
     ]
    }
   ],
   "source": [
    "# Filter the dataframe for continuous and categorical variables\n",
    "cont_df = clean_df[clean_df['variable'].isin(continuous_vars)].pivot_table(index=['id', 'time'], columns='variable', values='value').reset_index()\n",
    "cat_df = clean_df[clean_df['variable'].isin(categorical_vars)].pivot_table(index=['id', 'time'], columns='variable', values='value', aggfunc='count').reset_index()\n",
    "\n",
    "# Merge the dataframes\n",
    "result = pd.merge(cont_df, cat_df, on=['id', 'time'], how='outer')\n",
    "print(result)\n"
   ],
   "metadata": {
    "collapsed": false
   }
  },
  {
   "cell_type": "code",
   "execution_count": 73,
   "outputs": [
    {
     "name": "stdout",
     "output_type": "stream",
     "text": [
      "variable\n",
      "id                      0\n",
      "time                    0\n",
      "activity                0\n",
      "appCat.builtin          0\n",
      "appCat.communication    0\n",
      "appCat.entertainment    0\n",
      "appCat.finance          0\n",
      "appCat.game             0\n",
      "appCat.office           0\n",
      "appCat.other            0\n",
      "appCat.social           0\n",
      "appCat.travel           0\n",
      "appCat.unknown          0\n",
      "appCat.utilities        0\n",
      "appCat.weather          0\n",
      "circumplex.arousal      0\n",
      "circumplex.valence      0\n",
      "mood                    0\n",
      "screen                  0\n",
      "call                    0\n",
      "sms                     0\n",
      "dtype: int64\n"
     ]
    },
    {
     "name": "stderr",
     "output_type": "stream",
     "text": [
      "C:\\Users\\robin\\AppData\\Local\\Programs\\Python\\Python39\\lib\\site-packages\\sklearn\\impute\\_iterative.py:785: ConvergenceWarning: [IterativeImputer] Early stopping criterion not reached.\n",
      "  warnings.warn(\n"
     ]
    }
   ],
   "source": [
    "from sklearn.experimental import enable_iterative_imputer\n",
    "from sklearn.impute import IterativeImputer\n",
    "\n",
    "# Initialize the imputer with default settings\n",
    "imputer = IterativeImputer(random_state=42)\n",
    "\n",
    "# Fit and transform the imputer on the result DataFrame without 'id' and 'time' columns\n",
    "result_numeric = result.drop(columns=['id', 'time'])\n",
    "result_imputed = imputer.fit_transform(result_numeric)\n",
    "\n",
    "# Replace the original numeric columns with the imputed values\n",
    "result[result_numeric.columns] = result_imputed\n",
    "\n",
    "# Check for NaN values in the imputed dataset\n",
    "print(result.isnull().sum())\n"
   ],
   "metadata": {
    "collapsed": false
   }
  },
  {
   "cell_type": "markdown",
   "source": [],
   "metadata": {
    "collapsed": false
   }
  },
  {
   "cell_type": "markdown",
   "source": [
    "# ML classifier"
   ],
   "metadata": {
    "collapsed": false
   }
  },
  {
   "cell_type": "code",
   "execution_count": 74,
   "outputs": [],
   "source": [
    "from sklearn.preprocessing import StandardScaler\n",
    "from sklearn.model_selection import train_test_split\n",
    "\n",
    "# Split the data into features (X) and target (y)\n",
    "X = result.loc[:, result.columns != 'mood']\n",
    "y = result['mood']\n",
    "\n",
    "# Convert the target variable ('mood') to integer values\n",
    "y = y.round().astype(int)\n",
    "\n",
    "# Split the data into training and testing sets\n",
    "X_train, X_test, y_train, y_test = train_test_split(X, y, test_size=0.2, random_state=42)\n",
    "\n",
    "# Exclude non-numeric columns like 'id' and 'time', and categorical variables 'call' and 'sms'\n",
    "X_train_numeric = X_train.drop(columns=['id', 'time', 'call', 'sms'])\n",
    "X_test_numeric = X_test.drop(columns=['id', 'time', 'call', 'sms'])\n",
    "\n",
    "# Scale the numeric data using StandardScaler\n",
    "scaler = StandardScaler()\n",
    "X_train_scaled = scaler.fit_transform(X_train_numeric)\n",
    "X_test_scaled = scaler.transform(X_test_numeric)\n",
    "\n",
    "# Convert scaled arrays back to DataFrames\n",
    "X_train_scaled = pd.DataFrame(X_train_scaled, columns=X_train_numeric.columns, index=X_train_numeric.index)\n",
    "X_test_scaled = pd.DataFrame(X_test_scaled, columns=X_test_numeric.columns, index=X_test_numeric.index)\n",
    "\n",
    "# Concatenate categorical variables 'call' and 'sms' back to the feature sets\n",
    "X_train_scaled = pd.concat([X_train_scaled, X_train[['call', 'sms']]], axis=1)\n",
    "X_test_scaled = pd.concat([X_test_scaled, X_test[['call', 'sms']]], axis=1)\n",
    "\n",
    "# Continue with the machine learning model training and evaluation using X_train_scaled and X_test_scaled\n"
   ],
   "metadata": {
    "collapsed": false
   }
  },
  {
   "cell_type": "markdown",
   "source": [
    "## Section for classic ML models"
   ],
   "metadata": {
    "collapsed": false
   }
  },
  {
   "cell_type": "code",
   "execution_count": 75,
   "outputs": [],
   "source": [
    "X = result.loc[:,result.columns != 'mood']\n",
    "y = result['mood']\n"
   ],
   "metadata": {
    "collapsed": false
   }
  },
  {
   "cell_type": "code",
   "execution_count": 76,
   "outputs": [],
   "source": [
    "y = y.round().astype(int)"
   ],
   "metadata": {
    "collapsed": false
   }
  },
  {
   "cell_type": "code",
   "execution_count": 77,
   "outputs": [],
   "source": [
    "X_train, X_test, y_train, y_test = train_test_split(X, y, test_size=0.2, random_state=42)"
   ],
   "metadata": {
    "collapsed": false
   }
  },
  {
   "cell_type": "markdown",
   "source": [
    "## Check for class balance"
   ],
   "metadata": {
    "collapsed": false
   }
  },
  {
   "cell_type": "code",
   "execution_count": 78,
   "outputs": [
    {
     "name": "stdout",
     "output_type": "stream",
     "text": [
      "mood\n",
      "7    1068\n",
      "8     257\n",
      "6     212\n",
      "5      22\n",
      "9      10\n",
      "4       7\n",
      "3       2\n",
      "Name: count, dtype: int64\n"
     ]
    }
   ],
   "source": [
    "y_train = pd.DataFrame(y_train)\n",
    "check_class_balance(y_train, 'mood')"
   ],
   "metadata": {
    "collapsed": false
   }
  },
  {
   "cell_type": "markdown",
   "source": [],
   "metadata": {
    "collapsed": false
   }
  },
  {
   "cell_type": "markdown",
   "source": [
    "## We need to balance these classes to train the model, if not the model will be biased towards predicting more 0s and 7s"
   ],
   "metadata": {
    "collapsed": false
   }
  },
  {
   "cell_type": "markdown",
   "source": [
    "## Upsampling with SMOTE"
   ],
   "metadata": {
    "collapsed": false
   }
  },
  {
   "cell_type": "code",
   "execution_count": 80,
   "outputs": [
    {
     "data": {
      "text/plain": "mood\n7    1068\n6    1068\n8    1068\n5    1068\n3    1068\n9    1068\n4    1068\nName: count, dtype: int64"
     },
     "execution_count": 80,
     "metadata": {},
     "output_type": "execute_result"
    }
   ],
   "source": [
    "from imblearn.over_sampling import SMOTE\n",
    "from sklearn.model_selection import train_test_split\n",
    "\n",
    "# Drop 'id' and 'time' columns from the dataset\n",
    "X = result.drop(columns=['id', 'time', 'mood'])\n",
    "y = result['mood']\n",
    "\n",
    "# Convert the target variable ('mood') to integer values\n",
    "y = y.round().astype(int)\n",
    "\n",
    "X_train, X_test, y_train, y_test = train_test_split(X, y, test_size=0.2, random_state=42)\n",
    "\n",
    "# Apply SMOTE to balance the classes\n",
    "smote = SMOTE(random_state=42, k_neighbors=1)\n",
    "X_train_resampled, y_train_resampled = smote.fit_resample(X_train, y_train)\n",
    "\n",
    "# Check the class balance after resampling\n",
    "y_train_resampled.value_counts()\n"
   ],
   "metadata": {
    "collapsed": false
   }
  },
  {
   "cell_type": "markdown",
   "source": [
    "## Undersampling (probably not useful)"
   ],
   "metadata": {
    "collapsed": false
   }
  },
  {
   "cell_type": "markdown",
   "source": [
    "## Section for ARIMA model. The difference is that ARIMA does not need the rest features, only time and mood."
   ],
   "metadata": {
    "collapsed": false
   }
  },
  {
   "cell_type": "code",
   "execution_count": null,
   "outputs": [],
   "source": [],
   "metadata": {
    "collapsed": false
   }
  }
 ],
 "metadata": {
  "kernelspec": {
   "display_name": "Python 3",
   "language": "python",
   "name": "python3"
  },
  "language_info": {
   "codemirror_mode": {
    "name": "ipython",
    "version": 2
   },
   "file_extension": ".py",
   "mimetype": "text/x-python",
   "name": "python",
   "nbconvert_exporter": "python",
   "pygments_lexer": "ipython2",
   "version": "2.7.6"
  }
 },
 "nbformat": 4,
 "nbformat_minor": 0
}
