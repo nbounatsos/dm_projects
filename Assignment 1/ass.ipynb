{
 "cells": [
  {
   "cell_type": "code",
   "execution_count": 25,
   "outputs": [],
   "source": [
    "import pandas as pd\n",
    "import matplotlib.pyplot as plt\n",
    "%matplotlib inline"
   ],
   "metadata": {
    "collapsed": false,
    "pycharm": {
     "name": "#%%\n"
    }
   }
  },
  {
   "cell_type": "code",
   "execution_count": 26,
   "outputs": [],
   "source": [
    "advanced_df = pd.read_csv(\"dataset_mood_smartphone (1).csv\", index_col=0)"
   ],
   "metadata": {
    "collapsed": false,
    "pycharm": {
     "name": "#%%\n"
    }
   }
  },
  {
   "cell_type": "code",
   "execution_count": 27,
   "outputs": [
    {
     "data": {
      "text/plain": "        id                     time variable  value\n1  AS14.01  2014-02-26 13:00:00.000     mood    6.0\n2  AS14.01  2014-02-26 15:00:00.000     mood    6.0\n3  AS14.01  2014-02-26 18:00:00.000     mood    6.0\n4  AS14.01  2014-02-26 21:00:00.000     mood    7.0\n5  AS14.01  2014-02-27 09:00:00.000     mood    6.0",
      "text/html": "<div>\n<style scoped>\n    .dataframe tbody tr th:only-of-type {\n        vertical-align: middle;\n    }\n\n    .dataframe tbody tr th {\n        vertical-align: top;\n    }\n\n    .dataframe thead th {\n        text-align: right;\n    }\n</style>\n<table border=\"1\" class=\"dataframe\">\n  <thead>\n    <tr style=\"text-align: right;\">\n      <th></th>\n      <th>id</th>\n      <th>time</th>\n      <th>variable</th>\n      <th>value</th>\n    </tr>\n  </thead>\n  <tbody>\n    <tr>\n      <th>1</th>\n      <td>AS14.01</td>\n      <td>2014-02-26 13:00:00.000</td>\n      <td>mood</td>\n      <td>6.0</td>\n    </tr>\n    <tr>\n      <th>2</th>\n      <td>AS14.01</td>\n      <td>2014-02-26 15:00:00.000</td>\n      <td>mood</td>\n      <td>6.0</td>\n    </tr>\n    <tr>\n      <th>3</th>\n      <td>AS14.01</td>\n      <td>2014-02-26 18:00:00.000</td>\n      <td>mood</td>\n      <td>6.0</td>\n    </tr>\n    <tr>\n      <th>4</th>\n      <td>AS14.01</td>\n      <td>2014-02-26 21:00:00.000</td>\n      <td>mood</td>\n      <td>7.0</td>\n    </tr>\n    <tr>\n      <th>5</th>\n      <td>AS14.01</td>\n      <td>2014-02-27 09:00:00.000</td>\n      <td>mood</td>\n      <td>6.0</td>\n    </tr>\n  </tbody>\n</table>\n</div>"
     },
     "execution_count": 27,
     "metadata": {},
     "output_type": "execute_result"
    }
   ],
   "source": [
    "advanced_df.head()"
   ],
   "metadata": {
    "collapsed": false,
    "pycharm": {
     "name": "#%%\n"
    }
   }
  },
  {
   "cell_type": "markdown",
   "source": [
    "## Define function"
   ],
   "metadata": {
    "collapsed": false,
    "pycharm": {
     "name": "#%% md\n"
    }
   }
  },
  {
   "cell_type": "code",
   "execution_count": 37,
   "outputs": [],
   "source": [
    "# Check the shape of a dataframe, along with NaN values\n",
    "def check_df(df):\n",
    "    print(df.shape)\n",
    "    for item in df.columns:\n",
    "        print(item, ': ', type(df[item]), ', contains NaN:',df[item].isnull().values.any())\n",
    "\n",
    "# Plot all the variables vs time\n",
    "def plot_feature(df, variable_name):\n",
    "    ylabel_text = f\"{variable_name} value\"\n",
    "    title_text = f\"{variable_name} vs time\"\n",
    "    plot = df[(df['variable'] == variable_name) & (df['id'] == specific_id)]\n",
    "\n",
    "    plt.plot(plot['time'], plot['value'])\n",
    "    plt.xlabel('time')\n",
    "    plt.ylabel(ylabel_text)\n",
    "    plt.title(title_text)\n",
    "    plt.show()\n",
    "\n",
    "# Plot histograms of all the variables\n",
    "def plot_histograms(df, variable_name):\n",
    "    df[(df['variable'] == variable_name) & (df['id'] == specific_id)].plot(kind='hist', edgecolor='black');\n",
    "    plt.xlabel(variable_name)\n",
    "\n",
    "# Remove outliers >0.75 and <0.25 of all values\n",
    "def remove_outliers(df, column_name, multiplier=1.5):\n",
    "    q1 = df[column_name].quantile(0.25)\n",
    "    q2 = df[column_name].quantile(0.75)\n",
    "    iqr = q2 - q1\n",
    "    lower_bound = q1 - multiplier * iqr\n",
    "    upper_bound = q2 + multiplier * iqr\n",
    "    return df[(df[column_name] >= lower_bound) & (df[column_name] <= upper_bound)]"
   ],
   "metadata": {
    "collapsed": false,
    "pycharm": {
     "name": "#%%\n"
    }
   }
  },
  {
   "cell_type": "markdown",
   "source": [
    "## Check for dataframe shape and NaN values"
   ],
   "metadata": {
    "collapsed": false,
    "pycharm": {
     "name": "#%% md\n"
    }
   }
  },
  {
   "cell_type": "code",
   "execution_count": 29,
   "outputs": [
    {
     "name": "stdout",
     "output_type": "stream",
     "text": [
      "(376912, 4)\n",
      "id :  <class 'pandas.core.series.Series'> , contains NaN: False\n",
      "time :  <class 'pandas.core.series.Series'> , contains NaN: False\n",
      "variable :  <class 'pandas.core.series.Series'> , contains NaN: False\n",
      "value :  <class 'pandas.core.series.Series'> , contains NaN: True\n"
     ]
    }
   ],
   "source": [
    "check_df(advanced_df)"
   ],
   "metadata": {
    "collapsed": false,
    "pycharm": {
     "name": "#%%\n"
    }
   }
  },
  {
   "cell_type": "markdown",
   "source": [
    "## Drop rows with NaN values"
   ],
   "metadata": {
    "collapsed": false,
    "pycharm": {
     "name": "#%% md\n"
    }
   }
  },
  {
   "cell_type": "code",
   "execution_count": 30,
   "outputs": [
    {
     "name": "stdout",
     "output_type": "stream",
     "text": [
      "(376710, 4)\n",
      "id :  <class 'pandas.core.series.Series'> , contains NaN: False\n",
      "time :  <class 'pandas.core.series.Series'> , contains NaN: False\n",
      "variable :  <class 'pandas.core.series.Series'> , contains NaN: False\n",
      "value :  <class 'pandas.core.series.Series'> , contains NaN: False\n"
     ]
    }
   ],
   "source": [
    "advanced_df.dropna(inplace=True)\n",
    "check_df(advanced_df)"
   ],
   "metadata": {
    "collapsed": false,
    "pycharm": {
     "name": "#%%\n"
    }
   }
  },
  {
   "cell_type": "markdown",
   "source": [
    "## Sort dataframe by id and time"
   ],
   "metadata": {
    "collapsed": false,
    "pycharm": {
     "name": "#%% md\n"
    }
   }
  },
  {
   "cell_type": "code",
   "execution_count": 31,
   "outputs": [],
   "source": [
    "advanced_df = advanced_df.sort_values(['id', 'time'])"
   ],
   "metadata": {
    "collapsed": false,
    "pycharm": {
     "name": "#%%\n"
    }
   }
  },
  {
   "cell_type": "markdown",
   "source": [
    "## Set the participant to AS14.01, plot all features vs time"
   ],
   "metadata": {
    "collapsed": false,
    "pycharm": {
     "name": "#%% md\n"
    }
   }
  },
  {
   "cell_type": "code",
   "execution_count": 32,
   "outputs": [],
   "source": [
    "specific_id = 'AS14.01'"
   ],
   "metadata": {
    "collapsed": false,
    "pycharm": {
     "name": "#%%\n"
    }
   }
  },
  {
   "cell_type": "code",
   "execution_count": null,
   "outputs": [],
   "source": [
    "for name in advanced_df['variable'].unique():\n",
    "    plot_feature(advanced_df, name)"
   ],
   "metadata": {
    "collapsed": false,
    "pycharm": {
     "name": "#%%\n",
     "is_executing": true
    }
   }
  },
  {
   "cell_type": "markdown",
   "source": [
    "## Plot variable values to check for distribution for participant AS14.01"
   ],
   "metadata": {
    "collapsed": false,
    "pycharm": {
     "name": "#%% md\n"
    }
   }
  },
  {
   "cell_type": "code",
   "execution_count": null,
   "outputs": [],
   "source": [
    "for name in advanced_df['variable'].unique():\n",
    "    plot_histograms(advanced_df, name)"
   ],
   "metadata": {
    "collapsed": false,
    "pycharm": {
     "name": "#%%\n",
     "is_executing": true
    }
   }
  },
  {
   "cell_type": "markdown",
   "source": [
    "## Calculate mean and sd for each variable"
   ],
   "metadata": {
    "collapsed": false,
    "pycharm": {
     "name": "#%% md\n"
    }
   }
  },
  {
   "cell_type": "code",
   "execution_count": 36,
   "outputs": [],
   "source": [
    "result = advanced_df.groupby('variable')['value'].agg(['mean', 'std'])"
   ],
   "metadata": {
    "collapsed": false,
    "pycharm": {
     "name": "#%%\n"
    }
   }
  },
  {
   "cell_type": "markdown",
   "source": [
    "## Remove outliers for all participants"
   ],
   "metadata": {
    "collapsed": false,
    "pycharm": {
     "name": "#%% md\n"
    }
   }
  },
  {
   "cell_type": "code",
   "execution_count": 38,
   "outputs": [],
   "source": [
    "filtered_data = []\n",
    "for name in advanced_df['variable'].unique():\n",
    "    group = advanced_df[advanced_df['variable'] == name]\n",
    "    filtered_group = remove_outliers(group, 'value')\n",
    "    filtered_data.append(filtered_group)\n",
    "\n",
    "clean_df = pd.concat(filtered_data)"
   ],
   "metadata": {
    "collapsed": false,
    "pycharm": {
     "name": "#%%\n"
    }
   }
  },
  {
   "cell_type": "markdown",
   "source": [
    "## Check variable distribution for participant AS14.01 with the new data"
   ],
   "metadata": {
    "collapsed": false,
    "pycharm": {
     "name": "#%% md\n"
    }
   }
  },
  {
   "cell_type": "code",
   "execution_count": null,
   "outputs": [],
   "source": [
    "for name in clean_df['variable'].unique():\n",
    "    plot_histograms(clean_df, name)"
   ],
   "metadata": {
    "collapsed": false,
    "pycharm": {
     "name": "#%%\n",
     "is_executing": true
    }
   }
  },
  {
   "cell_type": "code",
   "execution_count": 42,
   "outputs": [],
   "source": [
    "X = clean_df[clean_df['variable']!='mood']\n",
    "y = clean_df[clean_df['variable']=='mood']"
   ],
   "metadata": {
    "collapsed": false,
    "pycharm": {
     "name": "#%%\n"
    }
   }
  }
 ],
 "metadata": {
  "kernelspec": {
   "display_name": "Python 3",
   "language": "python",
   "name": "python3"
  },
  "language_info": {
   "codemirror_mode": {
    "name": "ipython",
    "version": 2
   },
   "file_extension": ".py",
   "mimetype": "text/x-python",
   "name": "python",
   "nbconvert_exporter": "python",
   "pygments_lexer": "ipython2",
   "version": "2.7.6"
  }
 },
 "nbformat": 4,
 "nbformat_minor": 0
}