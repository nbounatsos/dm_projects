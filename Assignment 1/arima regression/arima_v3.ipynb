{
 "cells": [
  {
   "cell_type": "code",
   "execution_count": 65,
   "metadata": {
    "collapsed": false,
    "pycharm": {
     "name": "#%%\n"
    }
   },
   "outputs": [],
   "source": [
    "%reset -f"
   ]
  },
  {
   "cell_type": "code",
   "execution_count": 66,
   "metadata": {
    "collapsed": false,
    "pycharm": {
     "name": "#%%\n"
    }
   },
   "outputs": [],
   "source": [
    "import pandas as pd\n",
    "import numpy as np\n",
    "import matplotlib.pyplot as plt\n",
    "from sklearn.metrics import mean_squared_error\n",
    "from sklearn.linear_model import LinearRegression\n",
    "from math import sqrt\n",
    "from statsmodels.tsa.stattools import adfuller\n",
    "from pmdarima import auto_arima\n",
    "\n",
    "%matplotlib inline"
   ]
  },
  {
   "cell_type": "code",
   "execution_count": 67,
   "metadata": {
    "collapsed": false,
    "pycharm": {
     "name": "#%%\n"
    }
   },
   "outputs": [],
   "source": [
    "advanced_df = pd.read_csv(\"dataset_mood_smartphone (1).csv\", index_col=0)"
   ]
  },
  {
   "cell_type": "code",
   "execution_count": 68,
   "metadata": {
    "collapsed": false,
    "pycharm": {
     "name": "#%%\n"
    }
   },
   "outputs": [
    {
     "data": {
      "text/html": [
       "<div>\n",
       "<style scoped>\n",
       "    .dataframe tbody tr th:only-of-type {\n",
       "        vertical-align: middle;\n",
       "    }\n",
       "\n",
       "    .dataframe tbody tr th {\n",
       "        vertical-align: top;\n",
       "    }\n",
       "\n",
       "    .dataframe thead th {\n",
       "        text-align: right;\n",
       "    }\n",
       "</style>\n",
       "<table border=\"1\" class=\"dataframe\">\n",
       "  <thead>\n",
       "    <tr style=\"text-align: right;\">\n",
       "      <th></th>\n",
       "      <th>id</th>\n",
       "      <th>time</th>\n",
       "      <th>variable</th>\n",
       "      <th>value</th>\n",
       "    </tr>\n",
       "  </thead>\n",
       "  <tbody>\n",
       "    <tr>\n",
       "      <th>1</th>\n",
       "      <td>AS14.01</td>\n",
       "      <td>2014-02-26 13:00:00.000</td>\n",
       "      <td>mood</td>\n",
       "      <td>6.0</td>\n",
       "    </tr>\n",
       "    <tr>\n",
       "      <th>2</th>\n",
       "      <td>AS14.01</td>\n",
       "      <td>2014-02-26 15:00:00.000</td>\n",
       "      <td>mood</td>\n",
       "      <td>6.0</td>\n",
       "    </tr>\n",
       "    <tr>\n",
       "      <th>3</th>\n",
       "      <td>AS14.01</td>\n",
       "      <td>2014-02-26 18:00:00.000</td>\n",
       "      <td>mood</td>\n",
       "      <td>6.0</td>\n",
       "    </tr>\n",
       "    <tr>\n",
       "      <th>4</th>\n",
       "      <td>AS14.01</td>\n",
       "      <td>2014-02-26 21:00:00.000</td>\n",
       "      <td>mood</td>\n",
       "      <td>7.0</td>\n",
       "    </tr>\n",
       "    <tr>\n",
       "      <th>5</th>\n",
       "      <td>AS14.01</td>\n",
       "      <td>2014-02-27 09:00:00.000</td>\n",
       "      <td>mood</td>\n",
       "      <td>6.0</td>\n",
       "    </tr>\n",
       "  </tbody>\n",
       "</table>\n",
       "</div>"
      ],
      "text/plain": [
       "        id                     time variable  value\n",
       "1  AS14.01  2014-02-26 13:00:00.000     mood    6.0\n",
       "2  AS14.01  2014-02-26 15:00:00.000     mood    6.0\n",
       "3  AS14.01  2014-02-26 18:00:00.000     mood    6.0\n",
       "4  AS14.01  2014-02-26 21:00:00.000     mood    7.0\n",
       "5  AS14.01  2014-02-27 09:00:00.000     mood    6.0"
      ]
     },
     "execution_count": 68,
     "metadata": {},
     "output_type": "execute_result"
    }
   ],
   "source": [
    "advanced_df.head()"
   ]
  },
  {
   "cell_type": "markdown",
   "metadata": {
    "collapsed": false,
    "pycharm": {
     "name": "#%% md\n"
    }
   },
   "source": [
    "## Define functions"
   ]
  },
  {
   "cell_type": "code",
   "execution_count": 69,
   "metadata": {
    "collapsed": false,
    "pycharm": {
     "name": "#%%\n"
    }
   },
   "outputs": [],
   "source": [
    "# Check the shape of a dataframe, along with NaN values\n",
    "def check_df(df):\n",
    "    print(df.shape)\n",
    "    for item in df.columns:\n",
    "        print(item, ': ', type(df[item]), ', contains NaN:',df[item].isnull().values.any())\n",
    "\n",
    "# Plot all the variables vs time\n",
    "def plot_feature(df, variable_name, participant=None):\n",
    "    ylabel_text = f\"{variable_name} value\"\n",
    "    title_text = f\"{variable_name} vs time\"\n",
    "\n",
    "    if participant:\n",
    "        plot = df[(df['variable'] == variable_name) & (df['id'] == participant)]\n",
    "    else:\n",
    "        plot = df[(df['variable'] == variable_name)]\n",
    "\n",
    "    plt.plot(plot['time'], plot['value'], label = variable_name)\n",
    "    plt.xlabel('time')\n",
    "    plt.ylabel(ylabel_text)\n",
    "    plt.title(title_text)\n",
    "    plt.legend(loc='lower right')\n",
    "    plt.show()\n",
    "\n",
    "# Plot histograms of all the variables\n",
    "def plot_histograms(df, variable_name, participant=None):\n",
    "\n",
    "    if participant:\n",
    "        df[(df['variable'] == variable_name) & (df['id'] == participant)].plot(kind='hist', edgecolor='black', legend = variable_name)\n",
    "    else:\n",
    "        df[(df['variable'] == variable_name)].plot(kind='hist', edgecolor='black', legend = variable_name)\n",
    "    plt.xlabel(variable_name)\n",
    "    plt.legend(loc='lower right')\n",
    "\n",
    "# Remove outliers >0.75 and <0.25 of all values, excepting mood, call, sms etc\n",
    "def remove_outliers(df, column_name, multiplier=1.5):\n",
    "    q1 = df[column_name].quantile(0.25)\n",
    "    q2 = df[column_name].quantile(0.75)\n",
    "    iqr = q2 - q1\n",
    "    lower_bound = q1 - multiplier * iqr\n",
    "    upper_bound = q2 + multiplier * iqr\n",
    "    return df[(df[column_name] >= lower_bound) & (df[column_name] <= upper_bound)]\n",
    "\n",
    "# Check a dataframe for class balance\n",
    "def check_class_balance(df, target_column):\n",
    "    print(df[target_column].value_counts())\n",
    "\n",
    "def impute_with_group_mean(df):\n",
    "    mean_value = df['mood'].mean()\n",
    "    return df['mood'].fillna(mean_value)\n",
    "\n"
   ]
  },
  {
   "cell_type": "markdown",
   "metadata": {
    "collapsed": false,
    "pycharm": {
     "name": "#%% md\n"
    }
   },
   "source": [
    "## Check for dataframe shape and NaN values"
   ]
  },
  {
   "cell_type": "code",
   "execution_count": 70,
   "metadata": {
    "collapsed": false,
    "pycharm": {
     "name": "#%%\n"
    }
   },
   "outputs": [
    {
     "name": "stdout",
     "output_type": "stream",
     "text": [
      "(376912, 4)\n",
      "id :  <class 'pandas.core.series.Series'> , contains NaN: False\n",
      "time :  <class 'pandas.core.series.Series'> , contains NaN: False\n",
      "variable :  <class 'pandas.core.series.Series'> , contains NaN: False\n",
      "value :  <class 'pandas.core.series.Series'> , contains NaN: True\n"
     ]
    }
   ],
   "source": [
    "check_df(advanced_df)"
   ]
  },
  {
   "cell_type": "markdown",
   "metadata": {
    "collapsed": false,
    "pycharm": {
     "name": "#%% md\n"
    }
   },
   "source": [
    "## Checking which variables have NaN values"
   ]
  },
  {
   "cell_type": "code",
   "execution_count": 71,
   "metadata": {
    "collapsed": false,
    "pycharm": {
     "name": "#%%\n"
    }
   },
   "outputs": [
    {
     "data": {
      "text/html": [
       "<div>\n",
       "<style scoped>\n",
       "    .dataframe tbody tr th:only-of-type {\n",
       "        vertical-align: middle;\n",
       "    }\n",
       "\n",
       "    .dataframe tbody tr th {\n",
       "        vertical-align: top;\n",
       "    }\n",
       "\n",
       "    .dataframe thead th {\n",
       "        text-align: right;\n",
       "    }\n",
       "</style>\n",
       "<table border=\"1\" class=\"dataframe\">\n",
       "  <thead>\n",
       "    <tr style=\"text-align: right;\">\n",
       "      <th></th>\n",
       "      <th>id</th>\n",
       "      <th>time</th>\n",
       "      <th>variable</th>\n",
       "      <th>value</th>\n",
       "    </tr>\n",
       "  </thead>\n",
       "  <tbody>\n",
       "    <tr>\n",
       "      <th>5709</th>\n",
       "      <td>AS14.01</td>\n",
       "      <td>2014-04-02 18:00:00.000</td>\n",
       "      <td>circumplex.arousal</td>\n",
       "      <td>NaN</td>\n",
       "    </tr>\n",
       "    <tr>\n",
       "      <th>5731</th>\n",
       "      <td>AS14.01</td>\n",
       "      <td>2014-04-07 15:00:00.000</td>\n",
       "      <td>circumplex.arousal</td>\n",
       "      <td>NaN</td>\n",
       "    </tr>\n",
       "    <tr>\n",
       "      <th>5773</th>\n",
       "      <td>AS14.01</td>\n",
       "      <td>2014-04-16 12:00:00.000</td>\n",
       "      <td>circumplex.arousal</td>\n",
       "      <td>NaN</td>\n",
       "    </tr>\n",
       "    <tr>\n",
       "      <th>5797</th>\n",
       "      <td>AS14.01</td>\n",
       "      <td>2014-04-21 13:00:00.000</td>\n",
       "      <td>circumplex.arousal</td>\n",
       "      <td>NaN</td>\n",
       "    </tr>\n",
       "    <tr>\n",
       "      <th>5836</th>\n",
       "      <td>AS14.01</td>\n",
       "      <td>2014-04-29 09:00:00.000</td>\n",
       "      <td>circumplex.arousal</td>\n",
       "      <td>NaN</td>\n",
       "    </tr>\n",
       "    <tr>\n",
       "      <th>...</th>\n",
       "      <td>...</td>\n",
       "      <td>...</td>\n",
       "      <td>...</td>\n",
       "      <td>...</td>\n",
       "    </tr>\n",
       "    <tr>\n",
       "      <th>16859</th>\n",
       "      <td>AS14.33</td>\n",
       "      <td>2014-05-16 20:00:00.000</td>\n",
       "      <td>circumplex.valence</td>\n",
       "      <td>NaN</td>\n",
       "    </tr>\n",
       "    <tr>\n",
       "      <th>16862</th>\n",
       "      <td>AS14.33</td>\n",
       "      <td>2014-05-17 12:00:00.000</td>\n",
       "      <td>circumplex.valence</td>\n",
       "      <td>NaN</td>\n",
       "    </tr>\n",
       "    <tr>\n",
       "      <th>16882</th>\n",
       "      <td>AS14.33</td>\n",
       "      <td>2014-05-21 16:00:00.000</td>\n",
       "      <td>circumplex.valence</td>\n",
       "      <td>NaN</td>\n",
       "    </tr>\n",
       "    <tr>\n",
       "      <th>16899</th>\n",
       "      <td>AS14.33</td>\n",
       "      <td>2014-05-24 23:00:00.000</td>\n",
       "      <td>circumplex.valence</td>\n",
       "      <td>NaN</td>\n",
       "    </tr>\n",
       "    <tr>\n",
       "      <th>16903</th>\n",
       "      <td>AS14.33</td>\n",
       "      <td>2014-05-25 21:00:00.000</td>\n",
       "      <td>circumplex.valence</td>\n",
       "      <td>NaN</td>\n",
       "    </tr>\n",
       "  </tbody>\n",
       "</table>\n",
       "<p>202 rows × 4 columns</p>\n",
       "</div>"
      ],
      "text/plain": [
       "            id                     time            variable  value\n",
       "5709   AS14.01  2014-04-02 18:00:00.000  circumplex.arousal    NaN\n",
       "5731   AS14.01  2014-04-07 15:00:00.000  circumplex.arousal    NaN\n",
       "5773   AS14.01  2014-04-16 12:00:00.000  circumplex.arousal    NaN\n",
       "5797   AS14.01  2014-04-21 13:00:00.000  circumplex.arousal    NaN\n",
       "5836   AS14.01  2014-04-29 09:00:00.000  circumplex.arousal    NaN\n",
       "...        ...                      ...                 ...    ...\n",
       "16859  AS14.33  2014-05-16 20:00:00.000  circumplex.valence    NaN\n",
       "16862  AS14.33  2014-05-17 12:00:00.000  circumplex.valence    NaN\n",
       "16882  AS14.33  2014-05-21 16:00:00.000  circumplex.valence    NaN\n",
       "16899  AS14.33  2014-05-24 23:00:00.000  circumplex.valence    NaN\n",
       "16903  AS14.33  2014-05-25 21:00:00.000  circumplex.valence    NaN\n",
       "\n",
       "[202 rows x 4 columns]"
      ]
     },
     "execution_count": 71,
     "metadata": {},
     "output_type": "execute_result"
    }
   ],
   "source": [
    "advanced_df.query('value.isnull()')"
   ]
  },
  {
   "cell_type": "markdown",
   "metadata": {
    "collapsed": false,
    "pycharm": {
     "name": "#%% md\n"
    }
   },
   "source": [
    "### The only variables that contain NaN values are circumplex.arousal and circumplex.valence. Discussion needs to be made if these values should be removed or be converted to 0s"
   ]
  },
  {
   "cell_type": "markdown",
   "metadata": {
    "collapsed": false,
    "pycharm": {
     "name": "#%% md\n"
    }
   },
   "source": [
    "## Drop rows with NaN values"
   ]
  },
  {
   "cell_type": "code",
   "execution_count": 72,
   "metadata": {
    "collapsed": false,
    "pycharm": {
     "name": "#%%\n"
    }
   },
   "outputs": [
    {
     "name": "stdout",
     "output_type": "stream",
     "text": [
      "(376710, 4)\n",
      "id :  <class 'pandas.core.series.Series'> , contains NaN: False\n",
      "time :  <class 'pandas.core.series.Series'> , contains NaN: False\n",
      "variable :  <class 'pandas.core.series.Series'> , contains NaN: False\n",
      "value :  <class 'pandas.core.series.Series'> , contains NaN: False\n"
     ]
    }
   ],
   "source": [
    "advanced_df.dropna(inplace=True)\n",
    "check_df(advanced_df)"
   ]
  },
  {
   "cell_type": "markdown",
   "metadata": {
    "collapsed": false,
    "pycharm": {
     "name": "#%% md\n"
    }
   },
   "source": [
    "## Sort dataframe by id and time"
   ]
  },
  {
   "cell_type": "code",
   "execution_count": 73,
   "metadata": {
    "collapsed": false,
    "pycharm": {
     "name": "#%%\n"
    }
   },
   "outputs": [],
   "source": [
    "advanced_df.sort_values(['id', 'time'], inplace=True)"
   ]
  },
  {
   "cell_type": "code",
   "execution_count": 74,
   "metadata": {
    "collapsed": false,
    "pycharm": {
     "name": "#%%\n"
    }
   },
   "outputs": [
    {
     "data": {
      "text/html": [
       "<div>\n",
       "<style scoped>\n",
       "    .dataframe tbody tr th:only-of-type {\n",
       "        vertical-align: middle;\n",
       "    }\n",
       "\n",
       "    .dataframe tbody tr th {\n",
       "        vertical-align: top;\n",
       "    }\n",
       "\n",
       "    .dataframe thead th {\n",
       "        text-align: right;\n",
       "    }\n",
       "</style>\n",
       "<table border=\"1\" class=\"dataframe\">\n",
       "  <thead>\n",
       "    <tr style=\"text-align: right;\">\n",
       "      <th></th>\n",
       "      <th>id</th>\n",
       "      <th>time</th>\n",
       "      <th>variable</th>\n",
       "      <th>value</th>\n",
       "    </tr>\n",
       "  </thead>\n",
       "  <tbody>\n",
       "  </tbody>\n",
       "</table>\n",
       "</div>"
      ],
      "text/plain": [
       "Empty DataFrame\n",
       "Columns: [id, time, variable, value]\n",
       "Index: []"
      ]
     },
     "execution_count": 74,
     "metadata": {},
     "output_type": "execute_result"
    }
   ],
   "source": [
    "advanced_df.query('variable == \"mood\" and value == \"0\"')"
   ]
  },
  {
   "cell_type": "markdown",
   "metadata": {
    "collapsed": false,
    "pycharm": {
     "name": "#%% md\n"
    }
   },
   "source": [
    "## Plot all features vs time for participant AS14.01"
   ]
  },
  {
   "cell_type": "code",
   "execution_count": 75,
   "metadata": {
    "collapsed": false,
    "pycharm": {
     "name": "#%%\n"
    }
   },
   "outputs": [],
   "source": [
    "# for name in advanced_df['variable'].unique():\n",
    "#     plot_histograms(advanced_df, name)"
   ]
  },
  {
   "cell_type": "code",
   "execution_count": 76,
   "metadata": {
    "collapsed": false,
    "pycharm": {
     "name": "#%%\n"
    }
   },
   "outputs": [],
   "source": [
    "# for name in advanced_df['variable'].unique():\n",
    "#     plot_feature(advanced_df, name, 'AS14.01')"
   ]
  },
  {
   "cell_type": "markdown",
   "metadata": {
    "collapsed": false,
    "pycharm": {
     "name": "#%% md\n"
    }
   },
   "source": [
    "## Plot variable values to check for distribution for participant AS14.01"
   ]
  },
  {
   "cell_type": "code",
   "execution_count": 77,
   "metadata": {
    "collapsed": false,
    "pycharm": {
     "name": "#%%\n"
    }
   },
   "outputs": [],
   "source": [
    "# for name in advanced_df['variable'].unique():\n",
    "#     plot_histograms(advanced_df, name, 'AS14.01')"
   ]
  },
  {
   "cell_type": "markdown",
   "metadata": {
    "collapsed": false,
    "pycharm": {
     "name": "#%% md\n"
    }
   },
   "source": [
    "## Calculate mean and sd for each variable"
   ]
  },
  {
   "cell_type": "code",
   "execution_count": 78,
   "metadata": {
    "collapsed": false,
    "pycharm": {
     "name": "#%%\n"
    }
   },
   "outputs": [],
   "source": [
    "result = advanced_df.groupby('variable')['value'].agg(['mean', 'std'])"
   ]
  },
  {
   "cell_type": "markdown",
   "metadata": {
    "collapsed": false,
    "pycharm": {
     "name": "#%% md\n"
    }
   },
   "source": [
    "## Remove outliers for all participants"
   ]
  },
  {
   "cell_type": "code",
   "execution_count": 79,
   "metadata": {
    "collapsed": false,
    "pycharm": {
     "name": "#%%\n"
    }
   },
   "outputs": [],
   "source": [
    "filtered_data = []\n",
    "exception_list = ['mood', 'sms', 'call', 'circumplex.arousal', 'circumplex.valence', 'activity']\n",
    "\n",
    "for name in advanced_df['variable'].unique():\n",
    "    if name in exception_list:\n",
    "        filtered_data.append(advanced_df[advanced_df['variable'] == name])\n",
    "        continue\n",
    "    else:\n",
    "        group = advanced_df[advanced_df['variable'] == name]\n",
    "        filtered_group = remove_outliers(group, 'value')\n",
    "        filtered_data.append(filtered_group)\n",
    "\n",
    "clean_df = pd.concat(filtered_data)"
   ]
  },
  {
   "cell_type": "markdown",
   "metadata": {
    "collapsed": false,
    "pycharm": {
     "name": "#%% md\n"
    }
   },
   "source": [
    "## Check variable vs time after outliers removed"
   ]
  },
  {
   "cell_type": "code",
   "execution_count": 80,
   "metadata": {
    "collapsed": false,
    "pycharm": {
     "name": "#%%\n"
    }
   },
   "outputs": [],
   "source": [
    "# for name in clean_df['variable'].unique():\n",
    "#     plot_feature(clean_df, name, 'AS14.01')"
   ]
  },
  {
   "cell_type": "markdown",
   "metadata": {
    "collapsed": false,
    "pycharm": {
     "name": "#%% md\n"
    }
   },
   "source": [
    "## Check variable distribution for participant AS14.01 with the new data"
   ]
  },
  {
   "cell_type": "code",
   "execution_count": 81,
   "metadata": {
    "collapsed": false,
    "pycharm": {
     "name": "#%%\n"
    }
   },
   "outputs": [],
   "source": [
    "# for name in advanced_df['variable'].unique():\n",
    "#     plot_histograms(advanced_df, name   )"
   ]
  },
  {
   "cell_type": "code",
   "execution_count": 82,
   "metadata": {
    "collapsed": false,
    "pycharm": {
     "name": "#%%\n"
    }
   },
   "outputs": [],
   "source": [
    "# for name in advanced_df['variable'].unique():\n",
    "#     plot_histograms(advanced_df, name, 'AS14.01')"
   ]
  },
  {
   "cell_type": "markdown",
   "metadata": {
    "collapsed": false,
    "pycharm": {
     "name": "#%% md\n"
    }
   },
   "source": []
  },
  {
   "cell_type": "markdown",
   "metadata": {
    "collapsed": false,
    "pycharm": {
     "name": "#%% md\n"
    }
   },
   "source": [
    "# Data engineering"
   ]
  },
  {
   "cell_type": "markdown",
   "metadata": {
    "collapsed": false,
    "pycharm": {
     "name": "#%% md\n"
    }
   },
   "source": [
    "## For each variable, calculate the average value if the variable is continuous and the count if the value is categorical, for each day, and distinguish the variable column to different features."
   ]
  },
  {
   "cell_type": "code",
   "execution_count": 83,
   "metadata": {
    "collapsed": false,
    "pycharm": {
     "name": "#%%\n"
    }
   },
   "outputs": [],
   "source": [
    "# Convert timestamp to datetime object and extract date\n",
    "clean_df['time'] = pd.to_datetime(clean_df['time']).dt.date\n",
    "\n",
    "# List of continuous and categorical variables\n",
    "continuous_vars = ['mood', 'screen', 'appCat.builtin', 'appCat.communication', 'appCat.entertainment', 'appCat.finance', 'appCat.game', 'appCat.office', 'appCat.other', 'appCat.social', 'appCat.travel', 'appCat.unknown', 'appCat.utilities', 'appCat.weather', 'circumplex.arousal', 'circumplex.valence', 'activity']\n",
    "categorical_vars = ['call', 'sms']\n",
    "\n",
    "# Define aggregation functions for continuous and categorical variables\n",
    "aggregations = {}\n",
    "for var in continuous_vars:\n",
    "    aggregations[var] = 'mean'\n",
    "for var in categorical_vars:\n",
    "    aggregations[var] = 'count'\n"
   ]
  },
  {
   "cell_type": "code",
   "execution_count": 84,
   "metadata": {
    "collapsed": false,
    "pycharm": {
     "name": "#%%\n"
    }
   },
   "outputs": [],
   "source": [
    "# Filter the dataframe for continuous and categorical variables\n",
    "cont_df = clean_df[clean_df['variable'].isin(continuous_vars)].pivot_table(index=['id', 'time'], columns='variable', values='value').reset_index()\n",
    "cat_df = clean_df[clean_df['variable'].isin(categorical_vars)].pivot_table(index=['id', 'time'], columns='variable', values='value', aggfunc='count').reset_index()\n",
    "\n",
    "# Merge the dataframes\n",
    "result = pd.merge(cont_df, cat_df, on=['id', 'time'], how='outer')"
   ]
  },
  {
   "cell_type": "code",
   "execution_count": 85,
   "metadata": {
    "collapsed": false,
    "pycharm": {
     "name": "#%%\n"
    }
   },
   "outputs": [],
   "source": [
    "result.sort_values(by='time', inplace = True)"
   ]
  },
  {
   "cell_type": "code",
   "execution_count": 86,
   "metadata": {
    "collapsed": false,
    "pycharm": {
     "name": "#%%\n"
    }
   },
   "outputs": [],
   "source": [
    "arima_df = result[['time', 'id', 'mood']].copy()\n"
   ]
  },
  {
   "cell_type": "code",
   "execution_count": 87,
   "metadata": {},
   "outputs": [],
   "source": [
    "## dropping end NaNs\n",
    "\n",
    "for i, participant in enumerate(arima_df['id'].unique()):\n",
    "    dfper = arima_df[arima_df['id']==participant]\n",
    "    \n",
    "    for index, row in dfper.iterrows():\n",
    "        if row.mood > 0:\n",
    "            break\n",
    "        else:\n",
    "            arima_df = arima_df.drop(index)\n",
    "\n",
    "arima_df.sort_values(by='time', inplace = True, ascending = False)\n",
    "\n",
    "for i, participant in enumerate(arima_df['id'].unique()):\n",
    "    dfper = arima_df[arima_df['id']==participant]\n",
    "    \n",
    "    for index, row in dfper.iterrows():\n",
    "        if row.mood > 0:\n",
    "            break\n",
    "        else:\n",
    "            arima_df = arima_df.drop(index)\n",
    "\n",
    "arima_df.sort_values(by='time', inplace = True, ascending = True)\n"
   ]
  },
  {
   "cell_type": "code",
   "execution_count": 88,
   "metadata": {
    "collapsed": false,
    "pycharm": {
     "name": "#%%\n"
    }
   },
   "outputs": [],
   "source": [
    "#arima_df['mood'] = arima_df['mood'].fillna(arima_df['id'].map(arima_df.groupby('id')['mood'].mean()))\n",
    "#arima_df.groupby('id').apply(impute_with_group_mean).reset_index(drop=True)\n"
   ]
  },
  {
   "cell_type": "code",
   "execution_count": 89,
   "metadata": {},
   "outputs": [
    {
     "name": "stderr",
     "output_type": "stream",
     "text": [
      "/var/folders/9j/5bfcvwzx4dq156jh1d694vk80000gn/T/ipykernel_1066/3827771937.py:14: SettingWithCopyWarning: \n",
      "A value is trying to be set on a copy of a slice from a DataFrame\n",
      "\n",
      "See the caveats in the documentation: https://pandas.pydata.org/pandas-docs/stable/user_guide/indexing.html#returning-a-view-versus-a-copy\n",
      "  series[missing] = imputed_values\n"
     ]
    }
   ],
   "source": [
    "\n",
    "missing = arima_df['mood'].isnull()\n",
    "series = arima_df['mood']\n",
    "# Split the series into a training set (with non-missing values) and a test set (with missing values)\n",
    "train_x = series.index[~missing]\n",
    "train_y = series[~missing]\n",
    "test_x = series.index[missing]\n",
    "\n",
    "# Fit a linear regression model to the training data\n",
    "model = LinearRegression()\n",
    "model.fit(train_x.values.reshape(-1, 1), train_y)\n",
    "# Use the model to predict the missing values\n",
    "imputed_values = model.predict(test_x.values.reshape(-1, 1))\n",
    "# Return the imputed series\n",
    "series[missing] = imputed_values\n",
    "arima_df['mood'] = series\n",
    "\n",
    "#arima_df['mood'] = arima_df['mood'].fillna(arima_df['id'].map(arima_df.groupby('id')['mood'].transform(impute_regression)))\n",
    "#arima_df['mood'] = (arima_df.groupby('id')['mood'].transform(impute_regression))\n",
    "#arima_df.groupby('id')['mood'].transform(impute_regression)\n"
   ]
  },
  {
   "cell_type": "markdown",
   "metadata": {
    "collapsed": false,
    "pycharm": {
     "name": "#%% md\n"
    }
   },
   "source": [
    "# ML classifier"
   ]
  },
  {
   "cell_type": "code",
   "execution_count": 90,
   "metadata": {
    "collapsed": false,
    "pycharm": {
     "name": "#%%\n"
    }
   },
   "outputs": [],
   "source": [
    "from statsmodels.tsa.arima.model import ARIMA\n",
    "from statsmodels.graphics.tsaplots import plot_acf"
   ]
  },
  {
   "cell_type": "markdown",
   "metadata": {
    "collapsed": false,
    "pycharm": {
     "name": "#%% md\n"
    }
   },
   "source": [
    "## Section for classic ML models"
   ]
  },
  {
   "cell_type": "markdown",
   "metadata": {
    "collapsed": false,
    "pycharm": {
     "name": "#%% md\n"
    }
   },
   "source": [
    "## Check for class balance"
   ]
  },
  {
   "cell_type": "markdown",
   "metadata": {
    "collapsed": false,
    "pycharm": {
     "name": "#%% md\n"
    }
   },
   "source": [
    "## We need to balance these classes to train the model, if not the model will be biased towards predicting more 0s and 7s"
   ]
  },
  {
   "cell_type": "markdown",
   "metadata": {
    "collapsed": false,
    "pycharm": {
     "name": "#%% md\n"
    }
   },
   "source": [
    "## Upsampling with SMOTE"
   ]
  },
  {
   "cell_type": "markdown",
   "metadata": {
    "collapsed": false,
    "pycharm": {
     "name": "#%% md\n"
    }
   },
   "source": [
    "## Section for ARIMA model. The difference is that ARIMA does not need the rest features, only time and mood."
   ]
  },
  {
   "cell_type": "code",
   "execution_count": 91,
   "metadata": {
    "collapsed": false,
    "pycharm": {
     "name": "#%%\n"
    }
   },
   "outputs": [],
   "source": [
    "arima_df['time'] = pd.to_datetime(arima_df['time'])\n"
   ]
  },
  {
   "cell_type": "code",
   "execution_count": 92,
   "metadata": {
    "collapsed": false,
    "pycharm": {
     "name": "#%%\n"
    }
   },
   "outputs": [],
   "source": [
    "arima_df.reset_index(drop=True, inplace=True)\n",
    "arima_df.set_index('time', inplace=True)\n",
    "\n"
   ]
  },
  {
   "cell_type": "code",
   "execution_count": 93,
   "metadata": {
    "collapsed": false,
    "pycharm": {
     "name": "#%%\n"
    }
   },
   "outputs": [],
   "source": [
    "results = {'id':[], 'test_data':[], 'predicted_mood':[], 'orders':[],'rmse':[]}\n",
    "results = pd.DataFrame(results)\n"
   ]
  },
  {
   "cell_type": "code",
   "execution_count": 94,
   "metadata": {},
   "outputs": [],
   "source": [
    "def pval(df):\n",
    "    test = adfuller(df,autolag= 'AIC')\n",
    "    pvalue = test[1]\n",
    "    #print('ADF: ',test[0])\n",
    "    #print('p-value: ',test[1])\n",
    "    #print('nr lags: ',test[2])\n",
    "    #print('nr observations for adf regression: ',test[3])\n",
    "    #print('critical values: ',test[0])\n",
    "    #for key, val in test[4].items():\n",
    "    #    print(\"\\t\",key, \": \", val)    \n",
    "    return pvalue\n",
    "\n",
    "def get_orders(df):\n",
    "    stepwise_fit = auto_arima(df, trace=False, suppress_warnings=True, disp=0)\n",
    "    p, d, q = stepwise_fit.order\n",
    "    return p, d, q\n",
    "\n",
    "def testtrain(df):\n",
    "    x = int(df.shape[0]*0.8) \n",
    "    train=df.iloc[:x]\n",
    "    test=df.iloc[x:]\n",
    "    return train, test\n",
    "\n",
    "def predict(model):\n",
    "    start=len(train)\n",
    "    end=len(train)+len(test)-1\n",
    "    pred=model.predict(start=start,end=end,typ='levels').rename('ARIMA Predictions')\n",
    "    return pred"
   ]
  },
  {
   "cell_type": "code",
   "execution_count": 95,
   "metadata": {
    "collapsed": false,
    "pycharm": {
     "name": "#%%\n"
    }
   },
   "outputs": [
    {
     "name": "stderr",
     "output_type": "stream",
     "text": [
      "/Users/alexialuizinho/anaconda3/envs/bioinformatics/lib/python3.10/site-packages/statsmodels/tsa/base/tsa_model.py:471: ValueWarning: A date index has been provided, but it has no associated frequency information and so will be ignored when e.g. forecasting.\n",
      "  self._init_dates(dates, freq)\n",
      "/Users/alexialuizinho/anaconda3/envs/bioinformatics/lib/python3.10/site-packages/statsmodels/tsa/base/tsa_model.py:471: ValueWarning: A date index has been provided, but it has no associated frequency information and so will be ignored when e.g. forecasting.\n",
      "  self._init_dates(dates, freq)\n",
      "/Users/alexialuizinho/anaconda3/envs/bioinformatics/lib/python3.10/site-packages/statsmodels/tsa/base/tsa_model.py:471: ValueWarning: A date index has been provided, but it has no associated frequency information and so will be ignored when e.g. forecasting.\n",
      "  self._init_dates(dates, freq)\n",
      "/Users/alexialuizinho/anaconda3/envs/bioinformatics/lib/python3.10/site-packages/statsmodels/tsa/base/tsa_model.py:834: ValueWarning: No supported index is available. Prediction results will be given with an integer index beginning at `start`.\n",
      "  return get_prediction_index(\n",
      "/Users/alexialuizinho/anaconda3/envs/bioinformatics/lib/python3.10/site-packages/statsmodels/tsa/base/tsa_model.py:471: ValueWarning: No frequency information was provided, so inferred frequency D will be used.\n",
      "  self._init_dates(dates, freq)\n",
      "/Users/alexialuizinho/anaconda3/envs/bioinformatics/lib/python3.10/site-packages/statsmodels/tsa/base/tsa_model.py:471: ValueWarning: No frequency information was provided, so inferred frequency D will be used.\n",
      "  self._init_dates(dates, freq)\n",
      "/Users/alexialuizinho/anaconda3/envs/bioinformatics/lib/python3.10/site-packages/statsmodels/tsa/base/tsa_model.py:471: ValueWarning: No frequency information was provided, so inferred frequency D will be used.\n",
      "  self._init_dates(dates, freq)\n",
      "/Users/alexialuizinho/anaconda3/envs/bioinformatics/lib/python3.10/site-packages/statsmodels/tsa/base/tsa_model.py:471: ValueWarning: No frequency information was provided, so inferred frequency D will be used.\n",
      "  self._init_dates(dates, freq)\n",
      "/Users/alexialuizinho/anaconda3/envs/bioinformatics/lib/python3.10/site-packages/statsmodels/tsa/base/tsa_model.py:471: ValueWarning: No frequency information was provided, so inferred frequency D will be used.\n",
      "  self._init_dates(dates, freq)\n",
      "/Users/alexialuizinho/anaconda3/envs/bioinformatics/lib/python3.10/site-packages/statsmodels/tsa/base/tsa_model.py:471: ValueWarning: No frequency information was provided, so inferred frequency D will be used.\n",
      "  self._init_dates(dates, freq)\n",
      "/Users/alexialuizinho/anaconda3/envs/bioinformatics/lib/python3.10/site-packages/statsmodels/tsa/base/tsa_model.py:471: ValueWarning: No frequency information was provided, so inferred frequency D will be used.\n",
      "  self._init_dates(dates, freq)\n",
      "/Users/alexialuizinho/anaconda3/envs/bioinformatics/lib/python3.10/site-packages/statsmodels/tsa/base/tsa_model.py:471: ValueWarning: No frequency information was provided, so inferred frequency D will be used.\n",
      "  self._init_dates(dates, freq)\n",
      "/Users/alexialuizinho/anaconda3/envs/bioinformatics/lib/python3.10/site-packages/statsmodels/tsa/base/tsa_model.py:471: ValueWarning: No frequency information was provided, so inferred frequency D will be used.\n",
      "  self._init_dates(dates, freq)\n",
      "/Users/alexialuizinho/anaconda3/envs/bioinformatics/lib/python3.10/site-packages/statsmodels/tsa/base/tsa_model.py:471: ValueWarning: No frequency information was provided, so inferred frequency D will be used.\n",
      "  self._init_dates(dates, freq)\n",
      "/Users/alexialuizinho/anaconda3/envs/bioinformatics/lib/python3.10/site-packages/statsmodels/tsa/base/tsa_model.py:471: ValueWarning: No frequency information was provided, so inferred frequency D will be used.\n",
      "  self._init_dates(dates, freq)\n",
      "/Users/alexialuizinho/anaconda3/envs/bioinformatics/lib/python3.10/site-packages/statsmodels/tsa/base/tsa_model.py:471: ValueWarning: No frequency information was provided, so inferred frequency D will be used.\n",
      "  self._init_dates(dates, freq)\n",
      "/Users/alexialuizinho/anaconda3/envs/bioinformatics/lib/python3.10/site-packages/statsmodels/tsa/base/tsa_model.py:471: ValueWarning: No frequency information was provided, so inferred frequency D will be used.\n",
      "  self._init_dates(dates, freq)\n",
      "/Users/alexialuizinho/anaconda3/envs/bioinformatics/lib/python3.10/site-packages/statsmodels/tsa/base/tsa_model.py:471: ValueWarning: No frequency information was provided, so inferred frequency D will be used.\n",
      "  self._init_dates(dates, freq)\n",
      "/Users/alexialuizinho/anaconda3/envs/bioinformatics/lib/python3.10/site-packages/statsmodels/tsa/base/tsa_model.py:471: ValueWarning: No frequency information was provided, so inferred frequency D will be used.\n",
      "  self._init_dates(dates, freq)\n",
      "/Users/alexialuizinho/anaconda3/envs/bioinformatics/lib/python3.10/site-packages/statsmodels/base/model.py:604: ConvergenceWarning: Maximum Likelihood optimization failed to converge. Check mle_retvals\n",
      "  warnings.warn(\"Maximum Likelihood optimization failed to \"\n",
      "/Users/alexialuizinho/anaconda3/envs/bioinformatics/lib/python3.10/site-packages/statsmodels/tsa/base/tsa_model.py:471: ValueWarning: No frequency information was provided, so inferred frequency D will be used.\n",
      "  self._init_dates(dates, freq)\n",
      "/Users/alexialuizinho/anaconda3/envs/bioinformatics/lib/python3.10/site-packages/statsmodels/tsa/base/tsa_model.py:471: ValueWarning: No frequency information was provided, so inferred frequency D will be used.\n",
      "  self._init_dates(dates, freq)\n",
      "/Users/alexialuizinho/anaconda3/envs/bioinformatics/lib/python3.10/site-packages/statsmodels/tsa/base/tsa_model.py:471: ValueWarning: No frequency information was provided, so inferred frequency D will be used.\n",
      "  self._init_dates(dates, freq)\n",
      "/Users/alexialuizinho/anaconda3/envs/bioinformatics/lib/python3.10/site-packages/statsmodels/tsa/base/tsa_model.py:471: ValueWarning: A date index has been provided, but it has no associated frequency information and so will be ignored when e.g. forecasting.\n",
      "  self._init_dates(dates, freq)\n",
      "/Users/alexialuizinho/anaconda3/envs/bioinformatics/lib/python3.10/site-packages/statsmodels/tsa/base/tsa_model.py:471: ValueWarning: A date index has been provided, but it has no associated frequency information and so will be ignored when e.g. forecasting.\n",
      "  self._init_dates(dates, freq)\n",
      "/Users/alexialuizinho/anaconda3/envs/bioinformatics/lib/python3.10/site-packages/statsmodels/tsa/base/tsa_model.py:471: ValueWarning: A date index has been provided, but it has no associated frequency information and so will be ignored when e.g. forecasting.\n",
      "  self._init_dates(dates, freq)\n",
      "/Users/alexialuizinho/anaconda3/envs/bioinformatics/lib/python3.10/site-packages/statsmodels/tsa/base/tsa_model.py:834: ValueWarning: No supported index is available. Prediction results will be given with an integer index beginning at `start`.\n",
      "  return get_prediction_index(\n",
      "/Users/alexialuizinho/anaconda3/envs/bioinformatics/lib/python3.10/site-packages/statsmodels/tsa/base/tsa_model.py:471: ValueWarning: No frequency information was provided, so inferred frequency D will be used.\n",
      "  self._init_dates(dates, freq)\n",
      "/Users/alexialuizinho/anaconda3/envs/bioinformatics/lib/python3.10/site-packages/statsmodels/tsa/base/tsa_model.py:471: ValueWarning: No frequency information was provided, so inferred frequency D will be used.\n",
      "  self._init_dates(dates, freq)\n",
      "/Users/alexialuizinho/anaconda3/envs/bioinformatics/lib/python3.10/site-packages/statsmodels/tsa/base/tsa_model.py:471: ValueWarning: No frequency information was provided, so inferred frequency D will be used.\n",
      "  self._init_dates(dates, freq)\n",
      "/Users/alexialuizinho/anaconda3/envs/bioinformatics/lib/python3.10/site-packages/statsmodels/tsa/base/tsa_model.py:471: ValueWarning: No frequency information was provided, so inferred frequency D will be used.\n",
      "  self._init_dates(dates, freq)\n",
      "/Users/alexialuizinho/anaconda3/envs/bioinformatics/lib/python3.10/site-packages/statsmodels/tsa/base/tsa_model.py:471: ValueWarning: No frequency information was provided, so inferred frequency D will be used.\n",
      "  self._init_dates(dates, freq)\n",
      "/Users/alexialuizinho/anaconda3/envs/bioinformatics/lib/python3.10/site-packages/statsmodels/tsa/base/tsa_model.py:471: ValueWarning: No frequency information was provided, so inferred frequency D will be used.\n",
      "  self._init_dates(dates, freq)\n",
      "/Users/alexialuizinho/anaconda3/envs/bioinformatics/lib/python3.10/site-packages/statsmodels/tsa/base/tsa_model.py:471: ValueWarning: No frequency information was provided, so inferred frequency D will be used.\n",
      "  self._init_dates(dates, freq)\n",
      "/Users/alexialuizinho/anaconda3/envs/bioinformatics/lib/python3.10/site-packages/statsmodels/tsa/base/tsa_model.py:471: ValueWarning: No frequency information was provided, so inferred frequency D will be used.\n",
      "  self._init_dates(dates, freq)\n",
      "/Users/alexialuizinho/anaconda3/envs/bioinformatics/lib/python3.10/site-packages/statsmodels/tsa/base/tsa_model.py:471: ValueWarning: No frequency information was provided, so inferred frequency D will be used.\n",
      "  self._init_dates(dates, freq)\n",
      "/Users/alexialuizinho/anaconda3/envs/bioinformatics/lib/python3.10/site-packages/statsmodels/tsa/base/tsa_model.py:471: ValueWarning: No frequency information was provided, so inferred frequency D will be used.\n",
      "  self._init_dates(dates, freq)\n",
      "/Users/alexialuizinho/anaconda3/envs/bioinformatics/lib/python3.10/site-packages/statsmodels/tsa/base/tsa_model.py:471: ValueWarning: No frequency information was provided, so inferred frequency D will be used.\n",
      "  self._init_dates(dates, freq)\n",
      "/Users/alexialuizinho/anaconda3/envs/bioinformatics/lib/python3.10/site-packages/statsmodels/tsa/base/tsa_model.py:471: ValueWarning: No frequency information was provided, so inferred frequency D will be used.\n",
      "  self._init_dates(dates, freq)\n",
      "/Users/alexialuizinho/anaconda3/envs/bioinformatics/lib/python3.10/site-packages/statsmodels/tsa/base/tsa_model.py:471: ValueWarning: No frequency information was provided, so inferred frequency D will be used.\n",
      "  self._init_dates(dates, freq)\n",
      "/Users/alexialuizinho/anaconda3/envs/bioinformatics/lib/python3.10/site-packages/statsmodels/tsa/base/tsa_model.py:471: ValueWarning: No frequency information was provided, so inferred frequency D will be used.\n",
      "  self._init_dates(dates, freq)\n",
      "/Users/alexialuizinho/anaconda3/envs/bioinformatics/lib/python3.10/site-packages/statsmodels/tsa/base/tsa_model.py:471: ValueWarning: No frequency information was provided, so inferred frequency D will be used.\n",
      "  self._init_dates(dates, freq)\n",
      "/Users/alexialuizinho/anaconda3/envs/bioinformatics/lib/python3.10/site-packages/statsmodels/tsa/base/tsa_model.py:471: ValueWarning: No frequency information was provided, so inferred frequency D will be used.\n",
      "  self._init_dates(dates, freq)\n",
      "/Users/alexialuizinho/anaconda3/envs/bioinformatics/lib/python3.10/site-packages/statsmodels/tsa/base/tsa_model.py:471: ValueWarning: No frequency information was provided, so inferred frequency D will be used.\n",
      "  self._init_dates(dates, freq)\n",
      "/Users/alexialuizinho/anaconda3/envs/bioinformatics/lib/python3.10/site-packages/statsmodels/tsa/base/tsa_model.py:471: ValueWarning: No frequency information was provided, so inferred frequency D will be used.\n",
      "  self._init_dates(dates, freq)\n",
      "/Users/alexialuizinho/anaconda3/envs/bioinformatics/lib/python3.10/site-packages/statsmodels/tsa/base/tsa_model.py:471: ValueWarning: No frequency information was provided, so inferred frequency D will be used.\n",
      "  self._init_dates(dates, freq)\n",
      "/Users/alexialuizinho/anaconda3/envs/bioinformatics/lib/python3.10/site-packages/statsmodels/tsa/base/tsa_model.py:471: ValueWarning: No frequency information was provided, so inferred frequency D will be used.\n",
      "  self._init_dates(dates, freq)\n",
      "/Users/alexialuizinho/anaconda3/envs/bioinformatics/lib/python3.10/site-packages/statsmodels/tsa/base/tsa_model.py:471: ValueWarning: No frequency information was provided, so inferred frequency D will be used.\n",
      "  self._init_dates(dates, freq)\n",
      "/Users/alexialuizinho/anaconda3/envs/bioinformatics/lib/python3.10/site-packages/statsmodels/tsa/base/tsa_model.py:471: ValueWarning: No frequency information was provided, so inferred frequency D will be used.\n",
      "  self._init_dates(dates, freq)\n",
      "/Users/alexialuizinho/anaconda3/envs/bioinformatics/lib/python3.10/site-packages/statsmodels/tsa/base/tsa_model.py:471: ValueWarning: No frequency information was provided, so inferred frequency D will be used.\n",
      "  self._init_dates(dates, freq)\n",
      "/Users/alexialuizinho/anaconda3/envs/bioinformatics/lib/python3.10/site-packages/statsmodels/tsa/base/tsa_model.py:471: ValueWarning: No frequency information was provided, so inferred frequency D will be used.\n",
      "  self._init_dates(dates, freq)\n",
      "/Users/alexialuizinho/anaconda3/envs/bioinformatics/lib/python3.10/site-packages/statsmodels/tsa/base/tsa_model.py:471: ValueWarning: No frequency information was provided, so inferred frequency D will be used.\n",
      "  self._init_dates(dates, freq)\n",
      "/Users/alexialuizinho/anaconda3/envs/bioinformatics/lib/python3.10/site-packages/statsmodels/tsa/base/tsa_model.py:471: ValueWarning: No frequency information was provided, so inferred frequency D will be used.\n",
      "  self._init_dates(dates, freq)\n",
      "/Users/alexialuizinho/anaconda3/envs/bioinformatics/lib/python3.10/site-packages/statsmodels/tsa/base/tsa_model.py:471: ValueWarning: No frequency information was provided, so inferred frequency D will be used.\n",
      "  self._init_dates(dates, freq)\n",
      "/Users/alexialuizinho/anaconda3/envs/bioinformatics/lib/python3.10/site-packages/statsmodels/tsa/base/tsa_model.py:471: ValueWarning: No frequency information was provided, so inferred frequency D will be used.\n",
      "  self._init_dates(dates, freq)\n",
      "/Users/alexialuizinho/anaconda3/envs/bioinformatics/lib/python3.10/site-packages/statsmodels/tsa/base/tsa_model.py:471: ValueWarning: No frequency information was provided, so inferred frequency D will be used.\n",
      "  self._init_dates(dates, freq)\n",
      "/Users/alexialuizinho/anaconda3/envs/bioinformatics/lib/python3.10/site-packages/statsmodels/tsa/base/tsa_model.py:471: ValueWarning: No frequency information was provided, so inferred frequency D will be used.\n",
      "  self._init_dates(dates, freq)\n",
      "/Users/alexialuizinho/anaconda3/envs/bioinformatics/lib/python3.10/site-packages/statsmodels/tsa/statespace/sarimax.py:978: UserWarning: Non-invertible starting MA parameters found. Using zeros as starting parameters.\n",
      "  warn('Non-invertible starting MA parameters found.'\n",
      "/Users/alexialuizinho/anaconda3/envs/bioinformatics/lib/python3.10/site-packages/statsmodels/tsa/base/tsa_model.py:471: ValueWarning: No frequency information was provided, so inferred frequency D will be used.\n",
      "  self._init_dates(dates, freq)\n",
      "/Users/alexialuizinho/anaconda3/envs/bioinformatics/lib/python3.10/site-packages/statsmodels/tsa/base/tsa_model.py:471: ValueWarning: No frequency information was provided, so inferred frequency D will be used.\n",
      "  self._init_dates(dates, freq)\n",
      "/Users/alexialuizinho/anaconda3/envs/bioinformatics/lib/python3.10/site-packages/statsmodels/tsa/base/tsa_model.py:471: ValueWarning: No frequency information was provided, so inferred frequency D will be used.\n",
      "  self._init_dates(dates, freq)\n",
      "/Users/alexialuizinho/anaconda3/envs/bioinformatics/lib/python3.10/site-packages/statsmodels/tsa/base/tsa_model.py:471: ValueWarning: No frequency information was provided, so inferred frequency D will be used.\n",
      "  self._init_dates(dates, freq)\n",
      "/Users/alexialuizinho/anaconda3/envs/bioinformatics/lib/python3.10/site-packages/statsmodels/tsa/base/tsa_model.py:471: ValueWarning: No frequency information was provided, so inferred frequency D will be used.\n",
      "  self._init_dates(dates, freq)\n",
      "/Users/alexialuizinho/anaconda3/envs/bioinformatics/lib/python3.10/site-packages/statsmodels/tsa/base/tsa_model.py:471: ValueWarning: No frequency information was provided, so inferred frequency D will be used.\n",
      "  self._init_dates(dates, freq)\n",
      "/Users/alexialuizinho/anaconda3/envs/bioinformatics/lib/python3.10/site-packages/statsmodels/tsa/base/tsa_model.py:471: ValueWarning: No frequency information was provided, so inferred frequency D will be used.\n",
      "  self._init_dates(dates, freq)\n",
      "/Users/alexialuizinho/anaconda3/envs/bioinformatics/lib/python3.10/site-packages/statsmodels/tsa/base/tsa_model.py:471: ValueWarning: No frequency information was provided, so inferred frequency D will be used.\n",
      "  self._init_dates(dates, freq)\n",
      "/Users/alexialuizinho/anaconda3/envs/bioinformatics/lib/python3.10/site-packages/statsmodels/tsa/base/tsa_model.py:471: ValueWarning: No frequency information was provided, so inferred frequency D will be used.\n",
      "  self._init_dates(dates, freq)\n",
      "/Users/alexialuizinho/anaconda3/envs/bioinformatics/lib/python3.10/site-packages/statsmodels/tsa/base/tsa_model.py:471: ValueWarning: No frequency information was provided, so inferred frequency D will be used.\n",
      "  self._init_dates(dates, freq)\n",
      "/Users/alexialuizinho/anaconda3/envs/bioinformatics/lib/python3.10/site-packages/statsmodels/tsa/base/tsa_model.py:471: ValueWarning: No frequency information was provided, so inferred frequency D will be used.\n",
      "  self._init_dates(dates, freq)\n",
      "/Users/alexialuizinho/anaconda3/envs/bioinformatics/lib/python3.10/site-packages/statsmodels/tsa/base/tsa_model.py:471: ValueWarning: No frequency information was provided, so inferred frequency D will be used.\n",
      "  self._init_dates(dates, freq)\n",
      "/Users/alexialuizinho/anaconda3/envs/bioinformatics/lib/python3.10/site-packages/statsmodels/tsa/base/tsa_model.py:471: ValueWarning: No frequency information was provided, so inferred frequency D will be used.\n",
      "  self._init_dates(dates, freq)\n",
      "/Users/alexialuizinho/anaconda3/envs/bioinformatics/lib/python3.10/site-packages/statsmodels/tsa/base/tsa_model.py:471: ValueWarning: No frequency information was provided, so inferred frequency D will be used.\n",
      "  self._init_dates(dates, freq)\n",
      "/Users/alexialuizinho/anaconda3/envs/bioinformatics/lib/python3.10/site-packages/statsmodels/tsa/base/tsa_model.py:471: ValueWarning: No frequency information was provided, so inferred frequency D will be used.\n",
      "  self._init_dates(dates, freq)\n",
      "/Users/alexialuizinho/anaconda3/envs/bioinformatics/lib/python3.10/site-packages/statsmodels/tsa/base/tsa_model.py:471: ValueWarning: No frequency information was provided, so inferred frequency D will be used.\n",
      "  self._init_dates(dates, freq)\n",
      "/Users/alexialuizinho/anaconda3/envs/bioinformatics/lib/python3.10/site-packages/statsmodels/tsa/base/tsa_model.py:471: ValueWarning: No frequency information was provided, so inferred frequency D will be used.\n",
      "  self._init_dates(dates, freq)\n",
      "/Users/alexialuizinho/anaconda3/envs/bioinformatics/lib/python3.10/site-packages/statsmodels/tsa/base/tsa_model.py:471: ValueWarning: No frequency information was provided, so inferred frequency D will be used.\n",
      "  self._init_dates(dates, freq)\n",
      "/Users/alexialuizinho/anaconda3/envs/bioinformatics/lib/python3.10/site-packages/statsmodels/tsa/base/tsa_model.py:471: ValueWarning: No frequency information was provided, so inferred frequency D will be used.\n",
      "  self._init_dates(dates, freq)\n",
      "/Users/alexialuizinho/anaconda3/envs/bioinformatics/lib/python3.10/site-packages/statsmodels/tsa/base/tsa_model.py:471: ValueWarning: No frequency information was provided, so inferred frequency D will be used.\n",
      "  self._init_dates(dates, freq)\n",
      "/Users/alexialuizinho/anaconda3/envs/bioinformatics/lib/python3.10/site-packages/statsmodels/tsa/base/tsa_model.py:471: ValueWarning: No frequency information was provided, so inferred frequency D will be used.\n",
      "  self._init_dates(dates, freq)\n",
      "/Users/alexialuizinho/anaconda3/envs/bioinformatics/lib/python3.10/site-packages/statsmodels/tsa/base/tsa_model.py:471: ValueWarning: No frequency information was provided, so inferred frequency D will be used.\n",
      "  self._init_dates(dates, freq)\n",
      "/Users/alexialuizinho/anaconda3/envs/bioinformatics/lib/python3.10/site-packages/statsmodels/tsa/base/tsa_model.py:471: ValueWarning: No frequency information was provided, so inferred frequency D will be used.\n",
      "  self._init_dates(dates, freq)\n",
      "/Users/alexialuizinho/anaconda3/envs/bioinformatics/lib/python3.10/site-packages/statsmodels/tsa/base/tsa_model.py:471: ValueWarning: No frequency information was provided, so inferred frequency D will be used.\n",
      "  self._init_dates(dates, freq)\n",
      "/Users/alexialuizinho/anaconda3/envs/bioinformatics/lib/python3.10/site-packages/statsmodels/tsa/base/tsa_model.py:471: ValueWarning: No frequency information was provided, so inferred frequency D will be used.\n",
      "  self._init_dates(dates, freq)\n",
      "/Users/alexialuizinho/anaconda3/envs/bioinformatics/lib/python3.10/site-packages/statsmodels/tsa/base/tsa_model.py:471: ValueWarning: No frequency information was provided, so inferred frequency D will be used.\n",
      "  self._init_dates(dates, freq)\n",
      "/Users/alexialuizinho/anaconda3/envs/bioinformatics/lib/python3.10/site-packages/statsmodels/tsa/base/tsa_model.py:471: ValueWarning: No frequency information was provided, so inferred frequency D will be used.\n",
      "  self._init_dates(dates, freq)\n"
     ]
    }
   ],
   "source": [
    "\n",
    "for i, participant in enumerate(arima_df['id'].unique()):\n",
    "    \n",
    "    dfper = arima_df[arima_df['id']==participant].mood\n",
    "    pvalue = pval(dfper)\n",
    "    p,d,q= get_orders(dfper)\n",
    "    train,test = testtrain(dfper)\n",
    "    orders = [p,d,q]\n",
    "\n",
    "    model=ARIMA(train,order=(p,d,q))\n",
    "    model=model.fit()\n",
    "    summary = model.summary()\n",
    "\n",
    "    preds = predict(model)\n",
    "\n",
    "    test.mean()\n",
    "    rmse=sqrt(mean_squared_error(preds,test))\n",
    "\n",
    "    results.loc[i] = [participant, str(list(test)), str(list(preds)), str(orders), rmse]\n"
   ]
  },
  {
   "cell_type": "code",
   "execution_count": 96,
   "metadata": {},
   "outputs": [],
   "source": [
    "results.to_csv('arima_output.csv')"
   ]
  },
  {
   "cell_type": "markdown",
   "metadata": {
    "collapsed": false,
    "pycharm": {
     "name": "#%%\n"
    }
   },
   "source": [
    "%%capture\n",
    "for participant in arima_df['id'].unique():\n",
    "\n",
    "    participant_data = arima_df[arima_df['id'] == participant]\n",
    "\n",
    "    participant_data.reset_index(drop=True, inplace=True)\n",
    "\n",
    "    # Calculate the index of the last 6 days\n",
    "    last_6_days_index = participant_data.index[-6:]\n",
    "\n",
    "    # Get the last 6 days of mood measurements\n",
    "    mood_last_6_days = participant_data.loc[last_6_days_index, 'mood']\n",
    "\n",
    "    # Train an ARIMA model on the last 6 days of mood measurements\n",
    "    model = ARIMA(mood_last_6_days, order=(1, 1, 3))\n",
    "    model_fit = model.fit()\n",
    "\n",
    "    # Forecast the mood for the next day\n",
    "    forecast = model_fit.forecast(steps=1)\n",
    "    print(f\"Forecasted mood for participant {participant}: {forecast.iloc[0]}\")\n",
    "    results = results.append({'id': participant, 'predicted_mood': forecast.iloc[0]}, ignore_index=True)"
   ]
  }
 ],
 "metadata": {
  "kernelspec": {
   "display_name": "Python 3",
   "language": "python",
   "name": "python3"
  },
  "language_info": {
   "codemirror_mode": {
    "name": "ipython",
    "version": 3
   },
   "file_extension": ".py",
   "mimetype": "text/x-python",
   "name": "python",
   "nbconvert_exporter": "python",
   "pygments_lexer": "ipython3",
   "version": "3.10.10"
  }
 },
 "nbformat": 4,
 "nbformat_minor": 0
}
