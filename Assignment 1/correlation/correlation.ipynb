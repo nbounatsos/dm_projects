{
 "cells": [
  {
   "cell_type": "code",
   "execution_count": 13,
   "metadata": {},
   "outputs": [],
   "source": [
    "import pandas as pd "
   ]
  },
  {
   "cell_type": "code",
   "execution_count": 14,
   "metadata": {},
   "outputs": [],
   "source": [
    "arousal = pd.read_csv(\"result_arousal.csv\", index_col=0)\n",
    "mood = pd.read_csv(\"result_mood.csv\", index_col=0)\n",
    "valence = pd.read_csv(\"result_valence.csv\", index_col=0)\n"
   ]
  },
  {
   "cell_type": "code",
   "execution_count": 15,
   "metadata": {},
   "outputs": [
    {
     "name": "stderr",
     "output_type": "stream",
     "text": [
      "/var/folders/9j/5bfcvwzx4dq156jh1d694vk80000gn/T/ipykernel_1926/1816408065.py:1: FutureWarning: The default value of numeric_only in DataFrame.corr is deprecated. In a future version, it will default to False. Select only valid columns or specify the value of numeric_only to silence this warning.\n",
      "  Acorr = pd.DataFrame(arousal.corr())\n",
      "/var/folders/9j/5bfcvwzx4dq156jh1d694vk80000gn/T/ipykernel_1926/1816408065.py:2: FutureWarning: The default value of numeric_only in DataFrame.corr is deprecated. In a future version, it will default to False. Select only valid columns or specify the value of numeric_only to silence this warning.\n",
      "  Mcorr = pd.DataFrame(mood.corr())\n",
      "/var/folders/9j/5bfcvwzx4dq156jh1d694vk80000gn/T/ipykernel_1926/1816408065.py:3: FutureWarning: The default value of numeric_only in DataFrame.corr is deprecated. In a future version, it will default to False. Select only valid columns or specify the value of numeric_only to silence this warning.\n",
      "  Vcorr = pd.DataFrame(valence.corr())\n"
     ]
    }
   ],
   "source": [
    "Acorr = pd.DataFrame(arousal.corr())\n",
    "Mcorr = pd.DataFrame(mood.corr())\n",
    "Vcorr = pd.DataFrame(valence.corr())"
   ]
  },
  {
   "cell_type": "code",
   "execution_count": 16,
   "metadata": {},
   "outputs": [],
   "source": [
    "Acorr.to_csv(r\"correlation matrices/correlation_arousal.csv\")\n",
    "Mcorr.to_csv(r\"correlation matrices/correlation_mood.csv\")\n",
    "Vcorr.to_csv(r\"correlation matrices/correlation_valence.csv\")"
   ]
  },
  {
   "cell_type": "code",
   "execution_count": 17,
   "metadata": {},
   "outputs": [
    {
     "name": "stderr",
     "output_type": "stream",
     "text": [
      "/var/folders/9j/5bfcvwzx4dq156jh1d694vk80000gn/T/ipykernel_1926/3375608721.py:2: FutureWarning: The default value of numeric_only in DataFrame.corr is deprecated. In a future version, it will default to False. Select only valid columns or specify the value of numeric_only to silence this warning.\n",
      "  Pcorr = pd.DataFrame(psych.corr())\n"
     ]
    }
   ],
   "source": [
    "psych = pd.read_csv(\"result_psych.csv\", index_col=0)\n",
    "Pcorr = pd.DataFrame(psych.corr())\n",
    "Pcorr.to_csv(r\"correlation matrices/correlation_psych.csv\")"
   ]
  },
  {
   "cell_type": "code",
   "execution_count": null,
   "metadata": {},
   "outputs": [],
   "source": []
  }
 ],
 "metadata": {
  "kernelspec": {
   "display_name": "bioinformatics",
   "language": "python",
   "name": "python3"
  },
  "language_info": {
   "codemirror_mode": {
    "name": "ipython",
    "version": 3
   },
   "file_extension": ".py",
   "mimetype": "text/x-python",
   "name": "python",
   "nbconvert_exporter": "python",
   "pygments_lexer": "ipython3",
   "version": "3.10.10"
  },
  "orig_nbformat": 4
 },
 "nbformat": 4,
 "nbformat_minor": 2
}
