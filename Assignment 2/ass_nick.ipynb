{
 "cells": [
  {
   "cell_type": "code",
   "execution_count": 41,
   "outputs": [],
   "source": [
    "%reset -f"
   ],
   "metadata": {
    "collapsed": false,
    "pycharm": {
     "name": "#%%\n"
    }
   }
  },
  {
   "cell_type": "code",
   "execution_count": 42,
   "outputs": [],
   "source": [
    "import pandas as pd\n",
    "import matplotlib.pyplot as plt\n",
    "import seaborn as sns\n",
    "%matplotlib inline"
   ],
   "metadata": {
    "collapsed": false,
    "pycharm": {
     "name": "#%%\n"
    }
   }
  },
  {
   "cell_type": "code",
   "execution_count": 43,
   "outputs": [],
   "source": [
    "df = pd.read_csv(\"training_set_VU_DM.csv\", index_col=0)\n",
    "df_test = pd.read_csv(\"test_set_VU_DM.csv\", index_col=0)"
   ],
   "metadata": {
    "collapsed": false,
    "pycharm": {
     "name": "#%%\n"
    }
   }
  },
  {
   "cell_type": "markdown",
   "source": [
    "# 1.Business Understanding"
   ],
   "metadata": {
    "collapsed": false,
    "pycharm": {
     "name": "#%% md\n"
    }
   }
  },
  {
   "cell_type": "markdown",
   "source": [
    "Blah blah"
   ],
   "metadata": {
    "collapsed": false,
    "pycharm": {
     "name": "#%% md\n"
    }
   }
  },
  {
   "cell_type": "markdown",
   "source": [
    "# 2. EDA"
   ],
   "metadata": {
    "collapsed": false,
    "pycharm": {
     "name": "#%% md\n"
    }
   }
  },
  {
   "cell_type": "markdown",
   "source": [
    "## Descriptive Statistics\n"
   ],
   "metadata": {
    "collapsed": false,
    "pycharm": {
     "name": "#%% md\n"
    }
   }
  },
  {
   "cell_type": "code",
   "execution_count": 44,
   "outputs": [],
   "source": [
    "# # Print the descriptive statistics for all numeric columns\n",
    "# print(X.describe())\n",
    "#\n",
    "# # Print the frequency of each category for all categorical columns\n",
    "# for col in X.select_dtypes(include=['object']):\n",
    "#     print(X[col].value_counts())"
   ],
   "metadata": {
    "collapsed": false,
    "pycharm": {
     "name": "#%%\n"
    }
   }
  },
  {
   "cell_type": "markdown",
   "source": [
    "## Distribution of Variables"
   ],
   "metadata": {
    "collapsed": false,
    "pycharm": {
     "name": "#%% md\n"
    }
   }
  },
  {
   "cell_type": "code",
   "execution_count": 45,
   "outputs": [],
   "source": [
    "# for col in X.select_dtypes(include=['int64', 'float64']):\n",
    "#     plt.figure(figsize=(10, 5))\n",
    "#     sns.histplot(X[col], kde=True)\n",
    "#     plt.title(f\"Distribution of {col}\")\n",
    "#     plt.show()"
   ],
   "metadata": {
    "collapsed": false,
    "pycharm": {
     "name": "#%%\n"
    }
   }
  },
  {
   "cell_type": "markdown",
   "source": [
    "## Missing Values"
   ],
   "metadata": {
    "collapsed": false,
    "pycharm": {
     "name": "#%% md\n"
    }
   }
  },
  {
   "cell_type": "code",
   "execution_count": 46,
   "outputs": [],
   "source": [
    "# print(X.isnull().sum())"
   ],
   "metadata": {
    "collapsed": false,
    "pycharm": {
     "name": "#%%\n"
    }
   }
  },
  {
   "cell_type": "markdown",
   "source": [
    "## Correlation Analysis"
   ],
   "metadata": {
    "collapsed": false,
    "pycharm": {
     "name": "#%% md\n"
    }
   }
  },
  {
   "cell_type": "code",
   "execution_count": 47,
   "outputs": [],
   "source": [
    "# corr_matrix = X.corr()\n",
    "# plt.figure(figsize=(30, 15))\n",
    "# sns.heatmap(corr_matrix, annot=True, fmt=\".2f\")\n",
    "# plt.show()"
   ],
   "metadata": {
    "collapsed": false,
    "pycharm": {
     "name": "#%%\n"
    }
   }
  },
  {
   "cell_type": "markdown",
   "source": [
    "## Visualize User Behavior"
   ],
   "metadata": {
    "collapsed": false,
    "pycharm": {
     "name": "#%% md\n"
    }
   }
  },
  {
   "cell_type": "code",
   "execution_count": 48,
   "outputs": [],
   "source": [
    "# # Example: Click-through rate by position\n",
    "# click_rate_by_position = X.groupby('position')['click_bool'].mean()\n",
    "# plt.figure(figsize=(10, 5))\n",
    "# click_rate_by_position.plot(kind='bar')\n",
    "# plt.title(\"Click-through Rate by Position\")\n",
    "# plt.show()"
   ],
   "metadata": {
    "collapsed": false,
    "pycharm": {
     "name": "#%%\n"
    }
   }
  },
  {
   "cell_type": "markdown",
   "source": [
    "## Temporal Analysis"
   ],
   "metadata": {
    "collapsed": false,
    "pycharm": {
     "name": "#%% md\n"
    }
   }
  },
  {
   "cell_type": "code",
   "execution_count": 49,
   "outputs": [],
   "source": [
    "# # Assuming 'date_time' is a string, convert it to a datetime object\n",
    "# X['date_time'] = pd.to_datetime(X['date_time'])\n",
    "#\n",
    "# # Example: Click-through rate by hour of the day\n",
    "# X['hour'] = X['date_time'].dt.hour\n",
    "# click_rate_by_hour = X.groupby('hour')['click_bool'].mean()\n",
    "# plt.figure(figsize=(10, 5))\n",
    "# click_rate_by_hour.plot(kind='line')\n",
    "# plt.title(\"Click-through Rate by Hour of the Day\")\n",
    "# plt.show()"
   ],
   "metadata": {
    "collapsed": false,
    "pycharm": {
     "name": "#%%\n"
    }
   }
  },
  {
   "cell_type": "markdown",
   "source": [
    "## Investigate the Target Variable"
   ],
   "metadata": {
    "collapsed": false,
    "pycharm": {
     "name": "#%% md\n"
    }
   }
  },
  {
   "cell_type": "code",
   "execution_count": 50,
   "outputs": [],
   "source": [
    "# # Print the frequency of each class in the target variable\n",
    "# print(X['click_bool'].value_counts())\n",
    "#\n",
    "# # Plot the distribution of the target variable\n",
    "# plt.figure(figsize=(10, 5))\n",
    "# sns.countplot(x='click_bool', data=X)\n",
    "# plt.title(\"Distribution of Clicks\")\n",
    "# plt.show()"
   ],
   "metadata": {
    "collapsed": false,
    "pycharm": {
     "name": "#%%\n"
    }
   }
  },
  {
   "cell_type": "markdown",
   "source": [],
   "metadata": {
    "collapsed": false,
    "pycharm": {
     "name": "#%% md\n"
    }
   }
  },
  {
   "cell_type": "markdown",
   "source": [
    "# 2.Data preparation"
   ],
   "metadata": {
    "collapsed": false,
    "pycharm": {
     "name": "#%% md\n"
    }
   }
  },
  {
   "cell_type": "markdown",
   "source": [
    "### Break down date to more features - year - month - day - hour"
   ],
   "metadata": {
    "collapsed": false,
    "pycharm": {
     "name": "#%% md\n"
    }
   }
  },
  {
   "cell_type": "code",
   "execution_count": 51,
   "outputs": [],
   "source": [
    "df['date_time'] = pd.to_datetime(df['date_time'])\n",
    "df['year'] = df['date_time'].dt.year\n",
    "df['month'] = df['date_time'].dt.month\n",
    "df['day'] = df['date_time'].dt.day\n",
    "df['hour'] = df['date_time'].dt.hour\n",
    "df['day_string'] = df['date_time'].dt.day_name()\n",
    "\n",
    "\n",
    "df_test['date_time'] = pd.to_datetime(df_test['date_time'])\n",
    "df_test['year'] = df_test['date_time'].dt.year\n",
    "df_test['month'] = df_test['date_time'].dt.month\n",
    "df_test['day'] = df_test['date_time'].dt.day\n",
    "df_test['hour'] = df_test['date_time'].dt.hour\n",
    "df_test['day_string'] = df_test['date_time'].dt.day_name()\n",
    "# X.drop(['date_time'], axis = 1, inplace=True)"
   ],
   "metadata": {
    "collapsed": false,
    "pycharm": {
     "name": "#%%\n"
    }
   }
  },
  {
   "cell_type": "code",
   "execution_count": 52,
   "outputs": [
    {
     "data": {
      "text/plain": "<Figure size 720x360 with 1 Axes>",
      "image/png": "[encoded data removed]"
     },
     "metadata": {
      "needs_background": "light"
     },
     "output_type": "display_data"
    }
   ],
   "source": [
    "click_rate_by_hour = df.groupby('day_string')['click_bool'].mean()\n",
    "plt.figure(figsize=(10, 5))\n",
    "click_rate_by_hour.plot(kind='line')\n",
    "plt.title(\"Click-through Rate by Day\")\n",
    "plt.xlabel(\"Day\")\n",
    "plt.show()"
   ],
   "metadata": {
    "collapsed": false,
    "pycharm": {
     "name": "#%%\n"
    }
   }
  },
  {
   "cell_type": "markdown",
   "source": [
    "### Convert competitor info to aggregated_info"
   ],
   "metadata": {
    "collapsed": false,
    "pycharm": {
     "name": "#%% md\n"
    }
   }
  },
  {
   "cell_type": "code",
   "execution_count": 53,
   "outputs": [],
   "source": [
    "rate_cols = ['comp1_rate', 'comp2_rate', 'comp3_rate', 'comp4_rate', 'comp5_rate', 'comp6_rate', 'comp7_rate', 'comp8_rate']\n",
    "\n",
    "inv_cols = ['comp1_inv', 'comp2_inv', 'comp3_inv', 'comp4_inv', 'comp5_inv', 'comp6_inv', 'comp7_inv', 'comp8_inv']\n",
    "\n",
    "percent_diff_cols = ['comp1_rate_percent_diff', 'comp2_rate_percent_diff', 'comp3_rate_percent_diff', 'comp4_rate_percent_diff', 'comp5_rate_percent_diff', 'comp6_rate_percent_diff', 'comp7_rate_percent_diff', 'comp8_rate_percent_diff']\n",
    "\n",
    "df['avg_rate'] = df[rate_cols].mean(axis=1)\n",
    "df['avg_inv'] = df[inv_cols].mean(axis=1)\n",
    "df['avg_rate_percent_diff'] = df[percent_diff_cols].mean(axis=1)\n",
    "\n",
    "df_test['avg_rate'] = df_test[rate_cols].mean(axis=1)\n",
    "df_test['avg_inv'] = df_test[inv_cols].mean(axis=1)\n",
    "df_test['avg_rate_percent_diff'] = df_test[percent_diff_cols].mean(axis=1)"
   ],
   "metadata": {
    "collapsed": false,
    "pycharm": {
     "name": "#%%\n"
    }
   }
  },
  {
   "cell_type": "code",
   "execution_count": 54,
   "outputs": [],
   "source": [
    "df.drop(columns=rate_cols + inv_cols + percent_diff_cols, inplace=True)\n",
    "df_test.drop(columns=rate_cols + inv_cols + percent_diff_cols, inplace=True)"
   ],
   "metadata": {
    "collapsed": false,
    "pycharm": {
     "name": "#%%\n"
    }
   }
  },
  {
   "cell_type": "markdown",
   "source": [
    "### Imputation"
   ],
   "metadata": {
    "collapsed": false,
    "pycharm": {
     "name": "#%% md\n"
    }
   }
  },
  {
   "cell_type": "code",
   "execution_count": 55,
   "outputs": [
    {
     "name": "stdout",
     "output_type": "stream",
     "text": [
      "date_time                            0\n",
      "site_id                              0\n",
      "visitor_location_country_id          0\n",
      "visitor_hist_starrating        4706481\n",
      "visitor_hist_adr_usd           4705359\n",
      "prop_country_id                      0\n",
      "prop_id                              0\n",
      "prop_starrating                      0\n",
      "prop_review_score                 7364\n",
      "prop_brand_bool                      0\n",
      "prop_location_score1                 0\n",
      "prop_location_score2           1090348\n",
      "prop_log_historical_price            0\n",
      "position                             0\n",
      "price_usd                            0\n",
      "promotion_flag                       0\n",
      "srch_destination_id                  0\n",
      "srch_length_of_stay                  0\n",
      "srch_booking_window                  0\n",
      "srch_adults_count                    0\n",
      "srch_children_count                  0\n",
      "srch_room_count                      0\n",
      "srch_saturday_night_bool             0\n",
      "srch_query_affinity_score      4640941\n",
      "orig_destination_distance      1607782\n",
      "random_bool                          0\n",
      "click_bool                           0\n",
      "gross_bookings_usd             4819957\n",
      "booking_bool                         0\n",
      "year                                 0\n",
      "month                                0\n",
      "day                                  0\n",
      "hour                                 0\n",
      "day_string                           0\n",
      "avg_rate                       1716808\n",
      "avg_inv                        1605973\n",
      "avg_rate_percent_diff          3377857\n",
      "dtype: int64\n"
     ]
    }
   ],
   "source": [
    "print(df.isnull().sum())"
   ],
   "metadata": {
    "collapsed": false,
    "pycharm": {
     "name": "#%%\n"
    }
   }
  },
  {
   "cell_type": "code",
   "execution_count": 56,
   "outputs": [],
   "source": [
    "drop_list = ['visitor_hist_starrating', 'visitor_hist_adr_usd', 'srch_query_affinity_score', 'gross_bookings_usd']\n",
    "zero_list = ['avg_rate', 'avg_inv', 'avg_rate_percent_diff']\n",
    "mean_list = ['prop_location_score2', 'prop_review_score', 'orig_destination_distance']"
   ],
   "metadata": {
    "collapsed": false,
    "pycharm": {
     "name": "#%%\n"
    }
   }
  },
  {
   "cell_type": "code",
   "execution_count": 57,
   "outputs": [],
   "source": [
    "df.drop(drop_list, axis=1, inplace=True)\n",
    "\n",
    "for col in zero_list:\n",
    "    df[col] = df[col].fillna(0)\n",
    "    df_test[col] = df_test[col].fillna(0)\n",
    "\n",
    "for col in mean_list:\n",
    "    df[col] = df[col].fillna(df[col].mean())\n",
    "    df_test[col] = df_test[col].fillna(df_test[col].mean())"
   ],
   "metadata": {
    "collapsed": false,
    "pycharm": {
     "name": "#%%\n"
    }
   }
  },
  {
   "cell_type": "code",
   "execution_count": 58,
   "outputs": [
    {
     "name": "stdout",
     "output_type": "stream",
     "text": [
      "date_time                      0\n",
      "site_id                        0\n",
      "visitor_location_country_id    0\n",
      "prop_country_id                0\n",
      "prop_id                        0\n",
      "prop_starrating                0\n",
      "prop_review_score              0\n",
      "prop_brand_bool                0\n",
      "prop_location_score1           0\n",
      "prop_location_score2           0\n",
      "prop_log_historical_price      0\n",
      "position                       0\n",
      "price_usd                      0\n",
      "promotion_flag                 0\n",
      "srch_destination_id            0\n",
      "srch_length_of_stay            0\n",
      "srch_booking_window            0\n",
      "srch_adults_count              0\n",
      "srch_children_count            0\n",
      "srch_room_count                0\n",
      "srch_saturday_night_bool       0\n",
      "orig_destination_distance      0\n",
      "random_bool                    0\n",
      "click_bool                     0\n",
      "booking_bool                   0\n",
      "year                           0\n",
      "month                          0\n",
      "day                            0\n",
      "hour                           0\n",
      "day_string                     0\n",
      "avg_rate                       0\n",
      "avg_inv                        0\n",
      "avg_rate_percent_diff          0\n",
      "dtype: int64\n"
     ]
    }
   ],
   "source": [
    "print(df.isnull().sum())"
   ],
   "metadata": {
    "collapsed": false,
    "pycharm": {
     "name": "#%%\n"
    }
   }
  },
  {
   "cell_type": "markdown",
   "source": [
    "# Modeling and evaluation"
   ],
   "metadata": {
    "collapsed": false,
    "pycharm": {
     "name": "#%% md\n"
    }
   }
  },
  {
   "cell_type": "markdown",
   "source": [
    "## Model 1 - predict what hotels properties listed as a result of a hotel search a user is most likely to click on"
   ],
   "metadata": {
    "collapsed": false,
    "pycharm": {
     "name": "#%% md\n"
    }
   }
  },
  {
   "cell_type": "code",
   "execution_count": 59,
   "outputs": [
    {
     "name": "stdout",
     "output_type": "stream",
     "text": [
      "Best parameters: {'n_epochs': 10, 'lr_all': 0.002, 'reg_all': 0.6}\n"
     ]
    }
   ],
   "source": [
    "from surprise import SVD\n",
    "from surprise import Dataset\n",
    "from surprise import Reader\n",
    "from surprise.model_selection import cross_validate, train_test_split, GridSearchCV\n",
    "\n",
    "df.reset_index(inplace=True)\n",
    "df.rename(columns={'index': 'srch_id'}, inplace=True)\n",
    "\n",
    "# Create relevance grades\n",
    "df['relevance'] = df['booking_bool'] * 5 + df['click_bool'] * (df['booking_bool'] == 0)\n",
    "\n",
    "# Prepare data for the SVD model\n",
    "reader = Reader(rating_scale=(0, 5))\n",
    "data = Dataset.load_from_df(df[['srch_id', 'prop_id', 'relevance']], reader)\n",
    "\n",
    "# Split data into training and test set\n",
    "trainset, testset = train_test_split(data, test_size=.25)\n",
    "\n",
    "# Define the parameter grid\n",
    "param_grid = {\n",
    "    'n_epochs': [5, 10, 20],  # number of iterations\n",
    "    'lr_all': [0.002, 0.005],  # learning rate\n",
    "    'reg_all': [0.4, 0.6]  # regularization term\n",
    "}\n",
    "\n",
    "# Use GridSearchCV to find the best parameters\n",
    "gs = GridSearchCV(SVD, param_grid, measures=['mae'], cv=3)\n",
    "\n",
    "# Fit the GridSearchCV object to the data\n",
    "gs.fit(data)\n",
    "\n",
    "# Get the best parameters\n",
    "best_params = gs.best_params['mae']\n",
    "\n",
    "# Print the best parameters\n",
    "print(f\"Best parameters: {best_params}\")\n",
    "\n",
    "# Now you can create a new SVD model with the best parameters\n",
    "model = SVD(**best_params)\n",
    "model.fit(trainset)\n",
    "\n",
    "# Test the model with the best parameters\n",
    "predictions = model.test(testset)"
   ],
   "metadata": {
    "collapsed": false,
    "pycharm": {
     "name": "#%%\n"
    }
   }
  },
  {
   "cell_type": "code",
   "execution_count": 60,
   "outputs": [
    {
     "name": "stdout",
     "output_type": "stream",
     "text": [
      "NDCG: 0.7475002780740226\n"
     ]
    }
   ],
   "source": [
    "from sklearn.metrics import ndcg_score\n",
    "import numpy as np\n",
    "\n",
    "# Convert predictions to arrays for scikit-learn\n",
    "y_true = np.array([pred.r_ui for pred in predictions])\n",
    "y_score = np.array([pred.est for pred in predictions])\n",
    "\n",
    "# Reshape arrays to 2D for scikit-learn\n",
    "y_true = np.reshape(y_true, (1, -1))\n",
    "y_score = np.reshape(y_score, (1, -1))\n",
    "\n",
    "# Calculate NDCG\n",
    "ndcg = ndcg_score(y_true, y_score)\n",
    "print(f\"NDCG: {ndcg}\")"
   ],
   "metadata": {
    "collapsed": false,
    "pycharm": {
     "name": "#%%\n"
    }
   }
  },
  {
   "cell_type": "code",
   "execution_count": 61,
   "outputs": [
    {
     "name": "stdout",
     "output_type": "stream",
     "text": [
      "         srch_id           date_time  site_id  visitor_location_country_id  \\\n",
      "0              1 2013-02-02 15:27:40       24                          216   \n",
      "1              1 2013-02-02 15:27:40       24                          216   \n",
      "2              1 2013-02-02 15:27:40       24                          216   \n",
      "3              1 2013-02-02 15:27:40       24                          216   \n",
      "4              1 2013-02-02 15:27:40       24                          216   \n",
      "...          ...                 ...      ...                          ...   \n",
      "4959178   332787 2013-05-21 11:06:37       24                          216   \n",
      "4959179   332787 2013-05-21 11:06:37       24                          216   \n",
      "4959180   332787 2013-05-21 11:06:37       24                          216   \n",
      "4959181   332787 2013-05-21 11:06:37       24                          216   \n",
      "4959182   332787 2013-05-21 11:06:37       24                          216   \n",
      "\n",
      "         visitor_hist_starrating  visitor_hist_adr_usd  prop_country_id  \\\n",
      "0                            NaN                   NaN              219   \n",
      "1                            NaN                   NaN              219   \n",
      "2                            NaN                   NaN              219   \n",
      "3                            NaN                   NaN              219   \n",
      "4                            NaN                   NaN              219   \n",
      "...                          ...                   ...              ...   \n",
      "4959178                      NaN                   NaN              117   \n",
      "4959179                      NaN                   NaN              117   \n",
      "4959180                      NaN                   NaN              117   \n",
      "4959181                      NaN                   NaN              117   \n",
      "4959182                      NaN                   NaN              117   \n",
      "\n",
      "         prop_id  prop_starrating  prop_review_score  ...  random_bool  year  \\\n",
      "0           3180                3                4.5  ...            0  2013   \n",
      "1           5543                3                4.5  ...            0  2013   \n",
      "2          14142                2                3.5  ...            0  2013   \n",
      "3          22393                3                4.5  ...            0  2013   \n",
      "4          24194                3                4.5  ...            0  2013   \n",
      "...          ...              ...                ...  ...          ...   ...   \n",
      "4959178    32019                4                3.5  ...            0  2013   \n",
      "4959179    33959                4                3.0  ...            0  2013   \n",
      "4959180    35240                4                0.0  ...            0  2013   \n",
      "4959181    94437                4                0.0  ...            0  2013   \n",
      "4959182    99509                4                4.5  ...            0  2013   \n",
      "\n",
      "         month  day  hour  day_string  avg_rate  avg_inv  \\\n",
      "0            2    2    15    Saturday      0.00      0.0   \n",
      "1            2    2    15    Saturday      0.00      0.0   \n",
      "2            2    2    15    Saturday      0.50      0.0   \n",
      "3            2    2    15    Saturday      0.00      0.0   \n",
      "4            2    2    15    Saturday      0.00      0.0   \n",
      "...        ...  ...   ...         ...       ...      ...   \n",
      "4959178      5   21    11     Tuesday      0.50      0.0   \n",
      "4959179      5   21    11     Tuesday      0.25      0.0   \n",
      "4959180      5   21    11     Tuesday      0.25      0.0   \n",
      "4959181      5   21    11     Tuesday      0.00      0.0   \n",
      "4959182      5   21    11     Tuesday      0.00      0.0   \n",
      "\n",
      "         avg_rate_percent_diff  predicted_relevance  \n",
      "0                     0.000000             0.159243  \n",
      "1                     0.000000             0.317109  \n",
      "2                    10.000000             0.122817  \n",
      "3                     0.000000             0.170873  \n",
      "4                     0.000000             0.126127  \n",
      "...                        ...                  ...  \n",
      "4959178              49.500000             0.133257  \n",
      "4959179              19.000000             0.227833  \n",
      "4959180              24.666667             0.141158  \n",
      "4959181              27.500000             0.166336  \n",
      "4959182              16.000000             0.212716  \n",
      "\n",
      "[4959183 rows x 35 columns]\n"
     ]
    }
   ],
   "source": [
    "# Prepare test data for the SVD model\n",
    "df_test.reset_index(inplace=True)\n",
    "df_test.rename(columns={'index': 'srch_id'}, inplace=True)\n",
    "\n",
    "# Use the trained model to predict relevance score for each search id and property id in the test set\n",
    "df_test['predicted_relevance'] = df_test.apply(lambda row: model.predict(row['srch_id'], row['prop_id']).est, axis=1)\n",
    "\n",
    "# Now df_test contains a new column 'predicted_relevance' with the predicted relevance scores\n",
    "print(df_test)"
   ],
   "metadata": {
    "collapsed": false,
    "pycharm": {
     "name": "#%%\n"
    }
   }
  },
  {
   "cell_type": "code",
   "execution_count": 63,
   "outputs": [],
   "source": [
    "# Sort dataframe by 'predicted_relevance' in descending order\n",
    "df_test_sorted = df_test.sort_values(by='predicted_relevance', ascending=False)\n",
    "\n",
    "# Select 'srch_id' and 'prop_id' columns and export to a .txt file\n",
    "df_test_sorted[['srch_id', 'prop_id']].to_csv('prediction.csv', index=False, header=['srch_id', 'prop_id'], sep=',')"
   ],
   "metadata": {
    "collapsed": false,
    "pycharm": {
     "name": "#%%\n"
    }
   }
  },
  {
   "cell_type": "markdown",
   "source": [],
   "metadata": {
    "collapsed": false,
    "pycharm": {
     "name": "#%% md\n"
    }
   }
  },
  {
   "cell_type": "markdown",
   "source": [],
   "metadata": {
    "collapsed": false,
    "pycharm": {
     "name": "#%% md\n"
    }
   }
  }
 ],
 "metadata": {
  "kernelspec": {
   "display_name": "Python 3",
   "language": "python",
   "name": "python3"
  },
  "language_info": {
   "codemirror_mode": {
    "name": "ipython",
    "version": 2
   },
   "file_extension": ".py",
   "mimetype": "text/x-python",
   "name": "python",
   "nbconvert_exporter": "python",
   "pygments_lexer": "ipython2",
   "version": "2.7.6"
  }
 },
 "nbformat": 4,
 "nbformat_minor": 0
}